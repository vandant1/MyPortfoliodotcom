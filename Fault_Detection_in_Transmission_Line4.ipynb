{
  "nbformat": 4,
  "nbformat_minor": 0,
  "metadata": {
    "colab": {
      "provenance": [],
      "gpuType": "T4",
      "authorship_tag": "ABX9TyNl3Yx2RDtVVpkowNVdsNDV",
      "include_colab_link": true
    },
    "kernelspec": {
      "name": "python3",
      "display_name": "Python 3"
    },
    "language_info": {
      "name": "python"
    },
    "accelerator": "GPU",
    "widgets": {
      "application/vnd.jupyter.widget-state+json": {
        "14e2a74ca27a4f79902659d52af35d9b": {
          "model_module": "catboost-widget",
          "model_name": "CatboostWidgetModel",
          "model_module_version": "^1.0.0",
          "state": {
            "_dom_classes": [],
            "_model_module": "catboost-widget",
            "_model_module_version": "^1.0.0",
            "_model_name": "CatboostWidgetModel",
            "_view_count": null,
            "_view_module": "catboost-widget",
            "_view_module_version": "^1.0.0",
            "_view_name": "CatboostWidgetView",
            "data": {
              "catboost_info": {
                "path": "catboost_info",
                "name": "catboost_info",
                "content": {
                  "passed_iterations": 999,
                  "total_iterations": 1000,
                  "data": {
                    "iterations": [
                      {
                        "learn": [
                          0.8201985028,
                          0.6705275839
                        ],
                        "iteration": 0,
                        "passed_time": 0.06581932418,
                        "remaining_time": 65.75350486,
                        "test": [
                          0.8163905937,
                          0.6708862691
                        ]
                      },
                      {
                        "learn": [
                          0.819342673,
                          0.6509714834
                        ],
                        "iteration": 1,
                        "passed_time": 0.08068678335,
                        "remaining_time": 40.26270489,
                        "test": [
                          0.8176665197,
                          0.6516983279
                        ]
                      },
                      {
                        "learn": [
                          0.8197927009,
                          0.6320715452
                        ],
                        "iteration": 2,
                        "passed_time": 0.09507446056,
                        "remaining_time": 31.59641239,
                        "test": [
                          0.8173853155,
                          0.6329686152
                        ]
                      },
                      {
                        "learn": [
                          0.8248874847,
                          0.6148104994
                        ],
                        "iteration": 3,
                        "passed_time": 0.1099131139,
                        "remaining_time": 27.36836535,
                        "test": [
                          0.8210959846,
                          0.6157730394
                        ]
                      },
                      {
                        "learn": [
                          0.8252658972,
                          0.5983635763
                        ],
                        "iteration": 4,
                        "passed_time": 0.1247531013,
                        "remaining_time": 24.82586717,
                        "test": [
                          0.8193667318,
                          0.5996806931
                        ]
                      },
                      {
                        "learn": [
                          0.8256294884,
                          0.5834086493
                        ],
                        "iteration": 5,
                        "passed_time": 0.1387724576,
                        "remaining_time": 22.98997047,
                        "test": [
                          0.8184810918,
                          0.5849319951
                        ]
                      },
                      {
                        "learn": [
                          0.8255915464,
                          0.5700714754
                        ],
                        "iteration": 6,
                        "passed_time": 0.1532622388,
                        "remaining_time": 21.74134331,
                        "test": [
                          0.8192156228,
                          0.5718664153
                        ]
                      },
                      {
                        "learn": [
                          0.8261616845,
                          0.5578453711
                        ],
                        "iteration": 7,
                        "passed_time": 0.1713664538,
                        "remaining_time": 21.24944027,
                        "test": [
                          0.8205335761,
                          0.5599628723
                        ]
                      },
                      {
                        "learn": [
                          0.8251699156,
                          0.5461874144
                        ],
                        "iteration": 8,
                        "passed_time": 0.1879176708,
                        "remaining_time": 20.69182353,
                        "test": [
                          0.821074971,
                          0.5486380103
                        ]
                      },
                      {
                        "learn": [
                          0.8249422635,
                          0.536480062
                        ],
                        "iteration": 9,
                        "passed_time": 0.2026332846,
                        "remaining_time": 20.06069518,
                        "test": [
                          0.821074971,
                          0.5391043517
                        ]
                      },
                      {
                        "learn": [
                          0.8245301775,
                          0.5264844308
                        ],
                        "iteration": 10,
                        "passed_time": 0.2172367925,
                        "remaining_time": 19.53156252,
                        "test": [
                          0.8206216441,
                          0.5293525227
                        ]
                      },
                      {
                        "learn": [
                          0.8254249571,
                          0.5172846022
                        ],
                        "iteration": 11,
                        "passed_time": 0.2316988802,
                        "remaining_time": 19.07654114,
                        "test": [
                          0.8218095021,
                          0.5201453275
                        ]
                      },
                      {
                        "learn": [
                          0.8262755106,
                          0.5082261879
                        ],
                        "iteration": 12,
                        "passed_time": 0.2462945603,
                        "remaining_time": 18.69944085,
                        "test": [
                          0.820684685,
                          0.5112214977
                        ]
                      },
                      {
                        "learn": [
                          0.8262755106,
                          0.5004924184
                        ],
                        "iteration": 13,
                        "passed_time": 0.2605265665,
                        "remaining_time": 18.3485139,
                        "test": [
                          0.820684685,
                          0.5036454643
                        ]
                      },
                      {
                        "learn": [
                          0.825890814,
                          0.4928876267
                        ],
                        "iteration": 14,
                        "passed_time": 0.2780826389,
                        "remaining_time": 18.26075995,
                        "test": [
                          0.8212470935,
                          0.4961027652
                        ]
                      },
                      {
                        "learn": [
                          0.8252184103,
                          0.4860106824
                        ],
                        "iteration": 15,
                        "passed_time": 0.2927131261,
                        "remaining_time": 18.00185726,
                        "test": [
                          0.8200592356,
                          0.4894636579
                        ]
                      },
                      {
                        "learn": [
                          0.8257274855,
                          0.4793121753
                        ],
                        "iteration": 16,
                        "passed_time": 0.3075976236,
                        "remaining_time": 17.78638024,
                        "test": [
                          0.8199501539,
                          0.482893976
                        ]
                      },
                      {
                        "learn": [
                          0.8260257454,
                          0.473128998
                        ],
                        "iteration": 17,
                        "passed_time": 0.3221327977,
                        "remaining_time": 17.57413374,
                        "test": [
                          0.8199501539,
                          0.4768548565
                        ]
                      },
                      {
                        "learn": [
                          0.8257327619,
                          0.4675893063
                        ],
                        "iteration": 18,
                        "passed_time": 0.3363844765,
                        "remaining_time": 17.36806165,
                        "test": [
                          0.8199501539,
                          0.4713255476
                        ]
                      },
                      {
                        "learn": [
                          0.8260257454,
                          0.461955297
                        ],
                        "iteration": 19,
                        "passed_time": 0.3525737611,
                        "remaining_time": 17.27611429,
                        "test": [
                          0.8199501539,
                          0.4657803114
                        ]
                      },
                      {
                        "learn": [
                          0.8262755106,
                          0.4570416593
                        ],
                        "iteration": 20,
                        "passed_time": 0.3669359194,
                        "remaining_time": 17.1062031,
                        "test": [
                          0.819799045,
                          0.4608587082
                        ]
                      },
                      {
                        "learn": [
                          0.8260257454,
                          0.4527665134
                        ],
                        "iteration": 21,
                        "passed_time": 0.3817765388,
                        "remaining_time": 16.9717025,
                        "test": [
                          0.8199501539,
                          0.456651931
                        ]
                      },
                      {
                        "learn": [
                          0.8264220024,
                          0.4483651576
                        ],
                        "iteration": 22,
                        "passed_time": 0.3965039265,
                        "remaining_time": 16.84279723,
                        "test": [
                          0.819799045,
                          0.4522942358
                        ]
                      },
                      {
                        "learn": [
                          0.8264272787,
                          0.4441749799
                        ],
                        "iteration": 23,
                        "passed_time": 0.4114301784,
                        "remaining_time": 16.73149392,
                        "test": [
                          0.820684685,
                          0.4480611742
                        ]
                      },
                      {
                        "learn": [
                          0.8262807869,
                          0.4405016709
                        ],
                        "iteration": 24,
                        "passed_time": 0.4287907714,
                        "remaining_time": 16.72284009,
                        "test": [
                          0.820684685,
                          0.4443266772
                        ]
                      },
                      {
                        "learn": [
                          0.8264272787,
                          0.4365313122
                        ],
                        "iteration": 25,
                        "passed_time": 0.4447078674,
                        "remaining_time": 16.65944088,
                        "test": [
                          0.820684685,
                          0.440244518
                        ]
                      },
                      {
                        "learn": [
                          0.8264272787,
                          0.4330408173
                        ],
                        "iteration": 26,
                        "passed_time": 0.4629860104,
                        "remaining_time": 16.684644,
                        "test": [
                          0.820684685,
                          0.4369058076
                        ]
                      },
                      {
                        "learn": [
                          0.8264652207,
                          0.4297703934
                        ],
                        "iteration": 27,
                        "passed_time": 0.4798234728,
                        "remaining_time": 16.65672913,
                        "test": [
                          0.8214192161,
                          0.4336857048
                        ]
                      },
                      {
                        "learn": [
                          0.8264652207,
                          0.4262557335
                        ],
                        "iteration": 28,
                        "passed_time": 0.4968228162,
                        "remaining_time": 16.63499843,
                        "test": [
                          0.8220026383,
                          0.4303130459
                        ]
                      },
                      {
                        "learn": [
                          0.8265031627,
                          0.4233512869
                        ],
                        "iteration": 29,
                        "passed_time": 0.5149137985,
                        "remaining_time": 16.64887948,
                        "test": [
                          0.820684685,
                          0.4275927666
                        ]
                      },
                      {
                        "learn": [
                          0.8265031627,
                          0.4209998025
                        ],
                        "iteration": 30,
                        "passed_time": 0.5312639812,
                        "remaining_time": 16.6062838,
                        "test": [
                          0.820684685,
                          0.4254570582
                        ]
                      },
                      {
                        "learn": [
                          0.8264272787,
                          0.4183037159
                        ],
                        "iteration": 31,
                        "passed_time": 0.5469644165,
                        "remaining_time": 16.5456736,
                        "test": [
                          0.820684685,
                          0.422865489
                        ]
                      },
                      {
                        "learn": [
                          0.8266496545,
                          0.4157490944
                        ],
                        "iteration": 32,
                        "passed_time": 0.5628508601,
                        "remaining_time": 16.49323581,
                        "test": [
                          0.820684685,
                          0.4203034284
                        ]
                      },
                      {
                        "learn": [
                          0.8267961463,
                          0.4135827577
                        ],
                        "iteration": 33,
                        "passed_time": 0.5790284472,
                        "remaining_time": 16.45122,
                        "test": [
                          0.8218515293,
                          0.4181540798
                        ]
                      },
                      {
                        "learn": [
                          0.8273821134,
                          0.4113096977
                        ],
                        "iteration": 34,
                        "passed_time": 0.5954719539,
                        "remaining_time": 16.41801244,
                        "test": [
                          0.8224349515,
                          0.4159956138
                        ]
                      },
                      {
                        "learn": [
                          0.8271976796,
                          0.4091320572
                        ],
                        "iteration": 35,
                        "passed_time": 0.610334095,
                        "remaining_time": 16.34339077,
                        "test": [
                          0.8225860604,
                          0.4138271937
                        ]
                      },
                      {
                        "learn": [
                          0.8270891298,
                          0.4074062327
                        ],
                        "iteration": 36,
                        "passed_time": 0.6283703494,
                        "remaining_time": 16.35461207,
                        "test": [
                          0.8218515293,
                          0.4122184963
                        ]
                      },
                      {
                        "learn": [
                          0.8270511878,
                          0.4055139599
                        ],
                        "iteration": 37,
                        "passed_time": 0.642785106,
                        "remaining_time": 16.27261242,
                        "test": [
                          0.8211169982,
                          0.4103947374
                        ]
                      },
                      {
                        "learn": [
                          0.8274147791,
                          0.4036892574
                        ],
                        "iteration": 38,
                        "passed_time": 0.6571450765,
                        "remaining_time": 16.19272868,
                        "test": [
                          0.8231694825,
                          0.4085883411
                        ]
                      },
                      {
                        "learn": [
                          0.8274147791,
                          0.4018255111
                        ],
                        "iteration": 39,
                        "passed_time": 0.6718787269,
                        "remaining_time": 16.12508945,
                        "test": [
                          0.8231694825,
                          0.4068095869
                        ]
                      },
                      {
                        "learn": [
                          0.8273821134,
                          0.4003093068
                        ],
                        "iteration": 40,
                        "passed_time": 0.6858999419,
                        "remaining_time": 16.04336693,
                        "test": [
                          0.8224349515,
                          0.4053343681
                        ]
                      },
                      {
                        "learn": [
                          0.8271544612,
                          0.3987696649
                        ],
                        "iteration": 41,
                        "passed_time": 0.7005545938,
                        "remaining_time": 15.97931669,
                        "test": [
                          0.8233205915,
                          0.4037775406
                        ]
                      },
                      {
                        "learn": [
                          0.8271976796,
                          0.3974628409
                        ],
                        "iteration": 42,
                        "passed_time": 0.7148971287,
                        "remaining_time": 15.91061749,
                        "test": [
                          0.8225860604,
                          0.4024731916
                        ]
                      },
                      {
                        "learn": [
                          0.8271976796,
                          0.3960827723
                        ],
                        "iteration": 43,
                        "passed_time": 0.7295306638,
                        "remaining_time": 15.8507117,
                        "test": [
                          0.8225860604,
                          0.4011286071
                        ]
                      },
                      {
                        "learn": [
                          0.8273062293,
                          0.3949519435
                        ],
                        "iteration": 44,
                        "passed_time": 0.7441344958,
                        "remaining_time": 15.79218763,
                        "test": [
                          0.8233205915,
                          0.4000229739
                        ]
                      },
                      {
                        "learn": [
                          0.8275559945,
                          0.3936992983
                        ],
                        "iteration": 45,
                        "passed_time": 0.760388944,
                        "remaining_time": 15.76980549,
                        "test": [
                          0.8246385447,
                          0.3987875824
                        ]
                      },
                      {
                        "learn": [
                          0.8277404283,
                          0.392235164
                        ],
                        "iteration": 46,
                        "passed_time": 0.7750186743,
                        "remaining_time": 15.71474035,
                        "test": [
                          0.8244874358,
                          0.3973835381
                        ]
                      },
                      {
                        "learn": [
                          0.8282178457,
                          0.3910132738
                        ],
                        "iteration": 47,
                        "passed_time": 0.7891908878,
                        "remaining_time": 15.65228594,
                        "test": [
                          0.8243363268,
                          0.396255757
                        ]
                      },
                      {
                        "learn": [
                          0.8280334119,
                          0.3900141256
                        ],
                        "iteration": 48,
                        "passed_time": 0.8040626299,
                        "remaining_time": 15.6053788,
                        "test": [
                          0.8244874358,
                          0.3953595663
                        ]
                      },
                      {
                        "learn": [
                          0.8280334119,
                          0.3889271731
                        ],
                        "iteration": 49,
                        "passed_time": 0.8180785728,
                        "remaining_time": 15.54349288,
                        "test": [
                          0.8244874358,
                          0.3942889981
                        ]
                      },
                      {
                        "learn": [
                          0.8280334119,
                          0.3881040239
                        ],
                        "iteration": 50,
                        "passed_time": 0.8322136671,
                        "remaining_time": 15.48570137,
                        "test": [
                          0.8244874358,
                          0.3934740767
                        ]
                      },
                      {
                        "learn": [
                          0.8280334119,
                          0.3873141772
                        ],
                        "iteration": 51,
                        "passed_time": 0.8467477042,
                        "remaining_time": 15.43686199,
                        "test": [
                          0.8244874358,
                          0.392719506
                        ]
                      },
                      {
                        "learn": [
                          0.8275559945,
                          0.3864930762
                        ],
                        "iteration": 52,
                        "passed_time": 0.8672837019,
                        "remaining_time": 15.49655973,
                        "test": [
                          0.8246385447,
                          0.3919657989
                        ]
                      },
                      {
                        "learn": [
                          0.8280334119,
                          0.3854652958
                        ],
                        "iteration": 53,
                        "passed_time": 0.8907114904,
                        "remaining_time": 15.60394574,
                        "test": [
                          0.8244874358,
                          0.3909418932
                        ]
                      },
                      {
                        "learn": [
                          0.8283263954,
                          0.384681319
                        ],
                        "iteration": 54,
                        "passed_time": 0.9073198287,
                        "remaining_time": 15.58940433,
                        "test": [
                          0.8244874358,
                          0.3901665916
                        ]
                      },
                      {
                        "learn": [
                          0.8285540475,
                          0.3837264887
                        ],
                        "iteration": 55,
                        "passed_time": 0.9293283534,
                        "remaining_time": 15.66582082,
                        "test": [
                          0.8236017957,
                          0.3891955682
                        ]
                      },
                      {
                        "learn": [
                          0.8285540475,
                          0.3830047172
                        ],
                        "iteration": 56,
                        "passed_time": 0.9485795534,
                        "remaining_time": 15.693167,
                        "test": [
                          0.8236017957,
                          0.3884962267
                        ]
                      },
                      {
                        "learn": [
                          0.828657321,
                          0.3821925527
                        ],
                        "iteration": 57,
                        "passed_time": 0.9646561284,
                        "remaining_time": 15.66734608,
                        "test": [
                          0.8243363268,
                          0.3877594547
                        ]
                      },
                      {
                        "learn": [
                          0.829167404,
                          0.3813107717
                        ],
                        "iteration": 58,
                        "passed_time": 0.9811045781,
                        "remaining_time": 15.64778658,
                        "test": [
                          0.8243363268,
                          0.3869914395
                        ]
                      },
                      {
                        "learn": [
                          0.8289935229,
                          0.3808205371
                        ],
                        "iteration": 59,
                        "passed_time": 0.9995435024,
                        "remaining_time": 15.65951487,
                        "test": [
                          0.8236017957,
                          0.3866251619
                        ]
                      },
                      {
                        "learn": [
                          0.8289935229,
                          0.3802130115
                        ],
                        "iteration": 60,
                        "passed_time": 1.013690414,
                        "remaining_time": 15.60418523,
                        "test": [
                          0.8236017957,
                          0.386075255
                        ]
                      },
                      {
                        "learn": [
                          0.8289555808,
                          0.3795698994
                        ],
                        "iteration": 61,
                        "passed_time": 1.028927343,
                        "remaining_time": 15.56667496,
                        "test": [
                          0.8236017957,
                          0.3854641762
                        ]
                      },
                      {
                        "learn": [
                          0.8289555808,
                          0.3790567934
                        ],
                        "iteration": 62,
                        "passed_time": 1.043000151,
                        "remaining_time": 15.51255781,
                        "test": [
                          0.8236017957,
                          0.3849918606
                        ]
                      },
                      {
                        "learn": [
                          0.8293950561,
                          0.3784285637
                        ],
                        "iteration": 63,
                        "passed_time": 1.059484154,
                        "remaining_time": 15.49495575,
                        "test": [
                          0.8234506868,
                          0.3843847594
                        ]
                      },
                      {
                        "learn": [
                          0.8293950561,
                          0.3779118145
                        ],
                        "iteration": 64,
                        "passed_time": 1.073942576,
                        "remaining_time": 15.4482509,
                        "test": [
                          0.8234506868,
                          0.3839854284
                        ]
                      },
                      {
                        "learn": [
                          0.8296880397,
                          0.3771748658
                        ],
                        "iteration": 65,
                        "passed_time": 1.088151676,
                        "remaining_time": 15.39899494,
                        "test": [
                          0.824034109,
                          0.3833598356
                        ]
                      },
                      {
                        "learn": [
                          0.8296880397,
                          0.3766000338
                        ],
                        "iteration": 66,
                        "passed_time": 1.1028433,
                        "remaining_time": 15.35750446,
                        "test": [
                          0.824034109,
                          0.3829507052
                        ]
                      },
                      {
                        "learn": [
                          0.8296880397,
                          0.3761627778
                        ],
                        "iteration": 67,
                        "passed_time": 1.117524801,
                        "remaining_time": 15.31666345,
                        "test": [
                          0.824034109,
                          0.3825245572
                        ]
                      },
                      {
                        "learn": [
                          0.8296880397,
                          0.3756168635
                        ],
                        "iteration": 68,
                        "passed_time": 1.132606753,
                        "remaining_time": 15.28198387,
                        "test": [
                          0.824034109,
                          0.3820697242
                        ]
                      },
                      {
                        "learn": [
                          0.8296880397,
                          0.3752104205
                        ],
                        "iteration": 69,
                        "passed_time": 1.147200027,
                        "remaining_time": 15.24137179,
                        "test": [
                          0.824034109,
                          0.3816453161
                        ]
                      },
                      {
                        "learn": [
                          0.8296880397,
                          0.374788086
                        ],
                        "iteration": 70,
                        "passed_time": 1.162154418,
                        "remaining_time": 15.20621767,
                        "test": [
                          0.824034109,
                          0.3812399636
                        ]
                      },
                      {
                        "learn": [
                          0.8296880397,
                          0.3746286811
                        ],
                        "iteration": 71,
                        "passed_time": 1.176570833,
                        "remaining_time": 15.16469073,
                        "test": [
                          0.824034109,
                          0.3810873824
                        ]
                      },
                      {
                        "learn": [
                          0.8299156918,
                          0.3742202139
                        ],
                        "iteration": 72,
                        "passed_time": 1.192447734,
                        "remaining_time": 15.14245273,
                        "test": [
                          0.824034109,
                          0.3808146546
                        ]
                      },
                      {
                        "learn": [
                          0.8299156918,
                          0.3736850503
                        ],
                        "iteration": 73,
                        "passed_time": 1.207527575,
                        "remaining_time": 15.11041263,
                        "test": [
                          0.824034109,
                          0.3802787624
                        ]
                      },
                      {
                        "learn": [
                          0.8302086754,
                          0.3734071496
                        ],
                        "iteration": 74,
                        "passed_time": 1.22221788,
                        "remaining_time": 15.07402051,
                        "test": [
                          0.824034109,
                          0.3800802809
                        ]
                      },
                      {
                        "learn": [
                          0.8303225014,
                          0.3731211828
                        ],
                        "iteration": 75,
                        "passed_time": 1.236430116,
                        "remaining_time": 15.0323872,
                        "test": [
                          0.8241852179,
                          0.3797886103
                        ]
                      },
                      {
                        "learn": [
                          0.8305448773,
                          0.3728672943
                        ],
                        "iteration": 76,
                        "passed_time": 1.250936571,
                        "remaining_time": 14.99499292,
                        "test": [
                          0.8241852179,
                          0.3795836229
                        ]
                      },
                      {
                        "learn": [
                          0.8305069352,
                          0.372561532
                        ],
                        "iteration": 77,
                        "passed_time": 1.267945699,
                        "remaining_time": 14.98776839,
                        "test": [
                          0.8241852179,
                          0.3794508312
                        ]
                      },
                      {
                        "learn": [
                          0.8305069352,
                          0.3721994906
                        ],
                        "iteration": 78,
                        "passed_time": 1.284869075,
                        "remaining_time": 14.97929644,
                        "test": [
                          0.8241852179,
                          0.3791026657
                        ]
                      },
                      {
                        "learn": [
                          0.8303931092,
                          0.3718066306
                        ],
                        "iteration": 79,
                        "passed_time": 1.301988653,
                        "remaining_time": 14.97286951,
                        "test": [
                          0.824034109,
                          0.378769212
                        ]
                      },
                      {
                        "learn": [
                          0.8303931092,
                          0.3714728093
                        ],
                        "iteration": 80,
                        "passed_time": 1.318548742,
                        "remaining_time": 14.95983079,
                        "test": [
                          0.824034109,
                          0.378465143
                        ]
                      },
                      {
                        "learn": [
                          0.8305016589,
                          0.3710728431
                        ],
                        "iteration": 81,
                        "passed_time": 1.33954536,
                        "remaining_time": 14.99637366,
                        "test": [
                          0.82476864,
                          0.3780576695
                        ]
                      },
                      {
                        "learn": [
                          0.8304742695,
                          0.3708404585
                        ],
                        "iteration": 82,
                        "passed_time": 1.356559252,
                        "remaining_time": 14.98752812,
                        "test": [
                          0.8234506868,
                          0.3779206862
                        ]
                      },
                      {
                        "learn": [
                          0.8307672531,
                          0.3704952261
                        ],
                        "iteration": 83,
                        "passed_time": 1.372820164,
                        "remaining_time": 14.97027702,
                        "test": [
                          0.8241852179,
                          0.3776576234
                        ]
                      },
                      {
                        "learn": [
                          0.8307672531,
                          0.3702121778
                        ],
                        "iteration": 84,
                        "passed_time": 1.389568647,
                        "remaining_time": 14.95829778,
                        "test": [
                          0.8241852179,
                          0.3774065305
                        ]
                      },
                      {
                        "learn": [
                          0.8307672531,
                          0.3699393301
                        ],
                        "iteration": 85,
                        "passed_time": 1.405779082,
                        "remaining_time": 14.94048931,
                        "test": [
                          0.8241852179,
                          0.3771412438
                        ]
                      },
                      {
                        "learn": [
                          0.8307672531,
                          0.3698568846
                        ],
                        "iteration": 86,
                        "passed_time": 1.424853725,
                        "remaining_time": 14.9527753,
                        "test": [
                          0.8241852179,
                          0.3771256492
                        ]
                      },
                      {
                        "learn": [
                          0.8306481507,
                          0.3695552961
                        ],
                        "iteration": 87,
                        "passed_time": 1.439692191,
                        "remaining_time": 14.92044634,
                        "test": [
                          0.8255031711,
                          0.3768137237
                        ]
                      },
                      {
                        "learn": [
                          0.8306481507,
                          0.3693317474
                        ],
                        "iteration": 88,
                        "passed_time": 1.454652147,
                        "remaining_time": 14.889754,
                        "test": [
                          0.8255031711,
                          0.3766906565
                        ]
                      },
                      {
                        "learn": [
                          0.8307240347,
                          0.368999993
                        ],
                        "iteration": 89,
                        "passed_time": 1.46930107,
                        "remaining_time": 14.85626637,
                        "test": [
                          0.8255031711,
                          0.3763923412
                        ]
                      },
                      {
                        "learn": [
                          0.8308378608,
                          0.3687873957
                        ],
                        "iteration": 90,
                        "passed_time": 1.483863693,
                        "remaining_time": 14.82233074,
                        "test": [
                          0.8262377022,
                          0.3761368619
                        ]
                      },
                      {
                        "learn": [
                          0.8308378608,
                          0.3685712056
                        ],
                        "iteration": 91,
                        "passed_time": 1.497564012,
                        "remaining_time": 14.78030568,
                        "test": [
                          0.8262377022,
                          0.3760533609
                        ]
                      },
                      {
                        "learn": [
                          0.8308378608,
                          0.3684391684
                        ],
                        "iteration": 92,
                        "passed_time": 1.511651038,
                        "remaining_time": 14.7426612,
                        "test": [
                          0.8262377022,
                          0.375960755
                        ]
                      },
                      {
                        "learn": [
                          0.8307999188,
                          0.3682453123
                        ],
                        "iteration": 93,
                        "passed_time": 1.52574785,
                        "remaining_time": 14.70561226,
                        "test": [
                          0.8262377022,
                          0.3758393902
                        ]
                      },
                      {
                        "learn": [
                          0.8307999188,
                          0.3679725863
                        ],
                        "iteration": 94,
                        "passed_time": 1.540005962,
                        "remaining_time": 14.67058311,
                        "test": [
                          0.8262377022,
                          0.3756225595
                        ]
                      },
                      {
                        "learn": [
                          0.8307999188,
                          0.3677952355
                        ],
                        "iteration": 95,
                        "passed_time": 1.554438852,
                        "remaining_time": 14.63763253,
                        "test": [
                          0.8262377022,
                          0.3754440575
                        ]
                      },
                      {
                        "learn": [
                          0.8308705265,
                          0.3675528336
                        ],
                        "iteration": 96,
                        "passed_time": 1.568893319,
                        "remaining_time": 14.60526461,
                        "test": [
                          0.8269722333,
                          0.3752472406
                        ]
                      },
                      {
                        "learn": [
                          0.8308705265,
                          0.3674551038
                        ],
                        "iteration": 97,
                        "passed_time": 1.582896444,
                        "remaining_time": 14.56910808,
                        "test": [
                          0.8269722333,
                          0.3752120793
                        ]
                      },
                      {
                        "learn": [
                          0.8309464105,
                          0.3672042878
                        ],
                        "iteration": 98,
                        "passed_time": 1.597317623,
                        "remaining_time": 14.53720382,
                        "test": [
                          0.8269722333,
                          0.3750513521
                        ]
                      },
                      {
                        "learn": [
                          0.8309464105,
                          0.3670068942
                        ],
                        "iteration": 99,
                        "passed_time": 1.612930021,
                        "remaining_time": 14.51637019,
                        "test": [
                          0.8269722333,
                          0.374926584
                        ]
                      },
                      {
                        "learn": [
                          0.8309464105,
                          0.3668815714
                        ],
                        "iteration": 100,
                        "passed_time": 1.627613764,
                        "remaining_time": 14.487374,
                        "test": [
                          0.8269722333,
                          0.3748263311
                        ]
                      },
                      {
                        "learn": [
                          0.8312773361,
                          0.366728596
                        ],
                        "iteration": 101,
                        "passed_time": 1.642861589,
                        "remaining_time": 14.46362458,
                        "test": [
                          0.8269722333,
                          0.374680105
                        ]
                      },
                      {
                        "learn": [
                          0.8312773361,
                          0.3665398693
                        ],
                        "iteration": 102,
                        "passed_time": 1.65901888,
                        "remaining_time": 14.44796054,
                        "test": [
                          0.8269722333,
                          0.3745413377
                        ]
                      },
                      {
                        "learn": [
                          0.8314238279,
                          0.3663865204
                        ],
                        "iteration": 103,
                        "passed_time": 1.673883002,
                        "remaining_time": 14.42114586,
                        "test": [
                          0.8269722333,
                          0.3744574
                        ]
                      },
                      {
                        "learn": [
                          0.8311687864,
                          0.3662609154
                        ],
                        "iteration": 104,
                        "passed_time": 1.688196613,
                        "remaining_time": 14.38986637,
                        "test": [
                          0.8269722333,
                          0.3743570255
                        ]
                      },
                      {
                        "learn": [
                          0.8314238279,
                          0.3660453398
                        ],
                        "iteration": 105,
                        "passed_time": 1.71083139,
                        "remaining_time": 14.42908739,
                        "test": [
                          0.8269722333,
                          0.3741912935
                        ]
                      },
                      {
                        "learn": [
                          0.8314238279,
                          0.3659503723
                        ],
                        "iteration": 106,
                        "passed_time": 1.725791742,
                        "remaining_time": 14.40310304,
                        "test": [
                          0.8269722333,
                          0.3741685216
                        ]
                      },
                      {
                        "learn": [
                          0.83165148,
                          0.3658104305
                        ],
                        "iteration": 107,
                        "passed_time": 1.740393933,
                        "remaining_time": 14.3743647,
                        "test": [
                          0.8269722333,
                          0.3740534039
                        ]
                      },
                      {
                        "learn": [
                          0.83165148,
                          0.3657091426
                        ],
                        "iteration": 108,
                        "passed_time": 1.755132872,
                        "remaining_time": 14.34700357,
                        "test": [
                          0.8269722333,
                          0.3740301001
                        ]
                      },
                      {
                        "learn": [
                          0.83165148,
                          0.3655492248
                        ],
                        "iteration": 109,
                        "passed_time": 1.769866837,
                        "remaining_time": 14.31983168,
                        "test": [
                          0.8269722333,
                          0.3739087369
                        ]
                      },
                      {
                        "learn": [
                          0.83165148,
                          0.3654840177
                        ],
                        "iteration": 110,
                        "passed_time": 1.784459442,
                        "remaining_time": 14.29175175,
                        "test": [
                          0.8269722333,
                          0.3739059175
                        ]
                      },
                      {
                        "learn": [
                          0.8314617699,
                          0.3653725375
                        ],
                        "iteration": 111,
                        "passed_time": 1.798438163,
                        "remaining_time": 14.25904543,
                        "test": [
                          0.8277067644,
                          0.373823658
                        ]
                      },
                      {
                        "learn": [
                          0.8314617699,
                          0.3652799971
                        ],
                        "iteration": 112,
                        "passed_time": 1.812630606,
                        "remaining_time": 14.22834821,
                        "test": [
                          0.8277067644,
                          0.3737956951
                        ]
                      },
                      {
                        "learn": [
                          0.8314238279,
                          0.3651658591
                        ],
                        "iteration": 113,
                        "passed_time": 1.827154068,
                        "remaining_time": 14.2005132,
                        "test": [
                          0.8277067644,
                          0.3737404026
                        ]
                      },
                      {
                        "learn": [
                          0.8318633032,
                          0.3650013245
                        ],
                        "iteration": 114,
                        "passed_time": 1.845430923,
                        "remaining_time": 14.20179449,
                        "test": [
                          0.8277067644,
                          0.3736722388
                        ]
                      },
                      {
                        "learn": [
                          0.8318253612,
                          0.3647593395
                        ],
                        "iteration": 115,
                        "passed_time": 1.860209073,
                        "remaining_time": 14.17607604,
                        "test": [
                          0.8277067644,
                          0.3734739592
                        ]
                      },
                      {
                        "learn": [
                          0.8318253612,
                          0.3646597634
                        ],
                        "iteration": 116,
                        "passed_time": 1.875141147,
                        "remaining_time": 14.15170626,
                        "test": [
                          0.8277067644,
                          0.3734338614
                        ]
                      },
                      {
                        "learn": [
                          0.8316788694,
                          0.3645423462
                        ],
                        "iteration": 117,
                        "passed_time": 1.905445381,
                        "remaining_time": 14.24239683,
                        "test": [
                          0.8277067644,
                          0.3733111414
                        ]
                      },
                      {
                        "learn": [
                          0.8316788694,
                          0.3644066959
                        ],
                        "iteration": 118,
                        "passed_time": 1.920613569,
                        "remaining_time": 14.21899625,
                        "test": [
                          0.8277067644,
                          0.3731898824
                        ]
                      },
                      {
                        "learn": [
                          0.8316788694,
                          0.3643550385
                        ],
                        "iteration": 119,
                        "passed_time": 1.935213198,
                        "remaining_time": 14.19156345,
                        "test": [
                          0.8277067644,
                          0.3731698361
                        ]
                      },
                      {
                        "learn": [
                          0.8317168114,
                          0.3642383069
                        ],
                        "iteration": 120,
                        "passed_time": 1.949972488,
                        "remaining_time": 14.16550262,
                        "test": [
                          0.8277067644,
                          0.3730166054
                        ]
                      },
                      {
                        "learn": [
                          0.8317168114,
                          0.3641615182
                        ],
                        "iteration": 121,
                        "passed_time": 1.964518235,
                        "remaining_time": 14.13809025,
                        "test": [
                          0.8277067644,
                          0.373004699
                        ]
                      },
                      {
                        "learn": [
                          0.8316788694,
                          0.3640207279
                        ],
                        "iteration": 122,
                        "passed_time": 1.986654306,
                        "remaining_time": 14.16500672,
                        "test": [
                          0.8277067644,
                          0.3728767235
                        ]
                      },
                      {
                        "learn": [
                          0.8316788694,
                          0.363918594
                        ],
                        "iteration": 123,
                        "passed_time": 2.002105812,
                        "remaining_time": 14.1439088,
                        "test": [
                          0.8277067644,
                          0.3729041992
                        ]
                      },
                      {
                        "learn": [
                          0.8316788694,
                          0.3638130249
                        ],
                        "iteration": 124,
                        "passed_time": 2.016329711,
                        "remaining_time": 14.11430798,
                        "test": [
                          0.8275556555,
                          0.3728563715
                        ]
                      },
                      {
                        "learn": [
                          0.8318253612,
                          0.3637685098
                        ],
                        "iteration": 125,
                        "passed_time": 2.030560668,
                        "remaining_time": 14.08500019,
                        "test": [
                          0.8275556555,
                          0.3729348297
                        ]
                      },
                      {
                        "learn": [
                          0.8318253612,
                          0.3636742954
                        ],
                        "iteration": 126,
                        "passed_time": 2.045029704,
                        "remaining_time": 14.05756639,
                        "test": [
                          0.8275556555,
                          0.3729021649
                        ]
                      },
                      {
                        "learn": [
                          0.8320804027,
                          0.3635406596
                        ],
                        "iteration": 127,
                        "passed_time": 2.060099346,
                        "remaining_time": 14.0344268,
                        "test": [
                          0.8288736087,
                          0.3728207963
                        ]
                      },
                      {
                        "learn": [
                          0.8320804027,
                          0.3635096375
                        ],
                        "iteration": 128,
                        "passed_time": 2.07535215,
                        "remaining_time": 14.01264901,
                        "test": [
                          0.8288736087,
                          0.372870106
                        ]
                      },
                      {
                        "learn": [
                          0.8320804027,
                          0.3633968844
                        ],
                        "iteration": 129,
                        "passed_time": 2.090328939,
                        "remaining_time": 13.98912444,
                        "test": [
                          0.8288736087,
                          0.3728346334
                        ]
                      },
                      {
                        "learn": [
                          0.8320804027,
                          0.3632656684
                        ],
                        "iteration": 130,
                        "passed_time": 2.105284766,
                        "remaining_time": 13.96559131,
                        "test": [
                          0.8288736087,
                          0.3727384032
                        ]
                      },
                      {
                        "learn": [
                          0.8322268945,
                          0.3630391589
                        ],
                        "iteration": 131,
                        "passed_time": 2.120731558,
                        "remaining_time": 13.94541661,
                        "test": [
                          0.8288736087,
                          0.3725557769
                        ]
                      },
                      {
                        "learn": [
                          0.8323733862,
                          0.3629168207
                        ],
                        "iteration": 132,
                        "passed_time": 2.135875434,
                        "remaining_time": 13.92333835,
                        "test": [
                          0.8294570308,
                          0.3724274033
                        ]
                      },
                      {
                        "learn": [
                          0.832519878,
                          0.3628322001
                        ],
                        "iteration": 133,
                        "passed_time": 2.151831151,
                        "remaining_time": 13.90661027,
                        "test": [
                          0.8294570308,
                          0.3724192679
                        ]
                      },
                      {
                        "learn": [
                          0.8322268945,
                          0.362696312
                        ],
                        "iteration": 134,
                        "passed_time": 2.166415041,
                        "remaining_time": 13.88110378,
                        "test": [
                          0.8288736087,
                          0.3723483161
                        ]
                      },
                      {
                        "learn": [
                          0.8322268945,
                          0.362655571
                        ],
                        "iteration": 135,
                        "passed_time": 2.182302645,
                        "remaining_time": 13.86404033,
                        "test": [
                          0.8288736087,
                          0.3723914252
                        ]
                      },
                      {
                        "learn": [
                          0.8323733862,
                          0.3625162811
                        ],
                        "iteration": 136,
                        "passed_time": 2.19707909,
                        "remaining_time": 13.83999456,
                        "test": [
                          0.8288736087,
                          0.3722692502
                        ]
                      },
                      {
                        "learn": [
                          0.8323733862,
                          0.3623387344
                        ],
                        "iteration": 137,
                        "passed_time": 2.212549673,
                        "remaining_time": 13.82041897,
                        "test": [
                          0.8288736087,
                          0.37214826
                        ]
                      },
                      {
                        "learn": [
                          0.8327422538,
                          0.3622427701
                        ],
                        "iteration": 138,
                        "passed_time": 2.227062148,
                        "remaining_time": 13.79496769,
                        "test": [
                          0.8294570308,
                          0.372102423
                        ]
                      },
                      {
                        "learn": [
                          0.8327422538,
                          0.3621514979
                        ],
                        "iteration": 139,
                        "passed_time": 2.241903244,
                        "remaining_time": 13.77169136,
                        "test": [
                          0.8294570308,
                          0.3719895515
                        ]
                      },
                      {
                        "learn": [
                          0.8327422538,
                          0.3620952947
                        ],
                        "iteration": 140,
                        "passed_time": 2.262357549,
                        "remaining_time": 13.78273145,
                        "test": [
                          0.8294570308,
                          0.3719945103
                        ]
                      },
                      {
                        "learn": [
                          0.8327422538,
                          0.3620376401
                        ],
                        "iteration": 141,
                        "passed_time": 2.278642521,
                        "remaining_time": 13.7681358,
                        "test": [
                          0.8294570308,
                          0.3720205339
                        ]
                      },
                      {
                        "learn": [
                          0.8326663698,
                          0.3619364218
                        ],
                        "iteration": 142,
                        "passed_time": 2.294601037,
                        "remaining_time": 13.75156006,
                        "test": [
                          0.8294570308,
                          0.3719753564
                        ]
                      },
                      {
                        "learn": [
                          0.8326663698,
                          0.3618281885
                        ],
                        "iteration": 143,
                        "passed_time": 2.310009756,
                        "remaining_time": 13.73172466,
                        "test": [
                          0.8288736087,
                          0.3718632287
                        ]
                      },
                      {
                        "learn": [
                          0.8328128615,
                          0.3617742329
                        ],
                        "iteration": 144,
                        "passed_time": 2.324881114,
                        "remaining_time": 13.70878174,
                        "test": [
                          0.8294570308,
                          0.3718543116
                        ]
                      },
                      {
                        "learn": [
                          0.8327043118,
                          0.3617211423
                        ],
                        "iteration": 145,
                        "passed_time": 2.339498759,
                        "remaining_time": 13.68446534,
                        "test": [
                          0.8290247176,
                          0.3718661502
                        ]
                      },
                      {
                        "learn": [
                          0.8328508036,
                          0.361691203
                        ],
                        "iteration": 146,
                        "passed_time": 2.353927229,
                        "remaining_time": 13.65918317,
                        "test": [
                          0.8296081398,
                          0.3719209311
                        ]
                      },
                      {
                        "learn": [
                          0.8327043118,
                          0.3616227915
                        ],
                        "iteration": 147,
                        "passed_time": 2.368479158,
                        "remaining_time": 13.63475839,
                        "test": [
                          0.8290247176,
                          0.3718973764
                        ]
                      },
                      {
                        "learn": [
                          0.8327422538,
                          0.3615104655
                        ],
                        "iteration": 148,
                        "passed_time": 2.383341061,
                        "remaining_time": 13.61223653,
                        "test": [
                          0.8294780445,
                          0.3718073744
                        ]
                      },
                      {
                        "learn": [
                          0.8328887456,
                          0.361457133
                        ],
                        "iteration": 149,
                        "passed_time": 2.39740811,
                        "remaining_time": 13.58531262,
                        "test": [
                          0.8300614666,
                          0.3718175138
                        ]
                      },
                      {
                        "learn": [
                          0.8329646296,
                          0.3613919861
                        ],
                        "iteration": 150,
                        "passed_time": 2.4115001,
                        "remaining_time": 13.55869924,
                        "test": [
                          0.8300614666,
                          0.371775804
                        ]
                      },
                      {
                        "learn": [
                          0.8330405137,
                          0.3613118611
                        ],
                        "iteration": 151,
                        "passed_time": 2.425246877,
                        "remaining_time": 13.53032468,
                        "test": [
                          0.8300614666,
                          0.3717455888
                        ]
                      },
                      {
                        "learn": [
                          0.8330405137,
                          0.3612868098
                        ],
                        "iteration": 152,
                        "passed_time": 2.439369516,
                        "remaining_time": 13.50422209,
                        "test": [
                          0.8300614666,
                          0.371812899
                        ]
                      },
                      {
                        "learn": [
                          0.8330405137,
                          0.3612591132
                        ],
                        "iteration": 153,
                        "passed_time": 2.454080385,
                        "remaining_time": 13.48150653,
                        "test": [
                          0.8300614666,
                          0.3718352535
                        ]
                      },
                      {
                        "learn": [
                          0.8330405137,
                          0.361237914
                        ],
                        "iteration": 154,
                        "passed_time": 2.468425921,
                        "remaining_time": 13.4569026,
                        "test": [
                          0.8300614666,
                          0.3718435454
                        ]
                      },
                      {
                        "learn": [
                          0.833479989,
                          0.3611120866
                        ],
                        "iteration": 155,
                        "passed_time": 2.482891128,
                        "remaining_time": 13.43307764,
                        "test": [
                          0.8306448888,
                          0.3717071639
                        ]
                      },
                      {
                        "learn": [
                          0.833479989,
                          0.3610740553
                        ],
                        "iteration": 156,
                        "passed_time": 2.497473047,
                        "remaining_time": 13.40999859,
                        "test": [
                          0.8306448888,
                          0.3717416537
                        ]
                      },
                      {
                        "learn": [
                          0.833479989,
                          0.3610048627
                        ],
                        "iteration": 157,
                        "passed_time": 2.512311308,
                        "remaining_time": 13.38839317,
                        "test": [
                          0.8306448888,
                          0.3718211966
                        ]
                      },
                      {
                        "learn": [
                          0.833479989,
                          0.3609803097
                        ],
                        "iteration": 158,
                        "passed_time": 2.526204374,
                        "remaining_time": 13.36187345,
                        "test": [
                          0.8306448888,
                          0.371823848
                        ]
                      },
                      {
                        "learn": [
                          0.833517931,
                          0.3609120416
                        ],
                        "iteration": 159,
                        "passed_time": 2.54090797,
                        "remaining_time": 13.33976684,
                        "test": [
                          0.8299103577,
                          0.3719044775
                        ]
                      },
                      {
                        "learn": [
                          0.833517931,
                          0.3608448806
                        ],
                        "iteration": 160,
                        "passed_time": 2.57250557,
                        "remaining_time": 13.4057899,
                        "test": [
                          0.8299103577,
                          0.3718474157
                        ]
                      },
                      {
                        "learn": [
                          0.833517931,
                          0.360772962
                        ],
                        "iteration": 161,
                        "passed_time": 2.593986665,
                        "remaining_time": 13.4182767,
                        "test": [
                          0.8299103577,
                          0.3718284618
                        ]
                      },
                      {
                        "learn": [
                          0.833517931,
                          0.3607278688
                        ],
                        "iteration": 162,
                        "passed_time": 2.627235872,
                        "remaining_time": 13.49077561,
                        "test": [
                          0.8299103577,
                          0.371818401
                        ]
                      },
                      {
                        "learn": [
                          0.833479989,
                          0.3606268957
                        ],
                        "iteration": 163,
                        "passed_time": 2.661094908,
                        "remaining_time": 13.56509356,
                        "test": [
                          0.8299103577,
                          0.3717325386
                        ]
                      },
                      {
                        "learn": [
                          0.833479989,
                          0.3605743293
                        ],
                        "iteration": 164,
                        "passed_time": 2.693310129,
                        "remaining_time": 13.62978156,
                        "test": [
                          0.8299103577,
                          0.3717202484
                        ]
                      },
                      {
                        "learn": [
                          0.833479989,
                          0.360556614
                        ],
                        "iteration": 165,
                        "passed_time": 2.722292093,
                        "remaining_time": 13.67705786,
                        "test": [
                          0.8299103577,
                          0.3717318588
                        ]
                      },
                      {
                        "learn": [
                          0.833479989,
                          0.3604959332
                        ],
                        "iteration": 166,
                        "passed_time": 2.75137812,
                        "remaining_time": 13.72393996,
                        "test": [
                          0.8299103577,
                          0.3718022076
                        ]
                      },
                      {
                        "learn": [
                          0.833479989,
                          0.360444942
                        ],
                        "iteration": 167,
                        "passed_time": 2.778809082,
                        "remaining_time": 13.76172117,
                        "test": [
                          0.8299103577,
                          0.3718009283
                        ]
                      },
                      {
                        "learn": [
                          0.833479989,
                          0.3603972841
                        ],
                        "iteration": 168,
                        "passed_time": 2.810895987,
                        "remaining_time": 13.82162465,
                        "test": [
                          0.8299103577,
                          0.3718169351
                        ]
                      },
                      {
                        "learn": [
                          0.833479989,
                          0.3603663396
                        ],
                        "iteration": 169,
                        "passed_time": 2.841041152,
                        "remaining_time": 13.87096563,
                        "test": [
                          0.8299103577,
                          0.3718378669
                        ]
                      },
                      {
                        "learn": [
                          0.833479989,
                          0.3602792649
                        ],
                        "iteration": 170,
                        "passed_time": 2.876940409,
                        "remaining_time": 13.94727251,
                        "test": [
                          0.8299103577,
                          0.371770413
                        ]
                      },
                      {
                        "learn": [
                          0.833517931,
                          0.3602058184
                        ],
                        "iteration": 171,
                        "passed_time": 2.913251469,
                        "remaining_time": 14.02425707,
                        "test": [
                          0.8300614666,
                          0.371780752
                        ]
                      },
                      {
                        "learn": [
                          0.833517931,
                          0.3601521213
                        ],
                        "iteration": 172,
                        "passed_time": 2.946878339,
                        "remaining_time": 14.0871005,
                        "test": [
                          0.8300614666,
                          0.3717775627
                        ]
                      },
                      {
                        "learn": [
                          0.833517931,
                          0.3600724763
                        ],
                        "iteration": 173,
                        "passed_time": 2.977257069,
                        "remaining_time": 14.13341574,
                        "test": [
                          0.8300614666,
                          0.3717574602
                        ]
                      },
                      {
                        "learn": [
                          0.833517931,
                          0.3600427432
                        ],
                        "iteration": 174,
                        "passed_time": 3.020896886,
                        "remaining_time": 14.24137103,
                        "test": [
                          0.8300614666,
                          0.3717796729
                        ]
                      },
                      {
                        "learn": [
                          0.833517931,
                          0.3600045634
                        ],
                        "iteration": 175,
                        "passed_time": 3.05138744,
                        "remaining_time": 14.2860412,
                        "test": [
                          0.8300614666,
                          0.3717949376
                        ]
                      },
                      {
                        "learn": [
                          0.833517931,
                          0.3599427726
                        ],
                        "iteration": 176,
                        "passed_time": 3.083819698,
                        "remaining_time": 14.33889046,
                        "test": [
                          0.8300614666,
                          0.3717848774
                        ]
                      },
                      {
                        "learn": [
                          0.8336264808,
                          0.3598584899
                        ],
                        "iteration": 177,
                        "passed_time": 3.114703261,
                        "remaining_time": 14.38362967,
                        "test": [
                          0.8307959977,
                          0.3717217543
                        ]
                      },
                      {
                        "learn": [
                          0.833517931,
                          0.3598380488
                        ],
                        "iteration": 178,
                        "passed_time": 3.150514101,
                        "remaining_time": 14.45012334,
                        "test": [
                          0.8300614666,
                          0.3717584079
                        ]
                      },
                      {
                        "learn": [
                          0.8337350305,
                          0.3597697731
                        ],
                        "iteration": 179,
                        "passed_time": 3.184849117,
                        "remaining_time": 14.50875709,
                        "test": [
                          0.8306448888,
                          0.3717577845
                        ]
                      },
                      {
                        "learn": [
                          0.8341956111,
                          0.3597032392
                        ],
                        "iteration": 180,
                        "passed_time": 3.204544968,
                        "remaining_time": 14.50012336,
                        "test": [
                          0.8306659024,
                          0.3717111142
                        ]
                      },
                      {
                        "learn": [
                          0.8340870614,
                          0.359637302
                        ],
                        "iteration": 181,
                        "passed_time": 3.23671732,
                        "remaining_time": 14.54744378,
                        "test": [
                          0.8299313713,
                          0.3717365248
                        ]
                      },
                      {
                        "learn": [
                          0.8340870614,
                          0.3595589715
                        ],
                        "iteration": 182,
                        "passed_time": 3.270194126,
                        "remaining_time": 14.59971913,
                        "test": [
                          0.8299313713,
                          0.3716654309
                        ]
                      },
                      {
                        "learn": [
                          0.8341956111,
                          0.3595310047
                        ],
                        "iteration": 183,
                        "passed_time": 3.300572142,
                        "remaining_time": 14.63731993,
                        "test": [
                          0.8297802623,
                          0.3717083759
                        ]
                      },
                      {
                        "learn": [
                          0.8341956111,
                          0.3594620163
                        ],
                        "iteration": 184,
                        "passed_time": 3.332244503,
                        "remaining_time": 14.67988795,
                        "test": [
                          0.8297802623,
                          0.3717082871
                        ]
                      },
                      {
                        "learn": [
                          0.8342714952,
                          0.3593886028
                        ],
                        "iteration": 185,
                        "passed_time": 3.365926096,
                        "remaining_time": 14.73045076,
                        "test": [
                          0.8297802623,
                          0.3717048759
                        ]
                      },
                      {
                        "learn": [
                          0.8344179869,
                          0.3593516873
                        ],
                        "iteration": 186,
                        "passed_time": 3.399552896,
                        "remaining_time": 14.77987436,
                        "test": [
                          0.8297802623,
                          0.3717232503
                        ]
                      },
                      {
                        "learn": [
                          0.8344179869,
                          0.3592941495
                        ],
                        "iteration": 187,
                        "passed_time": 3.435018471,
                        "remaining_time": 14.83635638,
                        "test": [
                          0.8297802623,
                          0.3717070488
                        ]
                      },
                      {
                        "learn": [
                          0.8343800449,
                          0.3592488389
                        ],
                        "iteration": 188,
                        "passed_time": 3.462448196,
                        "remaining_time": 14.85738353,
                        "test": [
                          0.8297802623,
                          0.3716467943
                        ]
                      },
                      {
                        "learn": [
                          0.8343800449,
                          0.3592266567
                        ],
                        "iteration": 189,
                        "passed_time": 3.494959357,
                        "remaining_time": 14.89956358,
                        "test": [
                          0.8297802623,
                          0.3716624693
                        ]
                      },
                      {
                        "learn": [
                          0.8344885947,
                          0.3591989034
                        ],
                        "iteration": 190,
                        "passed_time": 3.527482887,
                        "remaining_time": 14.9410139,
                        "test": [
                          0.8305147934,
                          0.371706279
                        ]
                      },
                      {
                        "learn": [
                          0.8344885947,
                          0.3591744781
                        ],
                        "iteration": 191,
                        "passed_time": 3.559780068,
                        "remaining_time": 14.98074112,
                        "test": [
                          0.8305147934,
                          0.3717451996
                        ]
                      },
                      {
                        "learn": [
                          0.8343800449,
                          0.3591622428
                        ],
                        "iteration": 192,
                        "passed_time": 3.59540833,
                        "remaining_time": 15.03365037,
                        "test": [
                          0.8297802623,
                          0.3717854831
                        ]
                      },
                      {
                        "learn": [
                          0.8343800449,
                          0.3591227606
                        ],
                        "iteration": 193,
                        "passed_time": 3.626455835,
                        "remaining_time": 15.06661548,
                        "test": [
                          0.8297802623,
                          0.3717977849
                        ]
                      },
                      {
                        "learn": [
                          0.8344885947,
                          0.3591008691
                        ],
                        "iteration": 194,
                        "passed_time": 3.658586353,
                        "remaining_time": 15.10339495,
                        "test": [
                          0.8305147934,
                          0.3718407609
                        ]
                      },
                      {
                        "learn": [
                          0.8344885947,
                          0.3590604957
                        ],
                        "iteration": 195,
                        "passed_time": 3.688829226,
                        "remaining_time": 15.13172805,
                        "test": [
                          0.8305147934,
                          0.3718592002
                        ]
                      },
                      {
                        "learn": [
                          0.8344885947,
                          0.3590351027
                        ],
                        "iteration": 196,
                        "passed_time": 3.720547356,
                        "remaining_time": 15.16547983,
                        "test": [
                          0.8305147934,
                          0.3718916624
                        ]
                      },
                      {
                        "learn": [
                          0.8342662188,
                          0.3589848753
                        ],
                        "iteration": 197,
                        "passed_time": 3.753223293,
                        "remaining_time": 15.20244991,
                        "test": [
                          0.8310982156,
                          0.3718707254
                        ]
                      },
                      {
                        "learn": [
                          0.8342662188,
                          0.3589567022
                        ],
                        "iteration": 198,
                        "passed_time": 3.786760181,
                        "remaining_time": 15.24218545,
                        "test": [
                          0.8310982156,
                          0.3718971632
                        ]
                      },
                      {
                        "learn": [
                          0.8342662188,
                          0.3589246275
                        ],
                        "iteration": 199,
                        "passed_time": 3.818567798,
                        "remaining_time": 15.27427119,
                        "test": [
                          0.8310982156,
                          0.3719264961
                        ]
                      },
                      {
                        "learn": [
                          0.8342662188,
                          0.358900034
                        ],
                        "iteration": 200,
                        "passed_time": 3.848984205,
                        "remaining_time": 15.30019095,
                        "test": [
                          0.8310982156,
                          0.3719540484
                        ]
                      },
                      {
                        "learn": [
                          0.8342662188,
                          0.3588581077
                        ],
                        "iteration": 201,
                        "passed_time": 3.882618386,
                        "remaining_time": 15.33826471,
                        "test": [
                          0.8310982156,
                          0.3719725223
                        ]
                      },
                      {
                        "learn": [
                          0.8342662188,
                          0.3588190681
                        ],
                        "iteration": 202,
                        "passed_time": 3.91686737,
                        "remaining_time": 15.37804578,
                        "test": [
                          0.8310982156,
                          0.3720236026
                        ]
                      },
                      {
                        "learn": [
                          0.8342662188,
                          0.358808932
                        ],
                        "iteration": 203,
                        "passed_time": 3.948452792,
                        "remaining_time": 15.40670795,
                        "test": [
                          0.8310982156,
                          0.3720334788
                        ]
                      },
                      {
                        "learn": [
                          0.8344127106,
                          0.3587884878
                        ],
                        "iteration": 204,
                        "passed_time": 3.978143275,
                        "remaining_time": 15.42743368,
                        "test": [
                          0.8310982156,
                          0.3720927641
                        ]
                      },
                      {
                        "learn": [
                          0.8343368266,
                          0.3587379857
                        ],
                        "iteration": 205,
                        "passed_time": 4.026485612,
                        "remaining_time": 15.51956105,
                        "test": [
                          0.8310982156,
                          0.372071402
                        ]
                      },
                      {
                        "learn": [
                          0.8343368266,
                          0.3586959751
                        ],
                        "iteration": 206,
                        "passed_time": 4.060265645,
                        "remaining_time": 15.55454424,
                        "test": [
                          0.8310982156,
                          0.3721160496
                        ]
                      },
                      {
                        "learn": [
                          0.8343368266,
                          0.3586563625
                        ],
                        "iteration": 207,
                        "passed_time": 4.079241297,
                        "remaining_time": 15.53249571,
                        "test": [
                          0.8310982156,
                          0.3721555246
                        ]
                      },
                      {
                        "learn": [
                          0.8343368266,
                          0.3586427721
                        ],
                        "iteration": 208,
                        "passed_time": 4.111199471,
                        "remaining_time": 15.55961139,
                        "test": [
                          0.8310982156,
                          0.3721841475
                        ]
                      },
                      {
                        "learn": [
                          0.8343368266,
                          0.3586150573
                        ],
                        "iteration": 209,
                        "passed_time": 4.144869449,
                        "remaining_time": 15.59260412,
                        "test": [
                          0.8310982156,
                          0.3722761246
                        ]
                      },
                      {
                        "learn": [
                          0.8343368266,
                          0.3585928589
                        ],
                        "iteration": 210,
                        "passed_time": 4.177074167,
                        "remaining_time": 15.61948587,
                        "test": [
                          0.8310982156,
                          0.3722769373
                        ]
                      },
                      {
                        "learn": [
                          0.8343368266,
                          0.3585752896
                        ],
                        "iteration": 211,
                        "passed_time": 4.200973716,
                        "remaining_time": 15.61494004,
                        "test": [
                          0.8310982156,
                          0.3723305627
                        ]
                      },
                      {
                        "learn": [
                          0.8343368266,
                          0.3585448694
                        ],
                        "iteration": 212,
                        "passed_time": 4.231167628,
                        "remaining_time": 15.63346912,
                        "test": [
                          0.8310982156,
                          0.3724049333
                        ]
                      },
                      {
                        "learn": [
                          0.8343368266,
                          0.3585248834
                        ],
                        "iteration": 213,
                        "passed_time": 4.264144023,
                        "remaining_time": 15.66176263,
                        "test": [
                          0.8310982156,
                          0.372435465
                        ]
                      },
                      {
                        "learn": [
                          0.8343368266,
                          0.3584987894
                        ],
                        "iteration": 214,
                        "passed_time": 4.295665946,
                        "remaining_time": 15.68417566,
                        "test": [
                          0.8310982156,
                          0.3724665402
                        ]
                      },
                      {
                        "learn": [
                          0.8343368266,
                          0.3584887513
                        ],
                        "iteration": 215,
                        "passed_time": 4.330089873,
                        "remaining_time": 15.7166225,
                        "test": [
                          0.8310982156,
                          0.372477585
                        ]
                      },
                      {
                        "learn": [
                          0.8343368266,
                          0.3584395236
                        ],
                        "iteration": 216,
                        "passed_time": 4.369329029,
                        "remaining_time": 15.76582779,
                        "test": [
                          0.8310982156,
                          0.3724697534
                        ]
                      },
                      {
                        "learn": [
                          0.8348195202,
                          0.3583243734
                        ],
                        "iteration": 217,
                        "passed_time": 4.402810294,
                        "remaining_time": 15.7935672,
                        "test": [
                          0.8296291534,
                          0.3724313834
                        ]
                      },
                      {
                        "learn": [
                          0.8348195202,
                          0.3583058618
                        ],
                        "iteration": 218,
                        "passed_time": 4.425757028,
                        "remaining_time": 15.78317917,
                        "test": [
                          0.8296291534,
                          0.3724812894
                        ]
                      },
                      {
                        "learn": [
                          0.8348195202,
                          0.3582756913
                        ],
                        "iteration": 219,
                        "passed_time": 4.451445196,
                        "remaining_time": 15.78239661,
                        "test": [
                          0.8296291534,
                          0.3724929972
                        ]
                      },
                      {
                        "learn": [
                          0.8350471724,
                          0.3582419645
                        ],
                        "iteration": 220,
                        "passed_time": 4.483648825,
                        "remaining_time": 15.80435491,
                        "test": [
                          0.8290457313,
                          0.3725007744
                        ]
                      },
                      {
                        "learn": [
                          0.8350471724,
                          0.3582265972
                        ],
                        "iteration": 221,
                        "passed_time": 4.506831108,
                        "remaining_time": 15.79420992,
                        "test": [
                          0.8290457313,
                          0.3725690614
                        ]
                      },
                      {
                        "learn": [
                          0.8350471724,
                          0.3581989519
                        ],
                        "iteration": 222,
                        "passed_time": 4.539223716,
                        "remaining_time": 15.81603958,
                        "test": [
                          0.8290457313,
                          0.3726380308
                        ]
                      },
                      {
                        "learn": [
                          0.8349712883,
                          0.358179291
                        ],
                        "iteration": 223,
                        "passed_time": 4.573313927,
                        "remaining_time": 15.84326611,
                        "test": [
                          0.8296291534,
                          0.3726495279
                        ]
                      },
                      {
                        "learn": [
                          0.8349712883,
                          0.3581365353
                        ],
                        "iteration": 224,
                        "passed_time": 4.608005523,
                        "remaining_time": 15.87201903,
                        "test": [
                          0.8296291534,
                          0.3727173409
                        ]
                      },
                      {
                        "learn": [
                          0.8349712883,
                          0.3581189502
                        ],
                        "iteration": 225,
                        "passed_time": 4.642003584,
                        "remaining_time": 15.89783528,
                        "test": [
                          0.8296291534,
                          0.3727303235
                        ]
                      },
                      {
                        "learn": [
                          0.8349712883,
                          0.3581018158
                        ],
                        "iteration": 226,
                        "passed_time": 4.672986729,
                        "remaining_time": 15.91285789,
                        "test": [
                          0.8296291534,
                          0.3727510023
                        ]
                      },
                      {
                        "learn": [
                          0.8349712883,
                          0.3580818586
                        ],
                        "iteration": 227,
                        "passed_time": 4.702519629,
                        "remaining_time": 15.92256646,
                        "test": [
                          0.8296291534,
                          0.3728327944
                        ]
                      },
                      {
                        "learn": [
                          0.8349712883,
                          0.3580483757
                        ],
                        "iteration": 228,
                        "passed_time": 4.732495428,
                        "remaining_time": 15.93342347,
                        "test": [
                          0.8296291534,
                          0.3728585754
                        ]
                      },
                      {
                        "learn": [
                          0.8349712883,
                          0.3580281453
                        ],
                        "iteration": 229,
                        "passed_time": 4.766191421,
                        "remaining_time": 15.95637997,
                        "test": [
                          0.8296291534,
                          0.3729215061
                        ]
                      },
                      {
                        "learn": [
                          0.8349712883,
                          0.3580070994
                        ],
                        "iteration": 230,
                        "passed_time": 4.801835823,
                        "remaining_time": 15.98533224,
                        "test": [
                          0.8296291534,
                          0.3729757264
                        ]
                      },
                      {
                        "learn": [
                          0.8349333463,
                          0.3579700234
                        ],
                        "iteration": 231,
                        "passed_time": 4.835095342,
                        "remaining_time": 16.00583285,
                        "test": [
                          0.8296291534,
                          0.3729865307
                        ]
                      },
                      {
                        "learn": [
                          0.8349712883,
                          0.3579239942
                        ],
                        "iteration": 232,
                        "passed_time": 4.869113185,
                        "remaining_time": 16.0283683,
                        "test": [
                          0.8297802623,
                          0.3730372639
                        ]
                      },
                      {
                        "learn": [
                          0.8349712883,
                          0.3578727949
                        ],
                        "iteration": 233,
                        "passed_time": 4.900709223,
                        "remaining_time": 16.04249258,
                        "test": [
                          0.8297802623,
                          0.3730887833
                        ]
                      },
                      {
                        "learn": [
                          0.8349712883,
                          0.3578498764
                        ],
                        "iteration": 234,
                        "passed_time": 4.926136438,
                        "remaining_time": 16.03614628,
                        "test": [
                          0.8297802623,
                          0.3731748826
                        ]
                      },
                      {
                        "learn": [
                          0.8349712883,
                          0.3578107154
                        ],
                        "iteration": 235,
                        "passed_time": 4.952143505,
                        "remaining_time": 16.03151541,
                        "test": [
                          0.8297802623,
                          0.3732478552
                        ]
                      },
                      {
                        "learn": [
                          0.8348954043,
                          0.3577704031
                        ],
                        "iteration": 236,
                        "passed_time": 4.97261514,
                        "remaining_time": 16.00888334,
                        "test": [
                          0.8297802623,
                          0.3732451553
                        ]
                      },
                      {
                        "learn": [
                          0.8348954043,
                          0.357749362
                        ],
                        "iteration": 237,
                        "passed_time": 5.005483075,
                        "remaining_time": 16.02595842,
                        "test": [
                          0.8297802623,
                          0.3733435737
                        ]
                      },
                      {
                        "learn": [
                          0.8349712883,
                          0.3577324879
                        ],
                        "iteration": 238,
                        "passed_time": 5.042634739,
                        "remaining_time": 16.05625538,
                        "test": [
                          0.8297802623,
                          0.373376191
                        ]
                      },
                      {
                        "learn": [
                          0.835041896,
                          0.3577128346
                        ],
                        "iteration": 239,
                        "passed_time": 5.07460629,
                        "remaining_time": 16.06958659,
                        "test": [
                          0.8297802623,
                          0.3734070681
                        ]
                      },
                      {
                        "learn": [
                          0.835041896,
                          0.357672019
                        ],
                        "iteration": 240,
                        "passed_time": 5.107510551,
                        "remaining_time": 16.08547929,
                        "test": [
                          0.8297802623,
                          0.3734593539
                        ]
                      },
                      {
                        "learn": [
                          0.835041896,
                          0.3576501937
                        ],
                        "iteration": 241,
                        "passed_time": 5.140336767,
                        "remaining_time": 16.10072425,
                        "test": [
                          0.8297802623,
                          0.3735041763
                        ]
                      },
                      {
                        "learn": [
                          0.8348954043,
                          0.3576255208
                        ],
                        "iteration": 242,
                        "passed_time": 5.173609017,
                        "remaining_time": 16.11696307,
                        "test": [
                          0.8297802623,
                          0.3735582904
                        ]
                      },
                      {
                        "learn": [
                          0.8351177801,
                          0.3575664525
                        ],
                        "iteration": 243,
                        "passed_time": 5.205724116,
                        "remaining_time": 16.12921079,
                        "test": [
                          0.8297802623,
                          0.3735766019
                        ]
                      },
                      {
                        "learn": [
                          0.835041896,
                          0.3575448805
                        ],
                        "iteration": 244,
                        "passed_time": 5.233232436,
                        "remaining_time": 16.12689995,
                        "test": [
                          0.8297802623,
                          0.373632136
                        ]
                      },
                      {
                        "learn": [
                          0.8351177801,
                          0.3575181748
                        ],
                        "iteration": 245,
                        "passed_time": 5.247723304,
                        "remaining_time": 16.08448525,
                        "test": [
                          0.8297802623,
                          0.3736377256
                        ]
                      },
                      {
                        "learn": [
                          0.8351177801,
                          0.3574979844
                        ],
                        "iteration": 246,
                        "passed_time": 5.26439589,
                        "remaining_time": 16.04894779,
                        "test": [
                          0.8297802623,
                          0.3737014305
                        ]
                      },
                      {
                        "learn": [
                          0.8351177801,
                          0.3574779212
                        ],
                        "iteration": 247,
                        "passed_time": 5.278893556,
                        "remaining_time": 16.00696756,
                        "test": [
                          0.8297802623,
                          0.3737571264
                        ]
                      },
                      {
                        "learn": [
                          0.8351177801,
                          0.3574385792
                        ],
                        "iteration": 248,
                        "passed_time": 5.293152997,
                        "remaining_time": 15.96448956,
                        "test": [
                          0.8297802623,
                          0.3738428491
                        ]
                      },
                      {
                        "learn": [
                          0.8352642719,
                          0.3574014016
                        ],
                        "iteration": 249,
                        "passed_time": 5.307376565,
                        "remaining_time": 15.92212969,
                        "test": [
                          0.8294780445,
                          0.3738555466
                        ]
                      },
                      {
                        "learn": [
                          0.8350798381,
                          0.3573362838
                        ],
                        "iteration": 250,
                        "passed_time": 5.322143492,
                        "remaining_time": 15.88161544,
                        "test": [
                          0.8293269355,
                          0.3738669465
                        ]
                      },
                      {
                        "learn": [
                          0.834966012,
                          0.3572925831
                        ],
                        "iteration": 251,
                        "passed_time": 5.336831805,
                        "remaining_time": 15.84107218,
                        "test": [
                          0.8291758266,
                          0.3739089862
                        ]
                      },
                      {
                        "learn": [
                          0.834966012,
                          0.3572619138
                        ],
                        "iteration": 252,
                        "passed_time": 5.352120562,
                        "remaining_time": 15.80250617,
                        "test": [
                          0.8291758266,
                          0.3739454414
                        ]
                      },
                      {
                        "learn": [
                          0.8351177801,
                          0.3572376488
                        ],
                        "iteration": 253,
                        "passed_time": 5.366148293,
                        "remaining_time": 15.76041979,
                        "test": [
                          0.8291758266,
                          0.3740095139
                        ]
                      },
                      {
                        "learn": [
                          0.8351177801,
                          0.3572050296
                        ],
                        "iteration": 254,
                        "passed_time": 5.380735588,
                        "remaining_time": 15.72018829,
                        "test": [
                          0.8291758266,
                          0.37404141
                        ]
                      },
                      {
                        "learn": [
                          0.8351557221,
                          0.3571647532
                        ],
                        "iteration": 255,
                        "passed_time": 5.394778753,
                        "remaining_time": 15.67857575,
                        "test": [
                          0.8293269355,
                          0.3740912219
                        ]
                      },
                      {
                        "learn": [
                          0.8351557221,
                          0.3571357319
                        ],
                        "iteration": 256,
                        "passed_time": 5.409866663,
                        "remaining_time": 15.64019817,
                        "test": [
                          0.8293269355,
                          0.3741625908
                        ]
                      },
                      {
                        "learn": [
                          0.8351557221,
                          0.3571161868
                        ],
                        "iteration": 257,
                        "passed_time": 5.42462957,
                        "remaining_time": 15.60106644,
                        "test": [
                          0.8293269355,
                          0.3742060121
                        ]
                      },
                      {
                        "learn": [
                          0.8351557221,
                          0.357087335
                        ],
                        "iteration": 258,
                        "passed_time": 5.439583101,
                        "remaining_time": 15.56266825,
                        "test": [
                          0.8293269355,
                          0.3743226308
                        ]
                      },
                      {
                        "learn": [
                          0.8351557221,
                          0.3570665923
                        ],
                        "iteration": 259,
                        "passed_time": 5.454458609,
                        "remaining_time": 15.52422835,
                        "test": [
                          0.8293269355,
                          0.3743794504
                        ]
                      },
                      {
                        "learn": [
                          0.8351557221,
                          0.3570273005
                        ],
                        "iteration": 260,
                        "passed_time": 5.468898454,
                        "remaining_time": 15.48473547,
                        "test": [
                          0.8293269355,
                          0.3744032041
                        ]
                      },
                      {
                        "learn": [
                          0.8351557221,
                          0.3569813646
                        ],
                        "iteration": 261,
                        "passed_time": 5.483745557,
                        "remaining_time": 15.446581,
                        "test": [
                          0.8293269355,
                          0.3744396467
                        ]
                      },
                      {
                        "learn": [
                          0.8351557221,
                          0.3569442855
                        ],
                        "iteration": 262,
                        "passed_time": 5.498354419,
                        "remaining_time": 15.40793615,
                        "test": [
                          0.8293269355,
                          0.3744567173
                        ]
                      },
                      {
                        "learn": [
                          0.8350798381,
                          0.3569232992
                        ],
                        "iteration": 263,
                        "passed_time": 5.515451443,
                        "remaining_time": 15.37641008,
                        "test": [
                          0.8293269355,
                          0.3744982252
                        ]
                      },
                      {
                        "learn": [
                          0.8352316062,
                          0.356880481
                        ],
                        "iteration": 264,
                        "passed_time": 5.529442783,
                        "remaining_time": 15.33637904,
                        "test": [
                          0.8287435134,
                          0.3745035109
                        ]
                      },
                      {
                        "learn": [
                          0.8352316062,
                          0.3568598782
                        ],
                        "iteration": 265,
                        "passed_time": 5.543633132,
                        "remaining_time": 15.29709293,
                        "test": [
                          0.8287435134,
                          0.3745628349
                        ]
                      },
                      {
                        "learn": [
                          0.8352316062,
                          0.3568394357
                        ],
                        "iteration": 266,
                        "passed_time": 5.558005257,
                        "remaining_time": 15.25849383,
                        "test": [
                          0.8287435134,
                          0.3746065151
                        ]
                      },
                      {
                        "learn": [
                          0.8352316062,
                          0.3568000058
                        ],
                        "iteration": 267,
                        "passed_time": 5.572053278,
                        "remaining_time": 15.2191903,
                        "test": [
                          0.8287435134,
                          0.3745941021
                        ]
                      },
                      {
                        "learn": [
                          0.8352316062,
                          0.3567625154
                        ],
                        "iteration": 268,
                        "passed_time": 5.586002468,
                        "remaining_time": 15.17980596,
                        "test": [
                          0.8287435134,
                          0.374638236
                        ]
                      },
                      {
                        "learn": [
                          0.8352316062,
                          0.3567485256
                        ],
                        "iteration": 269,
                        "passed_time": 5.600426149,
                        "remaining_time": 15.14189292,
                        "test": [
                          0.8287435134,
                          0.3746580265
                        ]
                      },
                      {
                        "learn": [
                          0.8351557221,
                          0.356703544
                        ],
                        "iteration": 270,
                        "passed_time": 5.614627013,
                        "remaining_time": 15.10355385,
                        "test": [
                          0.8287435134,
                          0.3746872219
                        ]
                      },
                      {
                        "learn": [
                          0.8352695482,
                          0.3566918225
                        ],
                        "iteration": 271,
                        "passed_time": 5.628947766,
                        "remaining_time": 15.06571314,
                        "test": [
                          0.8280089823,
                          0.3747031451
                        ]
                      },
                      {
                        "learn": [
                          0.8356763578,
                          0.3566364867
                        ],
                        "iteration": 272,
                        "passed_time": 5.643466769,
                        "remaining_time": 15.02857268,
                        "test": [
                          0.8278578733,
                          0.374720197
                        ]
                      },
                      {
                        "learn": [
                          0.8356004738,
                          0.3566200668
                        ],
                        "iteration": 273,
                        "passed_time": 5.657837124,
                        "remaining_time": 14.99120348,
                        "test": [
                          0.8278578733,
                          0.3747622942
                        ]
                      },
                      {
                        "learn": [
                          0.8356004738,
                          0.3565782691
                        ],
                        "iteration": 274,
                        "passed_time": 5.67245994,
                        "remaining_time": 14.95466711,
                        "test": [
                          0.8278578733,
                          0.3748076616
                        ]
                      },
                      {
                        "learn": [
                          0.8356004738,
                          0.3565696248
                        ],
                        "iteration": 275,
                        "passed_time": 5.686403954,
                        "remaining_time": 14.91650892,
                        "test": [
                          0.8278578733,
                          0.3748287986
                        ]
                      },
                      {
                        "learn": [
                          0.8356004738,
                          0.356547364
                        ],
                        "iteration": 276,
                        "passed_time": 5.700830629,
                        "remaining_time": 14.87978536,
                        "test": [
                          0.8278578733,
                          0.3748996154
                        ]
                      },
                      {
                        "learn": [
                          0.8357469655,
                          0.3565249719
                        ],
                        "iteration": 277,
                        "passed_time": 5.714861511,
                        "remaining_time": 14.84219428,
                        "test": [
                          0.8278578733,
                          0.3749101208
                        ]
                      },
                      {
                        "learn": [
                          0.8356710815,
                          0.3564879556
                        ],
                        "iteration": 278,
                        "passed_time": 5.729326606,
                        "remaining_time": 14.8058942,
                        "test": [
                          0.8278578733,
                          0.3749466884
                        ]
                      },
                      {
                        "learn": [
                          0.8356710815,
                          0.3564686047
                        ],
                        "iteration": 279,
                        "passed_time": 5.743923289,
                        "remaining_time": 14.77008846,
                        "test": [
                          0.8278578733,
                          0.3749791564
                        ]
                      },
                      {
                        "learn": [
                          0.8357796312,
                          0.356438625
                        ],
                        "iteration": 280,
                        "passed_time": 5.758260102,
                        "remaining_time": 14.73376873,
                        "test": [
                          0.8279879687,
                          0.3749898025
                        ]
                      },
                      {
                        "learn": [
                          0.8357796312,
                          0.3564166001
                        ],
                        "iteration": 281,
                        "passed_time": 5.772803873,
                        "remaining_time": 14.69813185,
                        "test": [
                          0.8279879687,
                          0.3750037362
                        ]
                      },
                      {
                        "learn": [
                          0.8357796312,
                          0.3563996566
                        ],
                        "iteration": 282,
                        "passed_time": 5.787144323,
                        "remaining_time": 14.6621289,
                        "test": [
                          0.8279879687,
                          0.3750693576
                        ]
                      },
                      {
                        "learn": [
                          0.8357796312,
                          0.3563758184
                        ],
                        "iteration": 283,
                        "passed_time": 5.802009084,
                        "remaining_time": 14.62760037,
                        "test": [
                          0.8279879687,
                          0.3751102505
                        ]
                      },
                      {
                        "learn": [
                          0.8358175732,
                          0.356331783
                        ],
                        "iteration": 284,
                        "passed_time": 5.816928346,
                        "remaining_time": 14.59334655,
                        "test": [
                          0.8281390776,
                          0.3751384207
                        ]
                      },
                      {
                        "learn": [
                          0.8358555153,
                          0.3562499652
                        ],
                        "iteration": 285,
                        "passed_time": 5.831927998,
                        "remaining_time": 14.55942864,
                        "test": [
                          0.8281390776,
                          0.3751015508
                        ]
                      },
                      {
                        "learn": [
                          0.8358555153,
                          0.3562220845
                        ],
                        "iteration": 286,
                        "passed_time": 5.846710245,
                        "remaining_time": 14.52510246,
                        "test": [
                          0.8281390776,
                          0.3751552388
                        ]
                      },
                      {
                        "learn": [
                          0.8358555153,
                          0.3561911074
                        ],
                        "iteration": 287,
                        "passed_time": 5.861676195,
                        "remaining_time": 14.49136615,
                        "test": [
                          0.8281390776,
                          0.3752586837
                        ]
                      },
                      {
                        "learn": [
                          0.8359967307,
                          0.3561552588
                        ],
                        "iteration": 288,
                        "passed_time": 5.878218802,
                        "remaining_time": 14.46163864,
                        "test": [
                          0.8281390776,
                          0.3752960811
                        ]
                      },
                      {
                        "learn": [
                          0.8360726148,
                          0.3561179979
                        ],
                        "iteration": 289,
                        "passed_time": 5.892844621,
                        "remaining_time": 14.42730924,
                        "test": [
                          0.8275556555,
                          0.375349598
                        ]
                      },
                      {
                        "learn": [
                          0.8360726148,
                          0.3560996061
                        ],
                        "iteration": 290,
                        "passed_time": 5.907458275,
                        "remaining_time": 14.39308563,
                        "test": [
                          0.8275556555,
                          0.3754082148
                        ]
                      },
                      {
                        "learn": [
                          0.8361484988,
                          0.3560465813
                        ],
                        "iteration": 291,
                        "passed_time": 5.922200839,
                        "remaining_time": 14.35930888,
                        "test": [
                          0.8275556555,
                          0.3754361968
                        ]
                      },
                      {
                        "learn": [
                          0.8361484988,
                          0.3560038137
                        ],
                        "iteration": 292,
                        "passed_time": 5.937015528,
                        "remaining_time": 14.3258361,
                        "test": [
                          0.8275556555,
                          0.3754598165
                        ]
                      },
                      {
                        "learn": [
                          0.8361484988,
                          0.3559903807
                        ],
                        "iteration": 293,
                        "passed_time": 5.951269075,
                        "remaining_time": 14.29114275,
                        "test": [
                          0.8275556555,
                          0.3754887523
                        ]
                      },
                      {
                        "learn": [
                          0.8361484988,
                          0.3559687178
                        ],
                        "iteration": 294,
                        "passed_time": 5.965855421,
                        "remaining_time": 14.25738329,
                        "test": [
                          0.8275556555,
                          0.3755345959
                        ]
                      },
                      {
                        "learn": [
                          0.8361484988,
                          0.3559284674
                        ],
                        "iteration": 295,
                        "passed_time": 5.980455311,
                        "remaining_time": 14.2237856,
                        "test": [
                          0.8275556555,
                          0.375597485
                        ]
                      },
                      {
                        "learn": [
                          0.8361484988,
                          0.3559116863
                        ],
                        "iteration": 296,
                        "passed_time": 5.995095905,
                        "remaining_time": 14.19041219,
                        "test": [
                          0.8275556555,
                          0.3756330701
                        ]
                      },
                      {
                        "learn": [
                          0.8361484988,
                          0.3558845208
                        ],
                        "iteration": 297,
                        "passed_time": 6.018789271,
                        "remaining_time": 14.17849016,
                        "test": [
                          0.8275556555,
                          0.3756876338
                        ]
                      },
                      {
                        "learn": [
                          0.8361484988,
                          0.3558543536
                        ],
                        "iteration": 298,
                        "passed_time": 6.042295895,
                        "remaining_time": 14.16605158,
                        "test": [
                          0.8275556555,
                          0.375713519
                        ]
                      },
                      {
                        "learn": [
                          0.8361484988,
                          0.3558217735
                        ],
                        "iteration": 299,
                        "passed_time": 6.069786448,
                        "remaining_time": 14.16283505,
                        "test": [
                          0.8275556555,
                          0.3757285497
                        ]
                      },
                      {
                        "learn": [
                          0.8361484988,
                          0.3558061731
                        ],
                        "iteration": 300,
                        "passed_time": 6.084936787,
                        "remaining_time": 14.13080005,
                        "test": [
                          0.8275556555,
                          0.3757555786
                        ]
                      },
                      {
                        "learn": [
                          0.8361484988,
                          0.355775684
                        ],
                        "iteration": 301,
                        "passed_time": 6.100736266,
                        "remaining_time": 14.1003772,
                        "test": [
                          0.8275556555,
                          0.3758837393
                        ]
                      },
                      {
                        "learn": [
                          0.8361484988,
                          0.3557467023
                        ],
                        "iteration": 302,
                        "passed_time": 6.115207032,
                        "remaining_time": 14.06699439,
                        "test": [
                          0.8275556555,
                          0.375881753
                        ]
                      },
                      {
                        "learn": [
                          0.8361484988,
                          0.3557291628
                        ],
                        "iteration": 303,
                        "passed_time": 6.130210778,
                        "remaining_time": 14.03495626,
                        "test": [
                          0.8275556555,
                          0.3759574141
                        ]
                      },
                      {
                        "learn": [
                          0.8361484988,
                          0.3557080576
                        ],
                        "iteration": 304,
                        "passed_time": 6.145472441,
                        "remaining_time": 14.00361753,
                        "test": [
                          0.8275556555,
                          0.3759955274
                        ]
                      },
                      {
                        "learn": [
                          0.8361484988,
                          0.3556869858
                        ],
                        "iteration": 305,
                        "passed_time": 6.160200687,
                        "remaining_time": 13.97117411,
                        "test": [
                          0.8275556555,
                          0.3760405829
                        ]
                      },
                      {
                        "learn": [
                          0.8361484988,
                          0.355666484
                        ],
                        "iteration": 306,
                        "passed_time": 6.176693366,
                        "remaining_time": 13.942829,
                        "test": [
                          0.8275556555,
                          0.3761233299
                        ]
                      },
                      {
                        "learn": [
                          0.8361484988,
                          0.3556415098
                        ],
                        "iteration": 307,
                        "passed_time": 6.191210066,
                        "remaining_time": 13.91012132,
                        "test": [
                          0.8275556555,
                          0.3761559137
                        ]
                      },
                      {
                        "learn": [
                          0.8361484988,
                          0.3556045695
                        ],
                        "iteration": 308,
                        "passed_time": 6.205894638,
                        "remaining_time": 13.87790678,
                        "test": [
                          0.8275556555,
                          0.3762043564
                        ]
                      },
                      {
                        "learn": [
                          0.8361484988,
                          0.3555894251
                        ],
                        "iteration": 309,
                        "passed_time": 6.219973975,
                        "remaining_time": 13.8444582,
                        "test": [
                          0.8275556555,
                          0.3762410134
                        ]
                      },
                      {
                        "learn": [
                          0.8361484988,
                          0.3555688245
                        ],
                        "iteration": 310,
                        "passed_time": 6.234341344,
                        "remaining_time": 13.8117723,
                        "test": [
                          0.8275556555,
                          0.3762587787
                        ]
                      },
                      {
                        "learn": [
                          0.8361484988,
                          0.3555528512
                        ],
                        "iteration": 311,
                        "passed_time": 6.248650878,
                        "remaining_time": 13.7790763,
                        "test": [
                          0.8275556555,
                          0.3763197563
                        ]
                      },
                      {
                        "learn": [
                          0.8361484988,
                          0.3555371132
                        ],
                        "iteration": 312,
                        "passed_time": 6.265256289,
                        "remaining_time": 13.75153697,
                        "test": [
                          0.8275556555,
                          0.3763484252
                        ]
                      },
                      {
                        "learn": [
                          0.8361484988,
                          0.3555162732
                        ],
                        "iteration": 313,
                        "passed_time": 6.279542585,
                        "remaining_time": 13.71900068,
                        "test": [
                          0.8275556555,
                          0.3763939124
                        ]
                      },
                      {
                        "learn": [
                          0.8361484988,
                          0.3554684678
                        ],
                        "iteration": 314,
                        "passed_time": 6.296816484,
                        "remaining_time": 13.69307712,
                        "test": [
                          0.8275556555,
                          0.3764307247
                        ]
                      },
                      {
                        "learn": [
                          0.8361484988,
                          0.3554451156
                        ],
                        "iteration": 315,
                        "passed_time": 6.311756397,
                        "remaining_time": 13.66215625,
                        "test": [
                          0.8275556555,
                          0.3764287745
                        ]
                      },
                      {
                        "learn": [
                          0.8361484988,
                          0.355422574
                        ],
                        "iteration": 316,
                        "passed_time": 6.326754019,
                        "remaining_time": 13.63146055,
                        "test": [
                          0.8275556555,
                          0.3765229482
                        ]
                      },
                      {
                        "learn": [
                          0.8361484988,
                          0.3553921108
                        ],
                        "iteration": 317,
                        "passed_time": 6.342409401,
                        "remaining_time": 13.60227425,
                        "test": [
                          0.8275556555,
                          0.3765105607
                        ]
                      },
                      {
                        "learn": [
                          0.8362623249,
                          0.3553502639
                        ],
                        "iteration": 318,
                        "passed_time": 6.356504175,
                        "remaining_time": 13.5698412,
                        "test": [
                          0.8268211244,
                          0.3765900495
                        ]
                      },
                      {
                        "learn": [
                          0.8361864408,
                          0.355336875
                        ],
                        "iteration": 319,
                        "passed_time": 6.370599861,
                        "remaining_time": 13.53752471,
                        "test": [
                          0.8268211244,
                          0.3766489509
                        ]
                      },
                      {
                        "learn": [
                          0.8362623249,
                          0.3553182285
                        ],
                        "iteration": 320,
                        "passed_time": 6.385101147,
                        "remaining_time": 13.50617968,
                        "test": [
                          0.8268211244,
                          0.3766966015
                        ]
                      },
                      {
                        "learn": [
                          0.8362623249,
                          0.3552831011
                        ],
                        "iteration": 321,
                        "passed_time": 6.399628265,
                        "remaining_time": 13.47499368,
                        "test": [
                          0.8268211244,
                          0.3767016485
                        ]
                      },
                      {
                        "learn": [
                          0.8362623249,
                          0.3552642454
                        ],
                        "iteration": 322,
                        "passed_time": 6.414613419,
                        "remaining_time": 13.44487085,
                        "test": [
                          0.8268211244,
                          0.3767311965
                        ]
                      },
                      {
                        "learn": [
                          0.8362623249,
                          0.3552436242
                        ],
                        "iteration": 323,
                        "passed_time": 6.429281248,
                        "remaining_time": 13.41417939,
                        "test": [
                          0.8268211244,
                          0.3767385558
                        ]
                      },
                      {
                        "learn": [
                          0.8362623249,
                          0.3552111261
                        ],
                        "iteration": 324,
                        "passed_time": 6.444563967,
                        "remaining_time": 13.38486362,
                        "test": [
                          0.8268211244,
                          0.3768067474
                        ]
                      },
                      {
                        "learn": [
                          0.8364088167,
                          0.3552035307
                        ],
                        "iteration": 325,
                        "passed_time": 6.458240224,
                        "remaining_time": 13.35231261,
                        "test": [
                          0.8268211244,
                          0.3768273894
                        ]
                      },
                      {
                        "learn": [
                          0.8364467587,
                          0.3551480571
                        ],
                        "iteration": 326,
                        "passed_time": 6.473966146,
                        "remaining_time": 13.32409546,
                        "test": [
                          0.8269722333,
                          0.3767875361
                        ]
                      },
                      {
                        "learn": [
                          0.8364467587,
                          0.3551364285
                        ],
                        "iteration": 327,
                        "passed_time": 6.490276794,
                        "remaining_time": 13.29715246,
                        "test": [
                          0.8269722333,
                          0.3768370971
                        ]
                      },
                      {
                        "learn": [
                          0.8363002669,
                          0.3551192236
                        ],
                        "iteration": 328,
                        "passed_time": 6.508034627,
                        "remaining_time": 13.27322564,
                        "test": [
                          0.8269722333,
                          0.3768575302
                        ]
                      },
                      {
                        "learn": [
                          0.8366638582,
                          0.3550869259
                        ],
                        "iteration": 329,
                        "passed_time": 6.52715393,
                        "remaining_time": 13.2521004,
                        "test": [
                          0.8269722333,
                          0.3769017282
                        ]
                      },
                      {
                        "learn": [
                          0.8366638582,
                          0.355069982
                        ],
                        "iteration": 330,
                        "passed_time": 6.541044613,
                        "remaining_time": 13.22041948,
                        "test": [
                          0.8269722333,
                          0.3769555903
                        ]
                      },
                      {
                        "learn": [
                          0.8366638582,
                          0.3550511278
                        ],
                        "iteration": 331,
                        "passed_time": 6.555234321,
                        "remaining_time": 13.18944737,
                        "test": [
                          0.8269722333,
                          0.3770172569
                        ]
                      },
                      {
                        "learn": [
                          0.8366638582,
                          0.3550149208
                        ],
                        "iteration": 332,
                        "passed_time": 6.569733202,
                        "remaining_time": 13.15919533,
                        "test": [
                          0.8269722333,
                          0.3769781008
                        ]
                      },
                      {
                        "learn": [
                          0.8364414824,
                          0.3549549633
                        ],
                        "iteration": 333,
                        "passed_time": 6.584617703,
                        "remaining_time": 13.12980656,
                        "test": [
                          0.8266700154,
                          0.3769562589
                        ]
                      },
                      {
                        "learn": [
                          0.8364414824,
                          0.3549314021
                        ],
                        "iteration": 334,
                        "passed_time": 6.599306732,
                        "remaining_time": 13.10011635,
                        "test": [
                          0.8266700154,
                          0.3770193306
                        ]
                      },
                      {
                        "learn": [
                          0.8364414824,
                          0.3549175212
                        ],
                        "iteration": 335,
                        "passed_time": 6.614009617,
                        "remaining_time": 13.07054281,
                        "test": [
                          0.8266700154,
                          0.3770700979
                        ]
                      },
                      {
                        "learn": [
                          0.8365879741,
                          0.3548802557
                        ],
                        "iteration": 336,
                        "passed_time": 6.62896276,
                        "remaining_time": 13.04154988,
                        "test": [
                          0.8266700154,
                          0.3770693932
                        ]
                      },
                      {
                        "learn": [
                          0.8365879741,
                          0.3548692396
                        ],
                        "iteration": 337,
                        "passed_time": 6.643013838,
                        "remaining_time": 13.01087326,
                        "test": [
                          0.8266700154,
                          0.3771119487
                        ]
                      },
                      {
                        "learn": [
                          0.8365879741,
                          0.3548076094
                        ],
                        "iteration": 338,
                        "passed_time": 6.657505208,
                        "remaining_time": 12.98115322,
                        "test": [
                          0.8266700154,
                          0.3771628566
                        ]
                      },
                      {
                        "learn": [
                          0.8367344659,
                          0.3547996944
                        ],
                        "iteration": 339,
                        "passed_time": 6.671594657,
                        "remaining_time": 12.95074257,
                        "test": [
                          0.8266700154,
                          0.3771825034
                        ]
                      },
                      {
                        "learn": [
                          0.8365879741,
                          0.354782532
                        ],
                        "iteration": 340,
                        "passed_time": 6.686078254,
                        "remaining_time": 12.92118935,
                        "test": [
                          0.8266700154,
                          0.377243575
                        ]
                      },
                      {
                        "learn": [
                          0.8367018002,
                          0.3547571139
                        ],
                        "iteration": 341,
                        "passed_time": 6.700609252,
                        "remaining_time": 12.89181546,
                        "test": [
                          0.8259354843,
                          0.3773189902
                        ]
                      },
                      {
                        "learn": [
                          0.836848292,
                          0.3547467676
                        ],
                        "iteration": 342,
                        "passed_time": 6.715176329,
                        "remaining_time": 12.86259723,
                        "test": [
                          0.8259354843,
                          0.3773239521
                        ]
                      },
                      {
                        "learn": [
                          0.8367724079,
                          0.3547336097
                        ],
                        "iteration": 343,
                        "passed_time": 6.729698014,
                        "remaining_time": 12.83337761,
                        "test": [
                          0.8259354843,
                          0.3773404528
                        ]
                      },
                      {
                        "learn": [
                          0.8367724079,
                          0.3547140144
                        ],
                        "iteration": 344,
                        "passed_time": 6.743761383,
                        "remaining_time": 12.80337306,
                        "test": [
                          0.8259354843,
                          0.3773985632
                        ]
                      },
                      {
                        "learn": [
                          0.8369188997,
                          0.3546868712
                        ],
                        "iteration": 345,
                        "passed_time": 6.757995049,
                        "remaining_time": 12.77378255,
                        "test": [
                          0.8259354843,
                          0.3774470109
                        ]
                      },
                      {
                        "learn": [
                          0.8369188997,
                          0.3546717192
                        ],
                        "iteration": 346,
                        "passed_time": 6.772441985,
                        "remaining_time": 12.74468189,
                        "test": [
                          0.8259354843,
                          0.3774768272
                        ]
                      },
                      {
                        "learn": [
                          0.8367724079,
                          0.3546531338
                        ],
                        "iteration": 347,
                        "passed_time": 6.787812684,
                        "remaining_time": 12.71739618,
                        "test": [
                          0.8259354843,
                          0.3775096117
                        ]
                      },
                      {
                        "learn": [
                          0.8367724079,
                          0.3546380632
                        ],
                        "iteration": 348,
                        "passed_time": 6.802014806,
                        "remaining_time": 12.68799896,
                        "test": [
                          0.8259354843,
                          0.3775573243
                        ]
                      },
                      {
                        "learn": [
                          0.8369188997,
                          0.3546225625
                        ],
                        "iteration": 349,
                        "passed_time": 6.816081863,
                        "remaining_time": 12.65843774,
                        "test": [
                          0.8259354843,
                          0.3775829451
                        ]
                      },
                      {
                        "learn": [
                          0.8369188997,
                          0.3546115358
                        ],
                        "iteration": 350,
                        "passed_time": 6.830083235,
                        "remaining_time": 12.62884336,
                        "test": [
                          0.8259354843,
                          0.3776200033
                        ]
                      },
                      {
                        "learn": [
                          0.8369188997,
                          0.3545848859
                        ],
                        "iteration": 351,
                        "passed_time": 6.844675203,
                        "remaining_time": 12.60042481,
                        "test": [
                          0.8259354843,
                          0.3776818332
                        ]
                      },
                      {
                        "learn": [
                          0.8369188997,
                          0.3545606171
                        ],
                        "iteration": 352,
                        "passed_time": 6.86094029,
                        "remaining_time": 12.57515118,
                        "test": [
                          0.8259354843,
                          0.3777517594
                        ]
                      },
                      {
                        "learn": [
                          0.8369188997,
                          0.3545424732
                        ],
                        "iteration": 353,
                        "passed_time": 6.877836214,
                        "remaining_time": 12.55107964,
                        "test": [
                          0.8259354843,
                          0.3777928646
                        ]
                      },
                      {
                        "learn": [
                          0.8369188997,
                          0.3545287401
                        ],
                        "iteration": 354,
                        "passed_time": 6.892771187,
                        "remaining_time": 12.52348568,
                        "test": [
                          0.8259354843,
                          0.3778235966
                        ]
                      },
                      {
                        "learn": [
                          0.8369188997,
                          0.3545162842
                        ],
                        "iteration": 355,
                        "passed_time": 6.907036429,
                        "remaining_time": 12.49475129,
                        "test": [
                          0.8259354843,
                          0.3778377164
                        ]
                      },
                      {
                        "learn": [
                          0.8369188997,
                          0.3544798144
                        ],
                        "iteration": 356,
                        "passed_time": 6.92189151,
                        "remaining_time": 12.46716034,
                        "test": [
                          0.8259354843,
                          0.3778672572
                        ]
                      },
                      {
                        "learn": [
                          0.8369188997,
                          0.3544123163
                        ],
                        "iteration": 357,
                        "passed_time": 6.936532382,
                        "remaining_time": 12.43925639,
                        "test": [
                          0.8259354843,
                          0.377875294
                        ]
                      },
                      {
                        "learn": [
                          0.8369947837,
                          0.3544011769
                        ],
                        "iteration": 358,
                        "passed_time": 6.950458071,
                        "remaining_time": 12.41014937,
                        "test": [
                          0.8259354843,
                          0.3779402634
                        ]
                      },
                      {
                        "learn": [
                          0.8369947837,
                          0.3543849068
                        ],
                        "iteration": 359,
                        "passed_time": 6.965022921,
                        "remaining_time": 12.38226297,
                        "test": [
                          0.8259354843,
                          0.3779912847
                        ]
                      },
                      {
                        "learn": [
                          0.8369947837,
                          0.3543693515
                        ],
                        "iteration": 360,
                        "passed_time": 6.979340398,
                        "remaining_time": 12.35401251,
                        "test": [
                          0.8259354843,
                          0.378045722
                        ]
                      },
                      {
                        "learn": [
                          0.8369947837,
                          0.3543567211
                        ],
                        "iteration": 361,
                        "passed_time": 6.994713443,
                        "remaining_time": 12.32769938,
                        "test": [
                          0.8259354843,
                          0.3780901626
                        ]
                      },
                      {
                        "learn": [
                          0.8369947837,
                          0.3543403409
                        ],
                        "iteration": 362,
                        "passed_time": 7.009173252,
                        "remaining_time": 12.29984397,
                        "test": [
                          0.8259354843,
                          0.3781101994
                        ]
                      },
                      {
                        "learn": [
                          0.8369947837,
                          0.3543191103
                        ],
                        "iteration": 363,
                        "passed_time": 7.045400348,
                        "remaining_time": 12.31009511,
                        "test": [
                          0.8259354843,
                          0.3781112509
                        ]
                      },
                      {
                        "learn": [
                          0.8369947837,
                          0.3543091151
                        ],
                        "iteration": 364,
                        "passed_time": 7.059832837,
                        "remaining_time": 12.28217494,
                        "test": [
                          0.8259354843,
                          0.3781805071
                        ]
                      },
                      {
                        "learn": [
                          0.8369947837,
                          0.3542837022
                        ],
                        "iteration": 365,
                        "passed_time": 7.085585088,
                        "remaining_time": 12.27393701,
                        "test": [
                          0.8259354843,
                          0.3782253394
                        ]
                      },
                      {
                        "learn": [
                          0.8370327258,
                          0.3542649683
                        ],
                        "iteration": 366,
                        "passed_time": 7.10041064,
                        "remaining_time": 12.24675732,
                        "test": [
                          0.8252009532,
                          0.3782590613
                        ]
                      },
                      {
                        "learn": [
                          0.8370327258,
                          0.3542549584
                        ],
                        "iteration": 367,
                        "passed_time": 7.114785582,
                        "remaining_time": 12.21887089,
                        "test": [
                          0.8252009532,
                          0.3782981085
                        ]
                      },
                      {
                        "learn": [
                          0.8371465518,
                          0.3542396276
                        ],
                        "iteration": 368,
                        "passed_time": 7.130139673,
                        "remaining_time": 12.19273207,
                        "test": [
                          0.8244664222,
                          0.3783735448
                        ]
                      },
                      {
                        "learn": [
                          0.8371465518,
                          0.3542037142
                        ],
                        "iteration": 369,
                        "passed_time": 7.144281261,
                        "remaining_time": 12.16458701,
                        "test": [
                          0.8244664222,
                          0.3783820992
                        ]
                      },
                      {
                        "learn": [
                          0.8371465518,
                          0.3541909696
                        ],
                        "iteration": 370,
                        "passed_time": 7.158503069,
                        "remaining_time": 12.13665345,
                        "test": [
                          0.8244664222,
                          0.3784078888
                        ]
                      },
                      {
                        "learn": [
                          0.8371465518,
                          0.3541697548
                        ],
                        "iteration": 371,
                        "passed_time": 7.175692325,
                        "remaining_time": 12.11380317,
                        "test": [
                          0.8244664222,
                          0.3784631424
                        ]
                      },
                      {
                        "learn": [
                          0.8371465518,
                          0.3541508231
                        ],
                        "iteration": 372,
                        "passed_time": 7.189952023,
                        "remaining_time": 12.08605876,
                        "test": [
                          0.8244664222,
                          0.3784741231
                        ]
                      },
                      {
                        "learn": [
                          0.8372224359,
                          0.3541360195
                        ],
                        "iteration": 373,
                        "passed_time": 7.204450635,
                        "remaining_time": 12.05878636,
                        "test": [
                          0.8244664222,
                          0.3785275908
                        ]
                      },
                      {
                        "learn": [
                          0.8372224359,
                          0.3541167571
                        ],
                        "iteration": 374,
                        "passed_time": 7.218437758,
                        "remaining_time": 12.0307296,
                        "test": [
                          0.8244664222,
                          0.378547482
                        ]
                      },
                      {
                        "learn": [
                          0.8372224359,
                          0.3540980117
                        ],
                        "iteration": 375,
                        "passed_time": 7.23305427,
                        "remaining_time": 12.00379219,
                        "test": [
                          0.8244664222,
                          0.3785631102
                        ]
                      },
                      {
                        "learn": [
                          0.8372603779,
                          0.354071491
                        ],
                        "iteration": 376,
                        "passed_time": 7.247312908,
                        "remaining_time": 11.97632876,
                        "test": [
                          0.8237318911,
                          0.3786143508
                        ]
                      },
                      {
                        "learn": [
                          0.8372603779,
                          0.3540558443
                        ],
                        "iteration": 377,
                        "passed_time": 7.263807285,
                        "remaining_time": 11.9526141,
                        "test": [
                          0.8237318911,
                          0.3786398457
                        ]
                      },
                      {
                        "learn": [
                          0.8372224359,
                          0.3540333686
                        ],
                        "iteration": 378,
                        "passed_time": 7.278653466,
                        "remaining_time": 11.92623695,
                        "test": [
                          0.8244664222,
                          0.3786834953
                        ]
                      },
                      {
                        "learn": [
                          0.8372224359,
                          0.3540120119
                        ],
                        "iteration": 379,
                        "passed_time": 7.294105098,
                        "remaining_time": 11.90090832,
                        "test": [
                          0.8244664222,
                          0.3787630241
                        ]
                      },
                      {
                        "learn": [
                          0.8372603779,
                          0.3539899963
                        ],
                        "iteration": 380,
                        "passed_time": 7.308762847,
                        "remaining_time": 11.87434174,
                        "test": [
                          0.8237318911,
                          0.3788301534
                        ]
                      },
                      {
                        "learn": [
                          0.8373362619,
                          0.3539560893
                        ],
                        "iteration": 381,
                        "passed_time": 7.323582083,
                        "remaining_time": 11.84809876,
                        "test": [
                          0.8237318911,
                          0.3787923992
                        ]
                      },
                      {
                        "learn": [
                          0.8373362619,
                          0.3539455409
                        ],
                        "iteration": 382,
                        "passed_time": 7.339770515,
                        "remaining_time": 11.82412117,
                        "test": [
                          0.8237318911,
                          0.3788441935
                        ]
                      },
                      {
                        "learn": [
                          0.8373362619,
                          0.3539154537
                        ],
                        "iteration": 383,
                        "passed_time": 7.354296787,
                        "remaining_time": 11.79751776,
                        "test": [
                          0.8237318911,
                          0.378876568
                        ]
                      },
                      {
                        "learn": [
                          0.8373362619,
                          0.3539055117
                        ],
                        "iteration": 384,
                        "passed_time": 7.368774389,
                        "remaining_time": 11.77089935,
                        "test": [
                          0.8237318911,
                          0.3788984457
                        ]
                      },
                      {
                        "learn": [
                          0.8373362619,
                          0.3538916736
                        ],
                        "iteration": 385,
                        "passed_time": 7.382757796,
                        "remaining_time": 11.74355774,
                        "test": [
                          0.8237318911,
                          0.3789449922
                        ]
                      },
                      {
                        "learn": [
                          0.8373362619,
                          0.3538687982
                        ],
                        "iteration": 386,
                        "passed_time": 7.396956803,
                        "remaining_time": 11.71662667,
                        "test": [
                          0.8237318911,
                          0.3790149271
                        ]
                      },
                      {
                        "learn": [
                          0.8373362619,
                          0.3538553773
                        ],
                        "iteration": 387,
                        "passed_time": 7.411397437,
                        "remaining_time": 11.69014235,
                        "test": [
                          0.8237318911,
                          0.3790621275
                        ]
                      },
                      {
                        "learn": [
                          0.837412146,
                          0.3538364129
                        ],
                        "iteration": 388,
                        "passed_time": 7.425810075,
                        "remaining_time": 11.66367598,
                        "test": [
                          0.8237318911,
                          0.3791317241
                        ]
                      },
                      {
                        "learn": [
                          0.837412146,
                          0.3538164585
                        ],
                        "iteration": 389,
                        "passed_time": 7.440338251,
                        "remaining_time": 11.63745214,
                        "test": [
                          0.8237318911,
                          0.3791700725
                        ]
                      },
                      {
                        "learn": [
                          0.837412146,
                          0.3538064316
                        ],
                        "iteration": 390,
                        "passed_time": 7.454656986,
                        "remaining_time": 11.6109619,
                        "test": [
                          0.8237318911,
                          0.3792154432
                        ]
                      },
                      {
                        "learn": [
                          0.83748803,
                          0.3537776388
                        ],
                        "iteration": 391,
                        "passed_time": 7.468978807,
                        "remaining_time": 11.58453856,
                        "test": [
                          0.8237318911,
                          0.3792645337
                        ]
                      },
                      {
                        "learn": [
                          0.83748803,
                          0.3537549535
                        ],
                        "iteration": 392,
                        "passed_time": 7.483516571,
                        "remaining_time": 11.55851033,
                        "test": [
                          0.8237318911,
                          0.3793345091
                        ]
                      },
                      {
                        "learn": [
                          0.83748803,
                          0.3537370681
                        ],
                        "iteration": 393,
                        "passed_time": 7.500226336,
                        "remaining_time": 11.53588112,
                        "test": [
                          0.8237318911,
                          0.3793846783
                        ]
                      },
                      {
                        "learn": [
                          0.83748803,
                          0.3537158244
                        ],
                        "iteration": 394,
                        "passed_time": 7.515034219,
                        "remaining_time": 11.51036887,
                        "test": [
                          0.8237318911,
                          0.3794149461
                        ]
                      },
                      {
                        "learn": [
                          0.837412146,
                          0.3536753325
                        ],
                        "iteration": 395,
                        "passed_time": 7.530280364,
                        "remaining_time": 11.48557914,
                        "test": [
                          0.8237318911,
                          0.3793953485
                        ]
                      },
                      {
                        "learn": [
                          0.837412146,
                          0.3536522585
                        ],
                        "iteration": 396,
                        "passed_time": 7.545060884,
                        "remaining_time": 11.46013026,
                        "test": [
                          0.8237318911,
                          0.3794116186
                        ]
                      },
                      {
                        "learn": [
                          0.83748803,
                          0.3536405382
                        ],
                        "iteration": 397,
                        "passed_time": 7.559401918,
                        "remaining_time": 11.43407024,
                        "test": [
                          0.8237318911,
                          0.3794479169
                        ]
                      },
                      {
                        "learn": [
                          0.8375639141,
                          0.3536221879
                        ],
                        "iteration": 398,
                        "passed_time": 7.574033425,
                        "remaining_time": 11.40850649,
                        "test": [
                          0.8222628289,
                          0.3795279939
                        ]
                      },
                      {
                        "learn": [
                          0.8375639141,
                          0.3536090234
                        ],
                        "iteration": 399,
                        "passed_time": 7.58845661,
                        "remaining_time": 11.38268492,
                        "test": [
                          0.8222628289,
                          0.3795554161
                        ]
                      },
                      {
                        "learn": [
                          0.8375639141,
                          0.3535880006
                        ],
                        "iteration": 400,
                        "passed_time": 7.60284562,
                        "remaining_time": 11.35686914,
                        "test": [
                          0.8222628289,
                          0.3795982357
                        ]
                      },
                      {
                        "learn": [
                          0.8375639141,
                          0.3535561326
                        ],
                        "iteration": 401,
                        "passed_time": 7.617320321,
                        "remaining_time": 11.33123769,
                        "test": [
                          0.8222628289,
                          0.3796420289
                        ]
                      },
                      {
                        "learn": [
                          0.8375639141,
                          0.35353352
                        ],
                        "iteration": 402,
                        "passed_time": 7.631502945,
                        "remaining_time": 11.30522893,
                        "test": [
                          0.8222628289,
                          0.3796855497
                        ]
                      },
                      {
                        "learn": [
                          0.8376071324,
                          0.3535212849
                        ],
                        "iteration": 403,
                        "passed_time": 7.645485007,
                        "remaining_time": 11.27898283,
                        "test": [
                          0.8224139378,
                          0.3797306564
                        ]
                      },
                      {
                        "learn": [
                          0.8376071324,
                          0.3534908035
                        ],
                        "iteration": 404,
                        "passed_time": 7.659604801,
                        "remaining_time": 11.25299965,
                        "test": [
                          0.8224139378,
                          0.3797293533
                        ]
                      },
                      {
                        "learn": [
                          0.8376071324,
                          0.3534647252
                        ],
                        "iteration": 405,
                        "passed_time": 7.673731972,
                        "remaining_time": 11.22708569,
                        "test": [
                          0.8224139378,
                          0.3798266417
                        ]
                      },
                      {
                        "learn": [
                          0.8376071324,
                          0.3534533232
                        ],
                        "iteration": 406,
                        "passed_time": 7.688191479,
                        "remaining_time": 11.20171387,
                        "test": [
                          0.8224139378,
                          0.3798674889
                        ]
                      },
                      {
                        "learn": [
                          0.8376071324,
                          0.3534411164
                        ],
                        "iteration": 407,
                        "passed_time": 7.702693747,
                        "remaining_time": 11.17645759,
                        "test": [
                          0.8224139378,
                          0.3798835292
                        ]
                      },
                      {
                        "learn": [
                          0.8375365247,
                          0.3534285967
                        ],
                        "iteration": 408,
                        "passed_time": 7.716769094,
                        "remaining_time": 11.150637,
                        "test": [
                          0.8218305157,
                          0.3799534038
                        ]
                      },
                      {
                        "learn": [
                          0.8377262348,
                          0.3534102209
                        ],
                        "iteration": 409,
                        "passed_time": 7.730970766,
                        "remaining_time": 11.12505549,
                        "test": [
                          0.8205125624,
                          0.3800547083
                        ]
                      },
                      {
                        "learn": [
                          0.8377262348,
                          0.3533988075
                        ],
                        "iteration": 410,
                        "passed_time": 7.745655122,
                        "remaining_time": 11.10022109,
                        "test": [
                          0.8205125624,
                          0.3800828295
                        ]
                      },
                      {
                        "learn": [
                          0.8378347846,
                          0.3533806599
                        ],
                        "iteration": 411,
                        "passed_time": 7.760081612,
                        "remaining_time": 11.07506793,
                        "test": [
                          0.8203614535,
                          0.3800875026
                        ]
                      },
                      {
                        "learn": [
                          0.8377262348,
                          0.3533576467
                        ],
                        "iteration": 412,
                        "passed_time": 7.774362926,
                        "remaining_time": 11.04976038,
                        "test": [
                          0.8205125624,
                          0.3801538106
                        ]
                      },
                      {
                        "learn": [
                          0.8377262348,
                          0.3533435415
                        ],
                        "iteration": 413,
                        "passed_time": 7.788556141,
                        "remaining_time": 11.0243814,
                        "test": [
                          0.8205125624,
                          0.380213173
                        ]
                      },
                      {
                        "learn": [
                          0.8377262348,
                          0.3533115079
                        ],
                        "iteration": 414,
                        "passed_time": 7.803644543,
                        "remaining_time": 11.00031821,
                        "test": [
                          0.8205125624,
                          0.3802712775
                        ]
                      },
                      {
                        "learn": [
                          0.8377262348,
                          0.3533013654
                        ],
                        "iteration": 415,
                        "passed_time": 7.819828889,
                        "remaining_time": 10.97783671,
                        "test": [
                          0.8205125624,
                          0.3803095165
                        ]
                      },
                      {
                        "learn": [
                          0.8377262348,
                          0.353287166
                        ],
                        "iteration": 416,
                        "passed_time": 7.834094699,
                        "remaining_time": 10.95270314,
                        "test": [
                          0.8205125624,
                          0.3803573037
                        ]
                      },
                      {
                        "learn": [
                          0.8377262348,
                          0.3532799296
                        ],
                        "iteration": 417,
                        "passed_time": 7.848675531,
                        "remaining_time": 10.92806019,
                        "test": [
                          0.8205125624,
                          0.3803679574
                        ]
                      },
                      {
                        "learn": [
                          0.8377262348,
                          0.3532682517
                        ],
                        "iteration": 418,
                        "passed_time": 7.864350708,
                        "remaining_time": 10.90498272,
                        "test": [
                          0.8205125624,
                          0.380398908
                        ]
                      },
                      {
                        "learn": [
                          0.8377262348,
                          0.3532440343
                        ],
                        "iteration": 419,
                        "passed_time": 7.881454664,
                        "remaining_time": 10.88391358,
                        "test": [
                          0.8205125624,
                          0.380454667
                        ]
                      },
                      {
                        "learn": [
                          0.8377262348,
                          0.3532323254
                        ],
                        "iteration": 420,
                        "passed_time": 7.896822824,
                        "remaining_time": 10.86047605,
                        "test": [
                          0.8205125624,
                          0.3804842707
                        ]
                      },
                      {
                        "learn": [
                          0.8377262348,
                          0.3532072858
                        ],
                        "iteration": 421,
                        "passed_time": 7.911179364,
                        "remaining_time": 10.83569117,
                        "test": [
                          0.8205125624,
                          0.38050184
                        ]
                      },
                      {
                        "learn": [
                          0.8377262348,
                          0.3531773124
                        ],
                        "iteration": 422,
                        "passed_time": 7.926150448,
                        "remaining_time": 10.81179387,
                        "test": [
                          0.8205125624,
                          0.3805349745
                        ]
                      },
                      {
                        "learn": [
                          0.8377262348,
                          0.3531606492
                        ],
                        "iteration": 423,
                        "passed_time": 7.941667926,
                        "remaining_time": 10.78868096,
                        "test": [
                          0.8205125624,
                          0.3805867509
                        ]
                      },
                      {
                        "learn": [
                          0.8377262348,
                          0.3531510759
                        ],
                        "iteration": 424,
                        "passed_time": 7.955971421,
                        "remaining_time": 10.76396133,
                        "test": [
                          0.8205125624,
                          0.3806097271
                        ]
                      },
                      {
                        "learn": [
                          0.8377262348,
                          0.353134003
                        ],
                        "iteration": 425,
                        "passed_time": 7.969961202,
                        "remaining_time": 10.73886791,
                        "test": [
                          0.8205125624,
                          0.3806660507
                        ]
                      },
                      {
                        "learn": [
                          0.8377262348,
                          0.3531214106
                        ],
                        "iteration": 426,
                        "passed_time": 7.983884606,
                        "remaining_time": 10.71373742,
                        "test": [
                          0.8205125624,
                          0.3806919344
                        ]
                      },
                      {
                        "learn": [
                          0.8377262348,
                          0.3531097863
                        ],
                        "iteration": 427,
                        "passed_time": 7.99829927,
                        "remaining_time": 10.68931585,
                        "test": [
                          0.8205125624,
                          0.3807191786
                        ]
                      },
                      {
                        "learn": [
                          0.8377262348,
                          0.353084211
                        ],
                        "iteration": 428,
                        "passed_time": 8.012747957,
                        "remaining_time": 10.66498621,
                        "test": [
                          0.8205125624,
                          0.3807083987
                        ]
                      },
                      {
                        "learn": [
                          0.8377262348,
                          0.3530755263
                        ],
                        "iteration": 429,
                        "passed_time": 8.039858353,
                        "remaining_time": 10.65748665,
                        "test": [
                          0.8205125624,
                          0.3807419846
                        ]
                      },
                      {
                        "learn": [
                          0.8377262348,
                          0.3530604836
                        ],
                        "iteration": 430,
                        "passed_time": 8.067368646,
                        "remaining_time": 10.65042404,
                        "test": [
                          0.8205125624,
                          0.3807864539
                        ]
                      },
                      {
                        "learn": [
                          0.8377262348,
                          0.3530487736
                        ],
                        "iteration": 431,
                        "passed_time": 8.0867088,
                        "remaining_time": 10.63252453,
                        "test": [
                          0.8205125624,
                          0.3808295386
                        ]
                      },
                      {
                        "learn": [
                          0.8377262348,
                          0.3530260428
                        ],
                        "iteration": 432,
                        "passed_time": 8.112043999,
                        "remaining_time": 10.6224687,
                        "test": [
                          0.8205125624,
                          0.3808446368
                        ]
                      },
                      {
                        "learn": [
                          0.8378347846,
                          0.3530098514
                        ],
                        "iteration": 433,
                        "passed_time": 8.126812364,
                        "remaining_time": 10.59856175,
                        "test": [
                          0.8203614535,
                          0.3808895895
                        ]
                      },
                      {
                        "learn": [
                          0.8378347846,
                          0.3529928128
                        ],
                        "iteration": 434,
                        "passed_time": 8.1412351,
                        "remaining_time": 10.57424789,
                        "test": [
                          0.8203614535,
                          0.3809345068
                        ]
                      },
                      {
                        "learn": [
                          0.8379053923,
                          0.3529459511
                        ],
                        "iteration": 435,
                        "passed_time": 8.15598346,
                        "remaining_time": 10.55040062,
                        "test": [
                          0.8203614535,
                          0.3809334973
                        ]
                      },
                      {
                        "learn": [
                          0.8379053923,
                          0.3529241942
                        ],
                        "iteration": 436,
                        "passed_time": 8.172439289,
                        "remaining_time": 10.52879478,
                        "test": [
                          0.8203614535,
                          0.3809660975
                        ]
                      },
                      {
                        "learn": [
                          0.8379053923,
                          0.3529098301
                        ],
                        "iteration": 437,
                        "passed_time": 8.187110489,
                        "remaining_time": 10.50492259,
                        "test": [
                          0.8203614535,
                          0.3810237288
                        ]
                      },
                      {
                        "learn": [
                          0.8379053923,
                          0.3528994461
                        ],
                        "iteration": 438,
                        "passed_time": 8.206854861,
                        "remaining_time": 10.48757535,
                        "test": [
                          0.8203614535,
                          0.3810563818
                        ]
                      },
                      {
                        "learn": [
                          0.8379053923,
                          0.3528819676
                        ],
                        "iteration": 439,
                        "passed_time": 8.221351683,
                        "remaining_time": 10.46353851,
                        "test": [
                          0.8203614535,
                          0.3810883555
                        ]
                      },
                      {
                        "learn": [
                          0.8379053923,
                          0.352870909
                        ],
                        "iteration": 440,
                        "passed_time": 8.236129324,
                        "remaining_time": 10.43990089,
                        "test": [
                          0.8203614535,
                          0.3811313367
                        ]
                      },
                      {
                        "learn": [
                          0.8379053923,
                          0.3528589776
                        ],
                        "iteration": 441,
                        "passed_time": 8.250231506,
                        "remaining_time": 10.41545063,
                        "test": [
                          0.8203614535,
                          0.3811890601
                        ]
                      },
                      {
                        "learn": [
                          0.8379053923,
                          0.352852422
                        ],
                        "iteration": 442,
                        "passed_time": 8.266935976,
                        "remaining_time": 10.39431905,
                        "test": [
                          0.8203614535,
                          0.3812211448
                        ]
                      },
                      {
                        "learn": [
                          0.8379053923,
                          0.3528436322
                        ],
                        "iteration": 443,
                        "passed_time": 8.281574276,
                        "remaining_time": 10.37062004,
                        "test": [
                          0.8203614535,
                          0.381257967
                        ]
                      },
                      {
                        "learn": [
                          0.8379053923,
                          0.3528361381
                        ],
                        "iteration": 444,
                        "passed_time": 8.29582454,
                        "remaining_time": 10.3464778,
                        "test": [
                          0.8203614535,
                          0.381295041
                        ]
                      },
                      {
                        "learn": [
                          0.8379053923,
                          0.3528207417
                        ],
                        "iteration": 445,
                        "passed_time": 8.310074641,
                        "remaining_time": 10.32237971,
                        "test": [
                          0.8203614535,
                          0.3813431708
                        ]
                      },
                      {
                        "learn": [
                          0.8379053923,
                          0.3528124253
                        ],
                        "iteration": 446,
                        "passed_time": 8.32577199,
                        "remaining_time": 10.30011613,
                        "test": [
                          0.8203614535,
                          0.3813644758
                        ]
                      },
                      {
                        "learn": [
                          0.8379053923,
                          0.3528019938
                        ],
                        "iteration": 447,
                        "passed_time": 8.340532528,
                        "remaining_time": 10.27672758,
                        "test": [
                          0.8203614535,
                          0.3814016779
                        ]
                      },
                      {
                        "learn": [
                          0.8379053923,
                          0.3527829329
                        ],
                        "iteration": 448,
                        "passed_time": 8.354737486,
                        "remaining_time": 10.25269567,
                        "test": [
                          0.8203614535,
                          0.3814274565
                        ]
                      },
                      {
                        "learn": [
                          0.8379053923,
                          0.3527709962
                        ],
                        "iteration": 449,
                        "passed_time": 8.369199511,
                        "remaining_time": 10.22902162,
                        "test": [
                          0.8203614535,
                          0.3814872761
                        ]
                      },
                      {
                        "learn": [
                          0.8379053923,
                          0.3527604018
                        ],
                        "iteration": 450,
                        "passed_time": 8.383554783,
                        "remaining_time": 10.20525848,
                        "test": [
                          0.8203614535,
                          0.3815362204
                        ]
                      },
                      {
                        "learn": [
                          0.838013942,
                          0.3526972677
                        ],
                        "iteration": 451,
                        "passed_time": 8.398346009,
                        "remaining_time": 10.18206552,
                        "test": [
                          0.8210959846,
                          0.3815208609
                        ]
                      },
                      {
                        "learn": [
                          0.838013942,
                          0.3526847153
                        ],
                        "iteration": 452,
                        "passed_time": 8.412557611,
                        "remaining_time": 10.15820974,
                        "test": [
                          0.8210959846,
                          0.3815409805
                        ]
                      },
                      {
                        "learn": [
                          0.838013942,
                          0.3526723644
                        ],
                        "iteration": 453,
                        "passed_time": 8.432424747,
                        "remaining_time": 10.14119804,
                        "test": [
                          0.8210959846,
                          0.3816223536
                        ]
                      },
                      {
                        "learn": [
                          0.8381277681,
                          0.3526510243
                        ],
                        "iteration": 454,
                        "passed_time": 8.460719731,
                        "remaining_time": 10.13426869,
                        "test": [
                          0.8203614535,
                          0.3816492375
                        ]
                      },
                      {
                        "learn": [
                          0.8381277681,
                          0.3526348377
                        ],
                        "iteration": 455,
                        "passed_time": 8.475398,
                        "remaining_time": 10.11100112,
                        "test": [
                          0.8203614535,
                          0.3816712554
                        ]
                      },
                      {
                        "learn": [
                          0.8381277681,
                          0.3526001784
                        ],
                        "iteration": 456,
                        "passed_time": 8.489714392,
                        "remaining_time": 10.08734117,
                        "test": [
                          0.8203614535,
                          0.3816543409
                        ]
                      },
                      {
                        "learn": [
                          0.8381277681,
                          0.3525807435
                        ],
                        "iteration": 457,
                        "passed_time": 8.504082391,
                        "remaining_time": 10.06378309,
                        "test": [
                          0.8203614535,
                          0.3817094926
                        ]
                      },
                      {
                        "learn": [
                          0.8381277681,
                          0.3525700852
                        ],
                        "iteration": 458,
                        "passed_time": 8.520387223,
                        "remaining_time": 10.0425479,
                        "test": [
                          0.8203614535,
                          0.3817134303
                        ]
                      },
                      {
                        "learn": [
                          0.8382742599,
                          0.3525543595
                        ],
                        "iteration": 459,
                        "passed_time": 8.535098354,
                        "remaining_time": 10.01946329,
                        "test": [
                          0.8209448757,
                          0.3817443544
                        ]
                      },
                      {
                        "learn": [
                          0.8382742599,
                          0.3525362075
                        ],
                        "iteration": 460,
                        "passed_time": 8.549160826,
                        "remaining_time": 9.995656584,
                        "test": [
                          0.8209448757,
                          0.3817601594
                        ]
                      },
                      {
                        "learn": [
                          0.8382742599,
                          0.3525269254
                        ],
                        "iteration": 461,
                        "passed_time": 8.563397444,
                        "remaining_time": 9.972094858,
                        "test": [
                          0.8209448757,
                          0.3818026655
                        ]
                      },
                      {
                        "learn": [
                          0.8382742599,
                          0.3525066207
                        ],
                        "iteration": 462,
                        "passed_time": 8.57794305,
                        "remaining_time": 9.948931789,
                        "test": [
                          0.8209448757,
                          0.3818353978
                        ]
                      },
                      {
                        "learn": [
                          0.8383122019,
                          0.3524772816
                        ],
                        "iteration": 463,
                        "passed_time": 8.592408832,
                        "remaining_time": 9.925713651,
                        "test": [
                          0.8202103446,
                          0.3818601833
                        ]
                      },
                      {
                        "learn": [
                          0.8383122019,
                          0.3524630298
                        ],
                        "iteration": 464,
                        "passed_time": 8.60644065,
                        "remaining_time": 9.902033866,
                        "test": [
                          0.8202103446,
                          0.3818608654
                        ]
                      },
                      {
                        "learn": [
                          0.8383122019,
                          0.3524430241
                        ],
                        "iteration": 465,
                        "passed_time": 8.620322166,
                        "remaining_time": 9.878223254,
                        "test": [
                          0.8202103446,
                          0.3819236641
                        ]
                      },
                      {
                        "learn": [
                          0.8383122019,
                          0.3524256691
                        ],
                        "iteration": 466,
                        "passed_time": 8.634750622,
                        "remaining_time": 9.855079404,
                        "test": [
                          0.8202103446,
                          0.3819665175
                        ]
                      },
                      {
                        "learn": [
                          0.8383122019,
                          0.3524047082
                        ],
                        "iteration": 467,
                        "passed_time": 8.648804619,
                        "remaining_time": 9.831547131,
                        "test": [
                          0.8202103446,
                          0.3819912995
                        ]
                      },
                      {
                        "learn": [
                          0.8383122019,
                          0.3523891348
                        ],
                        "iteration": 468,
                        "passed_time": 8.663034706,
                        "remaining_time": 9.808254645,
                        "test": [
                          0.8202103446,
                          0.3820018964
                        ]
                      },
                      {
                        "learn": [
                          0.8383122019,
                          0.3523813874
                        ],
                        "iteration": 469,
                        "passed_time": 8.677385967,
                        "remaining_time": 9.785137367,
                        "test": [
                          0.8202103446,
                          0.3820377569
                        ]
                      },
                      {
                        "learn": [
                          0.8384966357,
                          0.3523648015
                        ],
                        "iteration": 470,
                        "passed_time": 8.692871002,
                        "remaining_time": 9.7633307,
                        "test": [
                          0.8200592356,
                          0.3820775365
                        ]
                      },
                      {
                        "learn": [
                          0.8384966357,
                          0.3523471527
                        ],
                        "iteration": 471,
                        "passed_time": 8.709182245,
                        "remaining_time": 9.742475053,
                        "test": [
                          0.8200592356,
                          0.3821100442
                        ]
                      },
                      {
                        "learn": [
                          0.8384966357,
                          0.3523359026
                        ],
                        "iteration": 472,
                        "passed_time": 8.723374136,
                        "remaining_time": 9.719277315,
                        "test": [
                          0.8200592356,
                          0.3821274154
                        ]
                      },
                      {
                        "learn": [
                          0.8384966357,
                          0.3523255817
                        ],
                        "iteration": 473,
                        "passed_time": 8.737899385,
                        "remaining_time": 9.696487503,
                        "test": [
                          0.8200592356,
                          0.3821504529
                        ]
                      },
                      {
                        "learn": [
                          0.8384966357,
                          0.3523152526
                        ],
                        "iteration": 474,
                        "passed_time": 8.753257087,
                        "remaining_time": 9.67465257,
                        "test": [
                          0.8200592356,
                          0.3821908381
                        ]
                      },
                      {
                        "learn": [
                          0.8384966357,
                          0.352305345
                        ],
                        "iteration": 475,
                        "passed_time": 8.767258505,
                        "remaining_time": 9.651351799,
                        "test": [
                          0.8200592356,
                          0.3822259404
                        ]
                      },
                      {
                        "learn": [
                          0.8381277681,
                          0.3522844593
                        ],
                        "iteration": 476,
                        "passed_time": 8.781499049,
                        "remaining_time": 9.628352206,
                        "test": [
                          0.8203614535,
                          0.3822630777
                        ]
                      },
                      {
                        "learn": [
                          0.8381277681,
                          0.3522646308
                        ],
                        "iteration": 477,
                        "passed_time": 8.796027215,
                        "remaining_time": 9.60570336,
                        "test": [
                          0.8203614535,
                          0.3823031828
                        ]
                      },
                      {
                        "learn": [
                          0.8381277681,
                          0.3522569861
                        ],
                        "iteration": 478,
                        "passed_time": 8.810008068,
                        "remaining_time": 9.582493118,
                        "test": [
                          0.8203614535,
                          0.3823173431
                        ]
                      },
                      {
                        "learn": [
                          0.8381277681,
                          0.352252684
                        ],
                        "iteration": 479,
                        "passed_time": 8.824391116,
                        "remaining_time": 9.559757042,
                        "test": [
                          0.8203614535,
                          0.3823321881
                        ]
                      },
                      {
                        "learn": [
                          0.8381277681,
                          0.3522410746
                        ],
                        "iteration": 480,
                        "passed_time": 8.838968682,
                        "remaining_time": 9.537265584,
                        "test": [
                          0.8203614535,
                          0.3823694688
                        ]
                      },
                      {
                        "learn": [
                          0.8383933623,
                          0.3522220058
                        ],
                        "iteration": 481,
                        "passed_time": 8.852598576,
                        "remaining_time": 9.513788512,
                        "test": [
                          0.8196269224,
                          0.3824174406
                        ]
                      },
                      {
                        "learn": [
                          0.8383933623,
                          0.352210795
                        ],
                        "iteration": 482,
                        "passed_time": 8.870488934,
                        "remaining_time": 9.494912585,
                        "test": [
                          0.8196269224,
                          0.3824607021
                        ]
                      },
                      {
                        "learn": [
                          0.8383933623,
                          0.3521964409
                        ],
                        "iteration": 483,
                        "passed_time": 8.884591166,
                        "remaining_time": 9.472002152,
                        "test": [
                          0.8196269224,
                          0.3824504991
                        ]
                      },
                      {
                        "learn": [
                          0.8383933623,
                          0.3521854342
                        ],
                        "iteration": 484,
                        "passed_time": 8.898768025,
                        "remaining_time": 9.449207284,
                        "test": [
                          0.8196269224,
                          0.3824781543
                        ]
                      },
                      {
                        "learn": [
                          0.8383933623,
                          0.3521718904
                        ],
                        "iteration": 485,
                        "passed_time": 8.912971602,
                        "remaining_time": 9.426476138,
                        "test": [
                          0.8196269224,
                          0.3825219253
                        ]
                      },
                      {
                        "learn": [
                          0.8383933623,
                          0.3521549376
                        ],
                        "iteration": 486,
                        "passed_time": 8.927997587,
                        "remaining_time": 9.404646329,
                        "test": [
                          0.8196269224,
                          0.3825582203
                        ]
                      },
                      {
                        "learn": [
                          0.8383933623,
                          0.3521453043
                        ],
                        "iteration": 487,
                        "passed_time": 8.942337562,
                        "remaining_time": 9.382124655,
                        "test": [
                          0.8196269224,
                          0.3826095872
                        ]
                      },
                      {
                        "learn": [
                          0.8383933623,
                          0.352133406
                        ],
                        "iteration": 488,
                        "passed_time": 8.956693977,
                        "remaining_time": 9.359653624,
                        "test": [
                          0.8196269224,
                          0.3826283145
                        ]
                      },
                      {
                        "learn": [
                          0.8383933623,
                          0.3521195642
                        ],
                        "iteration": 489,
                        "passed_time": 8.971180388,
                        "remaining_time": 9.337351016,
                        "test": [
                          0.8196269224,
                          0.382676747
                        ]
                      },
                      {
                        "learn": [
                          0.8383933623,
                          0.3520994292
                        ],
                        "iteration": 490,
                        "passed_time": 8.985831354,
                        "remaining_time": 9.315250834,
                        "test": [
                          0.8196269224,
                          0.3827197728
                        ]
                      },
                      {
                        "learn": [
                          0.8384313043,
                          0.3520843535
                        ],
                        "iteration": 491,
                        "passed_time": 9.000423616,
                        "remaining_time": 9.293120318,
                        "test": [
                          0.8188923913,
                          0.3827744309
                        ]
                      },
                      {
                        "learn": [
                          0.8384313043,
                          0.3520708996
                        ],
                        "iteration": 492,
                        "passed_time": 9.015324165,
                        "remaining_time": 9.271337427,
                        "test": [
                          0.8188923913,
                          0.3827714602
                        ]
                      },
                      {
                        "learn": [
                          0.8384313043,
                          0.3520555218
                        ],
                        "iteration": 493,
                        "passed_time": 9.02971588,
                        "remaining_time": 9.249061205,
                        "test": [
                          0.8188923913,
                          0.3827912658
                        ]
                      },
                      {
                        "learn": [
                          0.8384313043,
                          0.3520404641
                        ],
                        "iteration": 494,
                        "passed_time": 9.072477315,
                        "remaining_time": 9.255759685,
                        "test": [
                          0.8188923913,
                          0.3828315198
                        ]
                      },
                      {
                        "learn": [
                          0.8384313043,
                          0.3520228841
                        ],
                        "iteration": 495,
                        "passed_time": 9.087370097,
                        "remaining_time": 9.233940582,
                        "test": [
                          0.8188923913,
                          0.3829132062
                        ]
                      },
                      {
                        "learn": [
                          0.8384313043,
                          0.3520154413
                        ],
                        "iteration": 496,
                        "passed_time": 9.108106047,
                        "remaining_time": 9.218063061,
                        "test": [
                          0.8188923913,
                          0.3829636938
                        ]
                      },
                      {
                        "learn": [
                          0.8384313043,
                          0.3519916633
                        ],
                        "iteration": 497,
                        "passed_time": 9.135099414,
                        "remaining_time": 9.208473706,
                        "test": [
                          0.8188923913,
                          0.3829599467
                        ]
                      },
                      {
                        "learn": [
                          0.8384313043,
                          0.351974067
                        ],
                        "iteration": 498,
                        "passed_time": 9.149962376,
                        "remaining_time": 9.186635572,
                        "test": [
                          0.8188923913,
                          0.3829983984
                        ]
                      },
                      {
                        "learn": [
                          0.8384313043,
                          0.3519711749
                        ],
                        "iteration": 499,
                        "passed_time": 9.165864993,
                        "remaining_time": 9.165864993,
                        "test": [
                          0.8188923913,
                          0.3830188046
                        ]
                      },
                      {
                        "learn": [
                          0.8384313043,
                          0.351955568
                        ],
                        "iteration": 500,
                        "passed_time": 9.180284706,
                        "remaining_time": 9.143636863,
                        "test": [
                          0.8188923913,
                          0.3830818073
                        ]
                      },
                      {
                        "learn": [
                          0.8384313043,
                          0.3519323897
                        ],
                        "iteration": 501,
                        "passed_time": 9.195089847,
                        "remaining_time": 9.121822198,
                        "test": [
                          0.8188923913,
                          0.3831125677
                        ]
                      },
                      {
                        "learn": [
                          0.8384313043,
                          0.3519204237
                        ],
                        "iteration": 502,
                        "passed_time": 9.209480287,
                        "remaining_time": 9.099625651,
                        "test": [
                          0.8188923913,
                          0.3831456598
                        ]
                      },
                      {
                        "learn": [
                          0.8384313043,
                          0.3519136593
                        ],
                        "iteration": 503,
                        "passed_time": 9.224358386,
                        "remaining_time": 9.077939999,
                        "test": [
                          0.8188923913,
                          0.3831908434
                        ]
                      },
                      {
                        "learn": [
                          0.8384313043,
                          0.3518991171
                        ],
                        "iteration": 504,
                        "passed_time": 9.239841067,
                        "remaining_time": 9.056873917,
                        "test": [
                          0.8188923913,
                          0.3832297359
                        ]
                      },
                      {
                        "learn": [
                          0.8384313043,
                          0.3518876666
                        ],
                        "iteration": 505,
                        "passed_time": 9.257266284,
                        "remaining_time": 9.037726372,
                        "test": [
                          0.8188923913,
                          0.3832666074
                        ]
                      },
                      {
                        "learn": [
                          0.8385071883,
                          0.3518632046
                        ],
                        "iteration": 506,
                        "passed_time": 9.276106317,
                        "remaining_time": 9.019961369,
                        "test": [
                          0.8188923913,
                          0.383294012
                        ]
                      },
                      {
                        "learn": [
                          0.8385071883,
                          0.3518484086
                        ],
                        "iteration": 507,
                        "passed_time": 9.291244439,
                        "remaining_time": 8.998606819,
                        "test": [
                          0.8188923913,
                          0.3833305834
                        ]
                      },
                      {
                        "learn": [
                          0.8385071883,
                          0.3518311464
                        ],
                        "iteration": 508,
                        "passed_time": 9.305922962,
                        "remaining_time": 8.976833348,
                        "test": [
                          0.8188923913,
                          0.3833852593
                        ]
                      },
                      {
                        "learn": [
                          0.8385071883,
                          0.3518231481
                        ],
                        "iteration": 509,
                        "passed_time": 9.321248366,
                        "remaining_time": 8.955709214,
                        "test": [
                          0.8188923913,
                          0.383412848
                        ]
                      },
                      {
                        "learn": [
                          0.8385071883,
                          0.351806021
                        ],
                        "iteration": 510,
                        "passed_time": 9.335585257,
                        "remaining_time": 8.933661821,
                        "test": [
                          0.8188923913,
                          0.3834519115
                        ]
                      },
                      {
                        "learn": [
                          0.8385071883,
                          0.3517929511
                        ],
                        "iteration": 511,
                        "passed_time": 9.350062344,
                        "remaining_time": 8.911778172,
                        "test": [
                          0.8188923913,
                          0.383489841
                        ]
                      },
                      {
                        "learn": [
                          0.8387348405,
                          0.3517884138
                        ],
                        "iteration": 512,
                        "passed_time": 9.364378563,
                        "remaining_time": 8.889770683,
                        "test": [
                          0.8183089692,
                          0.3835022177
                        ]
                      },
                      {
                        "learn": [
                          0.8387348405,
                          0.3517831775
                        ],
                        "iteration": 513,
                        "passed_time": 9.379022275,
                        "remaining_time": 8.868102774,
                        "test": [
                          0.8183089692,
                          0.3835190094
                        ]
                      },
                      {
                        "learn": [
                          0.8386262907,
                          0.3517631249
                        ],
                        "iteration": 514,
                        "passed_time": 9.396623305,
                        "remaining_time": 8.84924719,
                        "test": [
                          0.8184600781,
                          0.3835431076
                        ]
                      },
                      {
                        "learn": [
                          0.8386262907,
                          0.3517545567
                        ],
                        "iteration": 515,
                        "passed_time": 9.411140473,
                        "remaining_time": 8.827503854,
                        "test": [
                          0.8184600781,
                          0.3835832497
                        ]
                      },
                      {
                        "learn": [
                          0.8386262907,
                          0.3517451802
                        ],
                        "iteration": 516,
                        "passed_time": 9.42611669,
                        "remaining_time": 8.806217333,
                        "test": [
                          0.8184600781,
                          0.3836188359
                        ]
                      },
                      {
                        "learn": [
                          0.8386262907,
                          0.3517298551
                        ],
                        "iteration": 517,
                        "passed_time": 9.440760658,
                        "remaining_time": 8.784646018,
                        "test": [
                          0.8184600781,
                          0.3836930104
                        ]
                      },
                      {
                        "learn": [
                          0.8386262907,
                          0.351706874
                        ],
                        "iteration": 518,
                        "passed_time": 9.455713484,
                        "remaining_time": 8.763387641,
                        "test": [
                          0.8184600781,
                          0.3837116314
                        ]
                      },
                      {
                        "learn": [
                          0.8387727825,
                          0.3516918539
                        ],
                        "iteration": 519,
                        "passed_time": 9.470653955,
                        "remaining_time": 8.742142112,
                        "test": [
                          0.8184600781,
                          0.3837797681
                        ]
                      },
                      {
                        "learn": [
                          0.8387727825,
                          0.3516815891
                        ],
                        "iteration": 520,
                        "passed_time": 9.484996537,
                        "remaining_time": 8.720371097,
                        "test": [
                          0.8184600781,
                          0.3838253028
                        ]
                      },
                      {
                        "learn": [
                          0.8387727825,
                          0.3516752204
                        ],
                        "iteration": 521,
                        "passed_time": 9.499932081,
                        "remaining_time": 8.699171522,
                        "test": [
                          0.8184600781,
                          0.3838516609
                        ]
                      },
                      {
                        "learn": [
                          0.8386262907,
                          0.3516638729
                        ],
                        "iteration": 522,
                        "passed_time": 9.514519866,
                        "remaining_time": 8.67767873,
                        "test": [
                          0.8184600781,
                          0.3838782117
                        ]
                      },
                      {
                        "learn": [
                          0.8386262907,
                          0.3516411566
                        ],
                        "iteration": 523,
                        "passed_time": 9.529552587,
                        "remaining_time": 8.656616472,
                        "test": [
                          0.8184600781,
                          0.3839258147
                        ]
                      },
                      {
                        "learn": [
                          0.8386262907,
                          0.3516295384
                        ],
                        "iteration": 524,
                        "passed_time": 9.543901679,
                        "remaining_time": 8.634958662,
                        "test": [
                          0.8184600781,
                          0.3839522999
                        ]
                      },
                      {
                        "learn": [
                          0.8386262907,
                          0.3516057857
                        ],
                        "iteration": 525,
                        "passed_time": 9.558908916,
                        "remaining_time": 8.613921723,
                        "test": [
                          0.8184600781,
                          0.3839642997
                        ]
                      },
                      {
                        "learn": [
                          0.8386262907,
                          0.3515920731
                        ],
                        "iteration": 526,
                        "passed_time": 9.576253069,
                        "remaining_time": 8.595005127,
                        "test": [
                          0.8184600781,
                          0.3839874898
                        ]
                      },
                      {
                        "learn": [
                          0.8386262907,
                          0.351574384
                        ],
                        "iteration": 527,
                        "passed_time": 9.591315894,
                        "remaining_time": 8.574055117,
                        "test": [
                          0.8184600781,
                          0.3840010656
                        ]
                      },
                      {
                        "learn": [
                          0.8386262907,
                          0.3515577128
                        ],
                        "iteration": 528,
                        "passed_time": 9.605397857,
                        "remaining_time": 8.552254047,
                        "test": [
                          0.8184600781,
                          0.3840415014
                        ]
                      },
                      {
                        "learn": [
                          0.8386262907,
                          0.351550737
                        ],
                        "iteration": 529,
                        "passed_time": 9.620107664,
                        "remaining_time": 8.531038872,
                        "test": [
                          0.8184600781,
                          0.3840721948
                        ]
                      },
                      {
                        "learn": [
                          0.8386262907,
                          0.3515261449
                        ],
                        "iteration": 530,
                        "passed_time": 9.635074194,
                        "remaining_time": 8.510074947,
                        "test": [
                          0.8184600781,
                          0.3840990669
                        ]
                      },
                      {
                        "learn": [
                          0.8387727825,
                          0.3515059602
                        ],
                        "iteration": 531,
                        "passed_time": 9.649568637,
                        "remaining_time": 8.488718275,
                        "test": [
                          0.8184600781,
                          0.3841463531
                        ]
                      },
                      {
                        "learn": [
                          0.8387727825,
                          0.3514932206
                        ],
                        "iteration": 532,
                        "passed_time": 9.66373246,
                        "remaining_time": 8.467097672,
                        "test": [
                          0.8184600781,
                          0.3842022203
                        ]
                      },
                      {
                        "learn": [
                          0.8386968985,
                          0.3514839571
                        ],
                        "iteration": 533,
                        "passed_time": 9.67814892,
                        "remaining_time": 8.445725462,
                        "test": [
                          0.8184600781,
                          0.3842493783
                        ]
                      },
                      {
                        "learn": [
                          0.8386968985,
                          0.3514753135
                        ],
                        "iteration": 534,
                        "passed_time": 9.692571557,
                        "remaining_time": 8.424384625,
                        "test": [
                          0.8184600781,
                          0.384268507
                        ]
                      },
                      {
                        "learn": [
                          0.8387727825,
                          0.3514537324
                        ],
                        "iteration": 535,
                        "passed_time": 9.7066024,
                        "remaining_time": 8.402730436,
                        "test": [
                          0.8184600781,
                          0.3842875473
                        ]
                      },
                      {
                        "learn": [
                          0.8386968985,
                          0.3514345951
                        ],
                        "iteration": 536,
                        "passed_time": 9.721053221,
                        "remaining_time": 8.381466743,
                        "test": [
                          0.8184600781,
                          0.3843388036
                        ]
                      },
                      {
                        "learn": [
                          0.8387727825,
                          0.3514176183
                        ],
                        "iteration": 537,
                        "passed_time": 9.735943708,
                        "remaining_time": 8.360605935,
                        "test": [
                          0.8184600781,
                          0.3844022398
                        ]
                      },
                      {
                        "learn": [
                          0.8387727825,
                          0.3514051415
                        ],
                        "iteration": 538,
                        "passed_time": 9.749889471,
                        "remaining_time": 8.338959269,
                        "test": [
                          0.8184600781,
                          0.3844843695
                        ]
                      },
                      {
                        "learn": [
                          0.8387727825,
                          0.3513880247
                        ],
                        "iteration": 539,
                        "passed_time": 9.764595548,
                        "remaining_time": 8.3179888,
                        "test": [
                          0.8184600781,
                          0.3845161315
                        ]
                      },
                      {
                        "learn": [
                          0.8387727825,
                          0.3513767656
                        ],
                        "iteration": 540,
                        "passed_time": 9.779352278,
                        "remaining_time": 8.297084465,
                        "test": [
                          0.8184600781,
                          0.3845330412
                        ]
                      },
                      {
                        "learn": [
                          0.8387727825,
                          0.3513620413
                        ],
                        "iteration": 541,
                        "passed_time": 9.793975784,
                        "remaining_time": 8.276090238,
                        "test": [
                          0.8184600781,
                          0.3845611005
                        ]
                      },
                      {
                        "learn": [
                          0.8387727825,
                          0.3513542334
                        ],
                        "iteration": 542,
                        "passed_time": 9.808258392,
                        "remaining_time": 8.254832569,
                        "test": [
                          0.8184600781,
                          0.3845870694
                        ]
                      },
                      {
                        "learn": [
                          0.8387727825,
                          0.3513349519
                        ],
                        "iteration": 543,
                        "passed_time": 9.82314949,
                        "remaining_time": 8.234110601,
                        "test": [
                          0.8184600781,
                          0.3845902311
                        ]
                      },
                      {
                        "learn": [
                          0.8387727825,
                          0.3513245186
                        ],
                        "iteration": 544,
                        "passed_time": 9.837457712,
                        "remaining_time": 8.212923411,
                        "test": [
                          0.8184600781,
                          0.3846283368
                        ]
                      },
                      {
                        "learn": [
                          0.8387727825,
                          0.3513141912
                        ],
                        "iteration": 545,
                        "passed_time": 9.853499108,
                        "remaining_time": 8.193202555,
                        "test": [
                          0.8184600781,
                          0.3846272181
                        ]
                      },
                      {
                        "learn": [
                          0.8387727825,
                          0.3512950565
                        ],
                        "iteration": 546,
                        "passed_time": 9.869923828,
                        "remaining_time": 8.173812604,
                        "test": [
                          0.8184600781,
                          0.3846221432
                        ]
                      },
                      {
                        "learn": [
                          0.8387727825,
                          0.3512822875
                        ],
                        "iteration": 547,
                        "passed_time": 9.883766795,
                        "remaining_time": 8.152303999,
                        "test": [
                          0.8184600781,
                          0.3846693102
                        ]
                      },
                      {
                        "learn": [
                          0.8387727825,
                          0.3512679948
                        ],
                        "iteration": 548,
                        "passed_time": 9.898019356,
                        "remaining_time": 8.131159798,
                        "test": [
                          0.8184600781,
                          0.3847014035
                        ]
                      },
                      {
                        "learn": [
                          0.8387727825,
                          0.3512490508
                        ],
                        "iteration": 549,
                        "passed_time": 9.91299971,
                        "remaining_time": 8.110636127,
                        "test": [
                          0.8184600781,
                          0.3847922467
                        ]
                      },
                      {
                        "learn": [
                          0.8387727825,
                          0.3512368835
                        ],
                        "iteration": 550,
                        "passed_time": 9.927809475,
                        "remaining_time": 8.089993565,
                        "test": [
                          0.8184600781,
                          0.3848302971
                        ]
                      },
                      {
                        "learn": [
                          0.8387727825,
                          0.3512179267
                        ],
                        "iteration": 551,
                        "passed_time": 9.946014843,
                        "remaining_time": 8.072127989,
                        "test": [
                          0.8184600781,
                          0.3848795114
                        ]
                      },
                      {
                        "learn": [
                          0.8387727825,
                          0.3511912831
                        ],
                        "iteration": 552,
                        "passed_time": 9.963855283,
                        "remaining_time": 8.053966205,
                        "test": [
                          0.8184600781,
                          0.3849026876
                        ]
                      },
                      {
                        "learn": [
                          0.8387727825,
                          0.3511693001
                        ],
                        "iteration": 553,
                        "passed_time": 9.97851306,
                        "remaining_time": 8.033243366,
                        "test": [
                          0.8184600781,
                          0.3849278005
                        ]
                      },
                      {
                        "learn": [
                          0.8389245506,
                          0.3511439886
                        ],
                        "iteration": 554,
                        "passed_time": 9.99400865,
                        "remaining_time": 8.013214142,
                        "test": [
                          0.8184600781,
                          0.3849550921
                        ]
                      },
                      {
                        "learn": [
                          0.8388160009,
                          0.3511391966
                        ],
                        "iteration": 555,
                        "passed_time": 10.00828075,
                        "remaining_time": 7.992224194,
                        "test": [
                          0.8186111871,
                          0.3849583535
                        ]
                      },
                      {
                        "learn": [
                          0.8388160009,
                          0.351108262
                        ],
                        "iteration": 556,
                        "passed_time": 10.02377392,
                        "remaining_time": 7.972229529,
                        "test": [
                          0.8186111871,
                          0.3849636578
                        ]
                      },
                      {
                        "learn": [
                          0.8388160009,
                          0.351083225
                        ],
                        "iteration": 557,
                        "passed_time": 10.03809645,
                        "remaining_time": 7.951323714,
                        "test": [
                          0.8186111871,
                          0.3850268158
                        ]
                      },
                      {
                        "learn": [
                          0.8386695091,
                          0.3510759241
                        ],
                        "iteration": 558,
                        "passed_time": 10.06875688,
                        "remaining_time": 7.943330561,
                        "test": [
                          0.8186111871,
                          0.3850482424
                        ]
                      },
                      {
                        "learn": [
                          0.8387453931,
                          0.3510599732
                        ],
                        "iteration": 559,
                        "passed_time": 10.10021279,
                        "remaining_time": 7.93588148,
                        "test": [
                          0.8186111871,
                          0.3850949096
                        ]
                      },
                      {
                        "learn": [
                          0.8387453931,
                          0.3510458167
                        ],
                        "iteration": 560,
                        "passed_time": 10.1161296,
                        "remaining_time": 7.916186978,
                        "test": [
                          0.8186111871,
                          0.3851506484
                        ]
                      },
                      {
                        "learn": [
                          0.8387453931,
                          0.3510298679
                        ],
                        "iteration": 561,
                        "passed_time": 10.13691496,
                        "remaining_time": 7.900300274,
                        "test": [
                          0.8186111871,
                          0.3851784614
                        ]
                      },
                      {
                        "learn": [
                          0.8387453931,
                          0.3510128198
                        ],
                        "iteration": 562,
                        "passed_time": 10.16268832,
                        "remaining_time": 7.888267841,
                        "test": [
                          0.8186111871,
                          0.3852605677
                        ]
                      },
                      {
                        "learn": [
                          0.8387453931,
                          0.3509946039
                        ],
                        "iteration": 563,
                        "passed_time": 10.17723705,
                        "remaining_time": 7.867509493,
                        "test": [
                          0.8186111871,
                          0.3853084128
                        ]
                      },
                      {
                        "learn": [
                          0.8387453931,
                          0.3509900865
                        ],
                        "iteration": 564,
                        "passed_time": 10.19151367,
                        "remaining_time": 7.846563625,
                        "test": [
                          0.8186111871,
                          0.3853234709
                        ]
                      },
                      {
                        "learn": [
                          0.8387453931,
                          0.3509559229
                        ],
                        "iteration": 565,
                        "passed_time": 10.20588496,
                        "remaining_time": 7.825713908,
                        "test": [
                          0.8186111871,
                          0.3853396158
                        ]
                      },
                      {
                        "learn": [
                          0.8386695091,
                          0.3509363753
                        ],
                        "iteration": 566,
                        "passed_time": 10.21972792,
                        "remaining_time": 7.804483579,
                        "test": [
                          0.8183089692,
                          0.3853151065
                        ]
                      },
                      {
                        "learn": [
                          0.8390004347,
                          0.3509259035
                        ],
                        "iteration": 567,
                        "passed_time": 10.23424248,
                        "remaining_time": 7.783790055,
                        "test": [
                          0.8181578602,
                          0.3853509514
                        ]
                      },
                      {
                        "learn": [
                          0.8390763187,
                          0.3509123062
                        ],
                        "iteration": 568,
                        "passed_time": 10.24857735,
                        "remaining_time": 7.762982142,
                        "test": [
                          0.8184600781,
                          0.3853725022
                        ]
                      },
                      {
                        "learn": [
                          0.8390004347,
                          0.3508986276
                        ],
                        "iteration": 569,
                        "passed_time": 10.2657034,
                        "remaining_time": 7.744302565,
                        "test": [
                          0.8181578602,
                          0.3854084668
                        ]
                      },
                      {
                        "learn": [
                          0.8390004347,
                          0.3508868618
                        ],
                        "iteration": 570,
                        "passed_time": 10.28077585,
                        "remaining_time": 7.724085537,
                        "test": [
                          0.8181578602,
                          0.3854333733
                        ]
                      },
                      {
                        "learn": [
                          0.8387727825,
                          0.3508810798
                        ],
                        "iteration": 571,
                        "passed_time": 10.29510724,
                        "remaining_time": 7.703331992,
                        "test": [
                          0.8181578602,
                          0.3854524313
                        ]
                      },
                      {
                        "learn": [
                          0.8387727825,
                          0.3508649206
                        ],
                        "iteration": 572,
                        "passed_time": 10.31029704,
                        "remaining_time": 7.683240548,
                        "test": [
                          0.8181578602,
                          0.3854721834
                        ]
                      },
                      {
                        "learn": [
                          0.8389245506,
                          0.3508575822
                        ],
                        "iteration": 573,
                        "passed_time": 10.32448641,
                        "remaining_time": 7.66242371,
                        "test": [
                          0.8181578602,
                          0.3855187796
                        ]
                      },
                      {
                        "learn": [
                          0.8389245506,
                          0.3508465868
                        ],
                        "iteration": 574,
                        "passed_time": 10.33879182,
                        "remaining_time": 7.641715692,
                        "test": [
                          0.8181578602,
                          0.3855455096
                        ]
                      },
                      {
                        "learn": [
                          0.8389245506,
                          0.3508290428
                        ],
                        "iteration": 575,
                        "passed_time": 10.35315453,
                        "remaining_time": 7.621072088,
                        "test": [
                          0.8181578602,
                          0.3855620293
                        ]
                      },
                      {
                        "learn": [
                          0.8389245506,
                          0.3508179631
                        ],
                        "iteration": 576,
                        "passed_time": 10.36769098,
                        "remaining_time": 7.60057762,
                        "test": [
                          0.8181578602,
                          0.3855988845
                        ]
                      },
                      {
                        "learn": [
                          0.8389245506,
                          0.350810481
                        ],
                        "iteration": 577,
                        "passed_time": 10.38209391,
                        "remaining_time": 7.580006278,
                        "test": [
                          0.8181578602,
                          0.3856301627
                        ]
                      },
                      {
                        "learn": [
                          0.8389245506,
                          0.3507955082
                        ],
                        "iteration": 578,
                        "passed_time": 10.39690296,
                        "remaining_time": 7.55975155,
                        "test": [
                          0.8181578602,
                          0.3856289913
                        ]
                      },
                      {
                        "learn": [
                          0.8389245506,
                          0.3507867588
                        ],
                        "iteration": 579,
                        "passed_time": 10.41181786,
                        "remaining_time": 7.539592244,
                        "test": [
                          0.8181578602,
                          0.3856460202
                        ]
                      },
                      {
                        "learn": [
                          0.8389245506,
                          0.3507769481
                        ],
                        "iteration": 580,
                        "passed_time": 10.42666764,
                        "remaining_time": 7.519404031,
                        "test": [
                          0.8181578602,
                          0.3856680195
                        ]
                      },
                      {
                        "learn": [
                          0.8389298269,
                          0.3507574998
                        ],
                        "iteration": 581,
                        "passed_time": 10.44108109,
                        "remaining_time": 7.498920782,
                        "test": [
                          0.8181578602,
                          0.3856829764
                        ]
                      },
                      {
                        "learn": [
                          0.8389298269,
                          0.3507484164
                        ],
                        "iteration": 582,
                        "passed_time": 10.45572286,
                        "remaining_time": 7.478621669,
                        "test": [
                          0.8181578602,
                          0.3857103304
                        ]
                      },
                      {
                        "learn": [
                          0.8389298269,
                          0.3507448567
                        ],
                        "iteration": 583,
                        "passed_time": 10.47029292,
                        "remaining_time": 7.458290849,
                        "test": [
                          0.8181578602,
                          0.385727472
                        ]
                      },
                      {
                        "learn": [
                          0.8387780588,
                          0.3507389952
                        ],
                        "iteration": 584,
                        "passed_time": 10.48447393,
                        "remaining_time": 7.437703729,
                        "test": [
                          0.8181578602,
                          0.3857498358
                        ]
                      },
                      {
                        "learn": [
                          0.8387780588,
                          0.35072799
                        ],
                        "iteration": 585,
                        "passed_time": 10.49869542,
                        "remaining_time": 7.417167071,
                        "test": [
                          0.8181578602,
                          0.3857826763
                        ]
                      },
                      {
                        "learn": [
                          0.8389298269,
                          0.3507209926
                        ],
                        "iteration": 586,
                        "passed_time": 10.51255537,
                        "remaining_time": 7.396397562,
                        "test": [
                          0.8181578602,
                          0.3857984179
                        ]
                      },
                      {
                        "learn": [
                          0.8389298269,
                          0.3507051782
                        ],
                        "iteration": 587,
                        "passed_time": 10.53654351,
                        "remaining_time": 7.382748171,
                        "test": [
                          0.8181578602,
                          0.3858274279
                        ]
                      },
                      {
                        "learn": [
                          0.8389298269,
                          0.3506608804
                        ],
                        "iteration": 588,
                        "passed_time": 10.56349588,
                        "remaining_time": 7.371132102,
                        "test": [
                          0.8181578602,
                          0.3858221256
                        ]
                      },
                      {
                        "learn": [
                          0.8389298269,
                          0.3506515191
                        ],
                        "iteration": 589,
                        "passed_time": 10.58584153,
                        "remaining_time": 7.356262758,
                        "test": [
                          0.8181578602,
                          0.3858395541
                        ]
                      },
                      {
                        "learn": [
                          0.8391522027,
                          0.3506376486
                        ],
                        "iteration": 590,
                        "passed_time": 10.60429346,
                        "remaining_time": 7.338673478,
                        "test": [
                          0.8181578602,
                          0.3858405582
                        ]
                      },
                      {
                        "learn": [
                          0.8391522027,
                          0.3506247687
                        ],
                        "iteration": 591,
                        "passed_time": 10.61899329,
                        "remaining_time": 7.318495378,
                        "test": [
                          0.8181578602,
                          0.3858759491
                        ]
                      },
                      {
                        "learn": [
                          0.8391522027,
                          0.3506132614
                        ],
                        "iteration": 592,
                        "passed_time": 10.63363339,
                        "remaining_time": 7.298294758,
                        "test": [
                          0.8181578602,
                          0.3859184403
                        ]
                      },
                      {
                        "learn": [
                          0.8391522027,
                          0.3506015661
                        ],
                        "iteration": 593,
                        "passed_time": 10.64835024,
                        "remaining_time": 7.278165319,
                        "test": [
                          0.8181578602,
                          0.3859445104
                        ]
                      },
                      {
                        "learn": [
                          0.8392280868,
                          0.3505870627
                        ],
                        "iteration": 594,
                        "passed_time": 10.66296232,
                        "remaining_time": 7.257982754,
                        "test": [
                          0.8181578602,
                          0.3859958515
                        ]
                      },
                      {
                        "learn": [
                          0.8390004347,
                          0.3505728936
                        ],
                        "iteration": 595,
                        "passed_time": 10.67750456,
                        "remaining_time": 7.237771546,
                        "test": [
                          0.8181578602,
                          0.3860281877
                        ]
                      },
                      {
                        "learn": [
                          0.8390004347,
                          0.3505625542
                        ],
                        "iteration": 596,
                        "passed_time": 10.69194792,
                        "remaining_time": 7.217512579,
                        "test": [
                          0.8181578602,
                          0.3860807859
                        ]
                      },
                      {
                        "learn": [
                          0.8391142607,
                          0.3505418135
                        ],
                        "iteration": 597,
                        "passed_time": 10.706509,
                        "remaining_time": 7.197352205,
                        "test": [
                          0.816839907,
                          0.3861406218
                        ]
                      },
                      {
                        "learn": [
                          0.8393419129,
                          0.3505317381
                        ],
                        "iteration": 598,
                        "passed_time": 10.72060627,
                        "remaining_time": 7.176900023,
                        "test": [
                          0.816839907,
                          0.386170771
                        ]
                      },
                      {
                        "learn": [
                          0.8394557389,
                          0.3505052648
                        ],
                        "iteration": 599,
                        "passed_time": 10.73516539,
                        "remaining_time": 7.156776926,
                        "test": [
                          0.8161053759,
                          0.3862124668
                        ]
                      },
                      {
                        "learn": [
                          0.8394557389,
                          0.3504960764
                        ],
                        "iteration": 600,
                        "passed_time": 10.74979964,
                        "remaining_time": 7.136722223,
                        "test": [
                          0.8161053759,
                          0.3862276022
                        ]
                      },
                      {
                        "learn": [
                          0.8393419129,
                          0.3504781266
                        ],
                        "iteration": 601,
                        "passed_time": 10.76458898,
                        "remaining_time": 7.116788065,
                        "test": [
                          0.8153708448,
                          0.3862622886
                        ]
                      },
                      {
                        "learn": [
                          0.8393419129,
                          0.3504629927
                        ],
                        "iteration": 602,
                        "passed_time": 10.77936819,
                        "remaining_time": 7.096864299,
                        "test": [
                          0.8153708448,
                          0.3863045092
                        ]
                      },
                      {
                        "learn": [
                          0.8393419129,
                          0.3504571571
                        ],
                        "iteration": 603,
                        "passed_time": 10.7936229,
                        "remaining_time": 7.07661369,
                        "test": [
                          0.8153708448,
                          0.386331541
                        ]
                      },
                      {
                        "learn": [
                          0.839569565,
                          0.3504473762
                        ],
                        "iteration": 604,
                        "passed_time": 10.80846394,
                        "remaining_time": 7.056765711,
                        "test": [
                          0.8153708448,
                          0.3863366809
                        ]
                      },
                      {
                        "learn": [
                          0.839569565,
                          0.3504324844
                        ],
                        "iteration": 605,
                        "passed_time": 10.82255604,
                        "remaining_time": 7.036447328,
                        "test": [
                          0.8153708448,
                          0.3863686426
                        ]
                      },
                      {
                        "learn": [
                          0.839493681,
                          0.3504170121
                        ],
                        "iteration": 606,
                        "passed_time": 10.83709077,
                        "remaining_time": 7.016436031,
                        "test": [
                          0.8153708448,
                          0.3864080988
                        ]
                      },
                      {
                        "learn": [
                          0.839645449,
                          0.3504101324
                        ],
                        "iteration": 607,
                        "passed_time": 10.85535444,
                        "remaining_time": 6.998846944,
                        "test": [
                          0.8153708448,
                          0.3864467771
                        ]
                      },
                      {
                        "learn": [
                          0.839569565,
                          0.350403298
                        ],
                        "iteration": 608,
                        "passed_time": 10.87013811,
                        "remaining_time": 6.979021349,
                        "test": [
                          0.8153708448,
                          0.386469466
                        ]
                      },
                      {
                        "learn": [
                          0.839569565,
                          0.3503983122
                        ],
                        "iteration": 609,
                        "passed_time": 10.88479749,
                        "remaining_time": 6.959132821,
                        "test": [
                          0.8153708448,
                          0.3864958127
                        ]
                      },
                      {
                        "learn": [
                          0.8394230732,
                          0.3503908859
                        ],
                        "iteration": 610,
                        "passed_time": 10.8989754,
                        "remaining_time": 6.938954877,
                        "test": [
                          0.8153708448,
                          0.3865048551
                        ]
                      },
                      {
                        "learn": [
                          0.8394230732,
                          0.350381522
                        ],
                        "iteration": 611,
                        "passed_time": 10.9137657,
                        "remaining_time": 6.91918479,
                        "test": [
                          0.8153708448,
                          0.386555756
                        ]
                      },
                      {
                        "learn": [
                          0.8394230732,
                          0.3503753257
                        ],
                        "iteration": 612,
                        "passed_time": 10.92907381,
                        "remaining_time": 6.899757854,
                        "test": [
                          0.8153708448,
                          0.3865803131
                        ]
                      },
                      {
                        "learn": [
                          0.8394230732,
                          0.3503704014
                        ],
                        "iteration": 613,
                        "passed_time": 10.94332183,
                        "remaining_time": 6.879677893,
                        "test": [
                          0.8153708448,
                          0.3866064947
                        ]
                      },
                      {
                        "learn": [
                          0.8394230732,
                          0.3503632594
                        ],
                        "iteration": 614,
                        "passed_time": 10.9607102,
                        "remaining_time": 6.861582808,
                        "test": [
                          0.8153708448,
                          0.3866245693
                        ]
                      },
                      {
                        "learn": [
                          0.8394230732,
                          0.3503548314
                        ],
                        "iteration": 615,
                        "passed_time": 10.97552184,
                        "remaining_time": 6.841883744,
                        "test": [
                          0.8153708448,
                          0.3866438686
                        ]
                      },
                      {
                        "learn": [
                          0.8393471892,
                          0.350345632
                        ],
                        "iteration": 616,
                        "passed_time": 10.98958715,
                        "remaining_time": 6.821737241,
                        "test": [
                          0.8153708448,
                          0.3866494542
                        ]
                      },
                      {
                        "learn": [
                          0.8394230732,
                          0.3503233839
                        ],
                        "iteration": 617,
                        "passed_time": 11.00414726,
                        "remaining_time": 6.801916268,
                        "test": [
                          0.8153708448,
                          0.3866631845
                        ]
                      },
                      {
                        "learn": [
                          0.8394989573,
                          0.3503161736
                        ],
                        "iteration": 618,
                        "passed_time": 11.01816041,
                        "remaining_time": 6.781775631,
                        "test": [
                          0.8153708448,
                          0.3866970547
                        ]
                      },
                      {
                        "learn": [
                          0.8394989573,
                          0.3503047926
                        ],
                        "iteration": 619,
                        "passed_time": 11.0328468,
                        "remaining_time": 6.762067391,
                        "test": [
                          0.8153708448,
                          0.3866986162
                        ]
                      },
                      {
                        "learn": [
                          0.8394989573,
                          0.3502941953
                        ],
                        "iteration": 620,
                        "passed_time": 11.04753433,
                        "remaining_time": 6.742376024,
                        "test": [
                          0.8153708448,
                          0.3867130954
                        ]
                      },
                      {
                        "learn": [
                          0.8394989573,
                          0.3502862816
                        ],
                        "iteration": 621,
                        "passed_time": 11.08223172,
                        "remaining_time": 6.73486108,
                        "test": [
                          0.8153708448,
                          0.3867553549
                        ]
                      },
                      {
                        "learn": [
                          0.8394989573,
                          0.3502696347
                        ],
                        "iteration": 622,
                        "passed_time": 11.10518445,
                        "remaining_time": 6.720151745,
                        "test": [
                          0.8153708448,
                          0.3867962777
                        ]
                      },
                      {
                        "learn": [
                          0.8394989573,
                          0.350258289
                        ],
                        "iteration": 623,
                        "passed_time": 11.123468,
                        "remaining_time": 6.70260251,
                        "test": [
                          0.8153708448,
                          0.3868418497
                        ]
                      },
                      {
                        "learn": [
                          0.8394989573,
                          0.3502368016
                        ],
                        "iteration": 624,
                        "passed_time": 11.13769657,
                        "remaining_time": 6.682617942,
                        "test": [
                          0.8153708448,
                          0.386879051
                        ]
                      },
                      {
                        "learn": [
                          0.8394989573,
                          0.3502254175
                        ],
                        "iteration": 625,
                        "passed_time": 11.15721323,
                        "remaining_time": 6.665811098,
                        "test": [
                          0.8153708448,
                          0.3869101421
                        ]
                      },
                      {
                        "learn": [
                          0.8394989573,
                          0.350211787
                        ],
                        "iteration": 626,
                        "passed_time": 11.18289544,
                        "remaining_time": 6.652663475,
                        "test": [
                          0.8153708448,
                          0.386952727
                        ]
                      },
                      {
                        "learn": [
                          0.8394989573,
                          0.3502012613
                        ],
                        "iteration": 627,
                        "passed_time": 11.19712689,
                        "remaining_time": 6.632692996,
                        "test": [
                          0.8153708448,
                          0.3869653896
                        ]
                      },
                      {
                        "learn": [
                          0.8394989573,
                          0.350190956
                        ],
                        "iteration": 628,
                        "passed_time": 11.21181751,
                        "remaining_time": 6.613011599,
                        "test": [
                          0.8153708448,
                          0.3869945611
                        ]
                      },
                      {
                        "learn": [
                          0.8396127833,
                          0.3501777151
                        ],
                        "iteration": 629,
                        "passed_time": 11.22641223,
                        "remaining_time": 6.59328972,
                        "test": [
                          0.8146363137,
                          0.3870310809
                        ]
                      },
                      {
                        "learn": [
                          0.8396127833,
                          0.3501684839
                        ],
                        "iteration": 630,
                        "passed_time": 11.24070029,
                        "remaining_time": 6.573404764,
                        "test": [
                          0.8146363137,
                          0.3870834457
                        ]
                      },
                      {
                        "learn": [
                          0.8397592751,
                          0.3501550051
                        ],
                        "iteration": 631,
                        "passed_time": 11.25700256,
                        "remaining_time": 6.554710353,
                        "test": [
                          0.8146363137,
                          0.3871387052
                        ]
                      },
                      {
                        "learn": [
                          0.8397592751,
                          0.3501400206
                        ],
                        "iteration": 632,
                        "passed_time": 11.271352,
                        "remaining_time": 6.534891286,
                        "test": [
                          0.8146363137,
                          0.3871597124
                        ]
                      },
                      {
                        "learn": [
                          0.8397592751,
                          0.3501275461
                        ],
                        "iteration": 633,
                        "passed_time": 11.28549197,
                        "remaining_time": 6.514968553,
                        "test": [
                          0.8146363137,
                          0.387213552
                        ]
                      },
                      {
                        "learn": [
                          0.8397592751,
                          0.3501191587
                        ],
                        "iteration": 634,
                        "passed_time": 11.30014068,
                        "remaining_time": 6.495356454,
                        "test": [
                          0.8146363137,
                          0.3872511519
                        ]
                      },
                      {
                        "learn": [
                          0.8397592751,
                          0.3501094375
                        ],
                        "iteration": 635,
                        "passed_time": 11.31947089,
                        "remaining_time": 6.478439316,
                        "test": [
                          0.8146363137,
                          0.387270188
                        ]
                      },
                      {
                        "learn": [
                          0.8397592751,
                          0.3500956709
                        ],
                        "iteration": 636,
                        "passed_time": 11.33421263,
                        "remaining_time": 6.458899821,
                        "test": [
                          0.8146363137,
                          0.3873205245
                        ]
                      },
                      {
                        "learn": [
                          0.839645449,
                          0.3500815931
                        ],
                        "iteration": 637,
                        "passed_time": 11.34873789,
                        "remaining_time": 6.439252536,
                        "test": [
                          0.8153708448,
                          0.3873593712
                        ]
                      },
                      {
                        "learn": [
                          0.839645449,
                          0.3500723866
                        ],
                        "iteration": 638,
                        "passed_time": 11.363249,
                        "remaining_time": 6.419613285,
                        "test": [
                          0.8153708448,
                          0.3873583384
                        ]
                      },
                      {
                        "learn": [
                          0.839645449,
                          0.3500500717
                        ],
                        "iteration": 639,
                        "passed_time": 11.37802688,
                        "remaining_time": 6.400140119,
                        "test": [
                          0.8153708448,
                          0.387396422
                        ]
                      },
                      {
                        "learn": [
                          0.8397592751,
                          0.3500428176
                        ],
                        "iteration": 640,
                        "passed_time": 11.39257688,
                        "remaining_time": 6.380553981,
                        "test": [
                          0.8146363137,
                          0.3874254326
                        ]
                      },
                      {
                        "learn": [
                          0.839645449,
                          0.3500348969
                        ],
                        "iteration": 641,
                        "passed_time": 11.40680793,
                        "remaining_time": 6.360805668,
                        "test": [
                          0.8153708448,
                          0.3874789888
                        ]
                      },
                      {
                        "learn": [
                          0.8397213331,
                          0.3500229604
                        ],
                        "iteration": 642,
                        "passed_time": 11.42105411,
                        "remaining_time": 6.341082919,
                        "test": [
                          0.8156730627,
                          0.387562914
                        ]
                      },
                      {
                        "learn": [
                          0.8397213331,
                          0.3500063154
                        ],
                        "iteration": 643,
                        "passed_time": 11.43594799,
                        "remaining_time": 6.321735222,
                        "test": [
                          0.8156730627,
                          0.3875902682
                        ]
                      },
                      {
                        "learn": [
                          0.8398351592,
                          0.3500001103
                        ],
                        "iteration": 644,
                        "passed_time": 11.45052868,
                        "remaining_time": 6.302228965,
                        "test": [
                          0.8149385316,
                          0.3876078107
                        ]
                      },
                      {
                        "learn": [
                          0.8398351592,
                          0.3499872457
                        ],
                        "iteration": 645,
                        "passed_time": 11.46540026,
                        "remaining_time": 6.282897356,
                        "test": [
                          0.8149385316,
                          0.3876802058
                        ]
                      },
                      {
                        "learn": [
                          0.8398351592,
                          0.3499748834
                        ],
                        "iteration": 646,
                        "passed_time": 11.47950484,
                        "remaining_time": 6.263161065,
                        "test": [
                          0.8149385316,
                          0.3876926242
                        ]
                      },
                      {
                        "learn": [
                          0.8398351592,
                          0.3499699952
                        ],
                        "iteration": 647,
                        "passed_time": 11.49379955,
                        "remaining_time": 6.243545435,
                        "test": [
                          0.8149385316,
                          0.3877123286
                        ]
                      },
                      {
                        "learn": [
                          0.8398351592,
                          0.3499620501
                        ],
                        "iteration": 648,
                        "passed_time": 11.5083156,
                        "remaining_time": 6.22406591,
                        "test": [
                          0.8149385316,
                          0.3877505628
                        ]
                      },
                      {
                        "learn": [
                          0.8398351592,
                          0.3499499513
                        ],
                        "iteration": 649,
                        "passed_time": 11.52310069,
                        "remaining_time": 6.204746527,
                        "test": [
                          0.8149385316,
                          0.3878193093
                        ]
                      },
                      {
                        "learn": [
                          0.8398351592,
                          0.3499388322
                        ],
                        "iteration": 650,
                        "passed_time": 11.53739502,
                        "remaining_time": 6.185177976,
                        "test": [
                          0.8149385316,
                          0.3878680615
                        ]
                      },
                      {
                        "learn": [
                          0.8397592751,
                          0.3499345234
                        ],
                        "iteration": 651,
                        "passed_time": 11.55182296,
                        "remaining_time": 6.165696918,
                        "test": [
                          0.8149385316,
                          0.3878851971
                        ]
                      },
                      {
                        "learn": [
                          0.8398351592,
                          0.3499228092
                        ],
                        "iteration": 652,
                        "passed_time": 11.56658923,
                        "remaining_time": 6.146411121,
                        "test": [
                          0.8149385316,
                          0.3879142617
                        ]
                      },
                      {
                        "learn": [
                          0.8398351592,
                          0.349916408
                        ],
                        "iteration": 653,
                        "passed_time": 11.58145022,
                        "remaining_time": 6.127189261,
                        "test": [
                          0.8149385316,
                          0.3879558765
                        ]
                      },
                      {
                        "learn": [
                          0.8398351592,
                          0.3499076355
                        ],
                        "iteration": 654,
                        "passed_time": 11.59577819,
                        "remaining_time": 6.107699964,
                        "test": [
                          0.8149385316,
                          0.3879806103
                        ]
                      },
                      {
                        "learn": [
                          0.8398351592,
                          0.3498975866
                        ],
                        "iteration": 655,
                        "passed_time": 11.60972419,
                        "remaining_time": 6.088026101,
                        "test": [
                          0.8149385316,
                          0.3880145357
                        ]
                      },
                      {
                        "learn": [
                          0.8398351592,
                          0.3498724406
                        ],
                        "iteration": 656,
                        "passed_time": 11.62385325,
                        "remaining_time": 6.068465245,
                        "test": [
                          0.8149385316,
                          0.3881388847
                        ]
                      },
                      {
                        "learn": [
                          0.8398351592,
                          0.3498575526
                        ],
                        "iteration": 657,
                        "passed_time": 11.63801482,
                        "remaining_time": 6.048937796,
                        "test": [
                          0.8149385316,
                          0.3881577041
                        ]
                      },
                      {
                        "learn": [
                          0.8400628113,
                          0.349846383
                        ],
                        "iteration": 658,
                        "passed_time": 11.65256898,
                        "remaining_time": 6.029629777,
                        "test": [
                          0.8134694694,
                          0.3882173298
                        ]
                      },
                      {
                        "learn": [
                          0.8400628113,
                          0.3498354494
                        ],
                        "iteration": 659,
                        "passed_time": 11.66749189,
                        "remaining_time": 6.010526126,
                        "test": [
                          0.8134694694,
                          0.38828198
                        ]
                      },
                      {
                        "learn": [
                          0.8400628113,
                          0.3498173556
                        ],
                        "iteration": 660,
                        "passed_time": 11.68186232,
                        "remaining_time": 5.99115178,
                        "test": [
                          0.8134694694,
                          0.3882649755
                        ]
                      },
                      {
                        "learn": [
                          0.8400628113,
                          0.3498090349
                        ],
                        "iteration": 661,
                        "passed_time": 11.69618277,
                        "remaining_time": 5.971767032,
                        "test": [
                          0.8134694694,
                          0.3883140313
                        ]
                      },
                      {
                        "learn": [
                          0.8400628113,
                          0.3497974795
                        ],
                        "iteration": 662,
                        "passed_time": 11.71055501,
                        "remaining_time": 5.952423887,
                        "test": [
                          0.8134694694,
                          0.3883406647
                        ]
                      },
                      {
                        "learn": [
                          0.8400628113,
                          0.3497895446
                        ],
                        "iteration": 663,
                        "passed_time": 11.72467524,
                        "remaining_time": 5.932968196,
                        "test": [
                          0.8134694694,
                          0.3883576815
                        ]
                      },
                      {
                        "learn": [
                          0.8400628113,
                          0.349784215
                        ],
                        "iteration": 664,
                        "passed_time": 11.73841063,
                        "remaining_time": 5.913334681,
                        "test": [
                          0.8134694694,
                          0.3883834936
                        ]
                      },
                      {
                        "learn": [
                          0.8400628113,
                          0.3497747969
                        ],
                        "iteration": 665,
                        "passed_time": 11.75268047,
                        "remaining_time": 5.893986905,
                        "test": [
                          0.8134694694,
                          0.3884306037
                        ]
                      },
                      {
                        "learn": [
                          0.8400628113,
                          0.3497610864
                        ],
                        "iteration": 666,
                        "passed_time": 11.76673654,
                        "remaining_time": 5.874547626,
                        "test": [
                          0.8134694694,
                          0.3884618161
                        ]
                      },
                      {
                        "learn": [
                          0.8400628113,
                          0.3497486728
                        ],
                        "iteration": 667,
                        "passed_time": 11.78116909,
                        "remaining_time": 5.855311581,
                        "test": [
                          0.8134694694,
                          0.3885034289
                        ]
                      },
                      {
                        "learn": [
                          0.8400628113,
                          0.3497437168
                        ],
                        "iteration": 668,
                        "passed_time": 11.79527087,
                        "remaining_time": 5.835926243,
                        "test": [
                          0.8134694694,
                          0.3885204731
                        ]
                      },
                      {
                        "learn": [
                          0.8400628113,
                          0.3497247486
                        ],
                        "iteration": 669,
                        "passed_time": 11.81048083,
                        "remaining_time": 5.817102499,
                        "test": [
                          0.8134694694,
                          0.3885560308
                        ]
                      },
                      {
                        "learn": [
                          0.8400628113,
                          0.3497130013
                        ],
                        "iteration": 670,
                        "passed_time": 11.82867616,
                        "remaining_time": 5.799753288,
                        "test": [
                          0.8134694694,
                          0.3886012219
                        ]
                      },
                      {
                        "learn": [
                          0.8400628113,
                          0.3497047439
                        ],
                        "iteration": 671,
                        "passed_time": 11.84699776,
                        "remaining_time": 5.78246319,
                        "test": [
                          0.8134694694,
                          0.3886574821
                        ]
                      },
                      {
                        "learn": [
                          0.8400248693,
                          0.3496961425
                        ],
                        "iteration": 672,
                        "passed_time": 11.86294941,
                        "remaining_time": 5.764018509,
                        "test": [
                          0.8142040005,
                          0.3887098081
                        ]
                      },
                      {
                        "learn": [
                          0.8399489852,
                          0.3496872454
                        ],
                        "iteration": 673,
                        "passed_time": 11.87764375,
                        "remaining_time": 5.744973091,
                        "test": [
                          0.8142040005,
                          0.3887394439
                        ]
                      },
                      {
                        "learn": [
                          0.8399489852,
                          0.3496757468
                        ],
                        "iteration": 674,
                        "passed_time": 11.89268163,
                        "remaining_time": 5.726105969,
                        "test": [
                          0.8142040005,
                          0.38876565
                        ]
                      },
                      {
                        "learn": [
                          0.8400628113,
                          0.3496674842
                        ],
                        "iteration": 675,
                        "passed_time": 11.90763085,
                        "remaining_time": 5.707207684,
                        "test": [
                          0.8134694694,
                          0.3887992455
                        ]
                      },
                      {
                        "learn": [
                          0.8400628113,
                          0.3496616573
                        ],
                        "iteration": 676,
                        "passed_time": 11.92192268,
                        "remaining_time": 5.688007422,
                        "test": [
                          0.8134694694,
                          0.3888386006
                        ]
                      },
                      {
                        "learn": [
                          0.8401386954,
                          0.3496530993
                        ],
                        "iteration": 677,
                        "passed_time": 11.93833843,
                        "remaining_time": 5.669830347,
                        "test": [
                          0.8128860473,
                          0.3888599232
                        ]
                      },
                      {
                        "learn": [
                          0.8402145794,
                          0.3496398679
                        ],
                        "iteration": 678,
                        "passed_time": 11.95520384,
                        "remaining_time": 5.651871035,
                        "test": [
                          0.8128860473,
                          0.3889231463
                        ]
                      },
                      {
                        "learn": [
                          0.8402145794,
                          0.3496298077
                        ],
                        "iteration": 679,
                        "passed_time": 11.96981085,
                        "remaining_time": 5.632852165,
                        "test": [
                          0.8128860473,
                          0.3889714726
                        ]
                      },
                      {
                        "learn": [
                          0.8402145794,
                          0.3496241774
                        ],
                        "iteration": 680,
                        "passed_time": 11.98444411,
                        "remaining_time": 5.613858548,
                        "test": [
                          0.8128860473,
                          0.3889809011
                        ]
                      },
                      {
                        "learn": [
                          0.8402525214,
                          0.349619698
                        ],
                        "iteration": 681,
                        "passed_time": 11.99870538,
                        "remaining_time": 5.594704266,
                        "test": [
                          0.8127349384,
                          0.3890152183
                        ]
                      },
                      {
                        "learn": [
                          0.8401819137,
                          0.3496091086
                        ],
                        "iteration": 682,
                        "passed_time": 12.01314935,
                        "remaining_time": 5.575649111,
                        "test": [
                          0.8127349384,
                          0.3890616945
                        ]
                      },
                      {
                        "learn": [
                          0.8402577977,
                          0.3496046271
                        ],
                        "iteration": 683,
                        "passed_time": 12.02771215,
                        "remaining_time": 5.556662337,
                        "test": [
                          0.8121515162,
                          0.3890747334
                        ]
                      },
                      {
                        "learn": [
                          0.8401819137,
                          0.3495862719
                        ],
                        "iteration": 684,
                        "passed_time": 12.04265921,
                        "remaining_time": 5.537865182,
                        "test": [
                          0.8127349384,
                          0.3891160192
                        ]
                      },
                      {
                        "learn": [
                          0.8402577977,
                          0.3495710518
                        ],
                        "iteration": 685,
                        "passed_time": 12.05785845,
                        "remaining_time": 5.519194684,
                        "test": [
                          0.8121515162,
                          0.3891534472
                        ]
                      },
                      {
                        "learn": [
                          0.8402577977,
                          0.3495634927
                        ],
                        "iteration": 686,
                        "passed_time": 12.09468821,
                        "remaining_time": 5.510389242,
                        "test": [
                          0.8121515162,
                          0.3891641254
                        ]
                      },
                      {
                        "learn": [
                          0.8402577977,
                          0.3495470771
                        ],
                        "iteration": 687,
                        "passed_time": 12.12533891,
                        "remaining_time": 5.498700201,
                        "test": [
                          0.8121515162,
                          0.3891882422
                        ]
                      },
                      {
                        "learn": [
                          0.840149248,
                          0.3495353211
                        ],
                        "iteration": 688,
                        "passed_time": 12.1409418,
                        "remaining_time": 5.480163861,
                        "test": [
                          0.8114169851,
                          0.3892131588
                        ]
                      },
                      {
                        "learn": [
                          0.840149248,
                          0.3495247501
                        ],
                        "iteration": 689,
                        "passed_time": 12.15848141,
                        "remaining_time": 5.462506141,
                        "test": [
                          0.8114169851,
                          0.3892920715
                        ]
                      },
                      {
                        "learn": [
                          0.840149248,
                          0.3495159851
                        ],
                        "iteration": 690,
                        "passed_time": 12.1798834,
                        "remaining_time": 5.446575933,
                        "test": [
                          0.8114169851,
                          0.3893491683
                        ]
                      },
                      {
                        "learn": [
                          0.840149248,
                          0.3495126291
                        ],
                        "iteration": 691,
                        "passed_time": 12.20372135,
                        "remaining_time": 5.431714126,
                        "test": [
                          0.8114169851,
                          0.3893483913
                        ]
                      },
                      {
                        "learn": [
                          0.840149248,
                          0.3494985694
                        ],
                        "iteration": 692,
                        "passed_time": 12.21789695,
                        "remaining_time": 5.41254598,
                        "test": [
                          0.8114169851,
                          0.3894001787
                        ]
                      },
                      {
                        "learn": [
                          0.840149248,
                          0.3494909171
                        ],
                        "iteration": 693,
                        "passed_time": 12.23203016,
                        "remaining_time": 5.393373527,
                        "test": [
                          0.8114169851,
                          0.3894027492
                        ]
                      },
                      {
                        "learn": [
                          0.840149248,
                          0.3494794326
                        ],
                        "iteration": 694,
                        "passed_time": 12.24914678,
                        "remaining_time": 5.375524845,
                        "test": [
                          0.8114169851,
                          0.3894265847
                        ]
                      },
                      {
                        "learn": [
                          0.8402957398,
                          0.34945976
                        ],
                        "iteration": 695,
                        "passed_time": 12.26343261,
                        "remaining_time": 5.356441828,
                        "test": [
                          0.8114169851,
                          0.3894119043
                        ]
                      },
                      {
                        "learn": [
                          0.840149248,
                          0.3494385958
                        ],
                        "iteration": 696,
                        "passed_time": 12.27758422,
                        "remaining_time": 5.337314233,
                        "test": [
                          0.8114169851,
                          0.389429518
                        ]
                      },
                      {
                        "learn": [
                          0.840149248,
                          0.3494196842
                        ],
                        "iteration": 697,
                        "passed_time": 12.29212209,
                        "remaining_time": 5.318368012,
                        "test": [
                          0.8114169851,
                          0.389484856
                        ]
                      },
                      {
                        "learn": [
                          0.840149248,
                          0.3494080525
                        ],
                        "iteration": 698,
                        "passed_time": 12.3072818,
                        "remaining_time": 5.299702175,
                        "test": [
                          0.8114169851,
                          0.3895255746
                        ]
                      },
                      {
                        "learn": [
                          0.840149248,
                          0.3493976632
                        ],
                        "iteration": 699,
                        "passed_time": 12.32172213,
                        "remaining_time": 5.280738054,
                        "test": [
                          0.8114169851,
                          0.3895815644
                        ]
                      },
                      {
                        "learn": [
                          0.840149248,
                          0.3493758805
                        ],
                        "iteration": 700,
                        "passed_time": 12.33607067,
                        "remaining_time": 5.261747691,
                        "test": [
                          0.8114169851,
                          0.3895944272
                        ]
                      },
                      {
                        "learn": [
                          0.8400354219,
                          0.3493633949
                        ],
                        "iteration": 701,
                        "passed_time": 12.35125241,
                        "remaining_time": 5.243124244,
                        "test": [
                          0.8121515162,
                          0.3896452601
                        ]
                      },
                      {
                        "learn": [
                          0.840149248,
                          0.3493564244
                        ],
                        "iteration": 702,
                        "passed_time": 12.36598507,
                        "remaining_time": 5.224320862,
                        "test": [
                          0.8114169851,
                          0.3896828463
                        ]
                      },
                      {
                        "learn": [
                          0.8402577977,
                          0.3493487261
                        ],
                        "iteration": 703,
                        "passed_time": 12.38034558,
                        "remaining_time": 5.205372574,
                        "test": [
                          0.8121515162,
                          0.3897217898
                        ]
                      },
                      {
                        "learn": [
                          0.8403284055,
                          0.3493293769
                        ],
                        "iteration": 704,
                        "passed_time": 12.395104,
                        "remaining_time": 5.1866038,
                        "test": [
                          0.8121515162,
                          0.3897932614
                        ]
                      },
                      {
                        "learn": [
                          0.8403284055,
                          0.3493215655
                        ],
                        "iteration": 705,
                        "passed_time": 12.40957915,
                        "remaining_time": 5.167728429,
                        "test": [
                          0.8121515162,
                          0.3898186612
                        ]
                      },
                      {
                        "learn": [
                          0.8403284055,
                          0.349314218
                        ],
                        "iteration": 706,
                        "passed_time": 12.42419507,
                        "remaining_time": 5.14892384,
                        "test": [
                          0.8121515162,
                          0.3898490602
                        ]
                      },
                      {
                        "learn": [
                          0.8404801736,
                          0.3493059226
                        ],
                        "iteration": 707,
                        "passed_time": 12.43830913,
                        "remaining_time": 5.129924104,
                        "test": [
                          0.8115680941,
                          0.389867063
                        ]
                      },
                      {
                        "learn": [
                          0.8404801736,
                          0.3492913813
                        ],
                        "iteration": 708,
                        "passed_time": 12.45307634,
                        "remaining_time": 5.111206228,
                        "test": [
                          0.8115680941,
                          0.3898938956
                        ]
                      },
                      {
                        "learn": [
                          0.8403336818,
                          0.3492865403
                        ],
                        "iteration": 709,
                        "passed_time": 12.46777135,
                        "remaining_time": 5.092469988,
                        "test": [
                          0.8115680941,
                          0.389919484
                        ]
                      },
                      {
                        "learn": [
                          0.8404801736,
                          0.3492773032
                        ],
                        "iteration": 710,
                        "passed_time": 12.48186883,
                        "remaining_time": 5.073502238,
                        "test": [
                          0.8115680941,
                          0.389975216
                        ]
                      },
                      {
                        "learn": [
                          0.8404801736,
                          0.3492701695
                        ],
                        "iteration": 711,
                        "passed_time": 12.4969294,
                        "remaining_time": 5.054937735,
                        "test": [
                          0.8115680941,
                          0.3900023437
                        ]
                      },
                      {
                        "learn": [
                          0.8404042895,
                          0.3492532665
                        ],
                        "iteration": 712,
                        "passed_time": 12.51212302,
                        "remaining_time": 5.036436615,
                        "test": [
                          0.8115680941,
                          0.390086326
                        ]
                      },
                      {
                        "learn": [
                          0.8404042895,
                          0.3492393526
                        ],
                        "iteration": 713,
                        "passed_time": 12.52811516,
                        "remaining_time": 5.018264615,
                        "test": [
                          0.8115680941,
                          0.390154376
                        ]
                      },
                      {
                        "learn": [
                          0.8404042895,
                          0.3492306293
                        ],
                        "iteration": 714,
                        "passed_time": 12.54626498,
                        "remaining_time": 5.000958768,
                        "test": [
                          0.8115680941,
                          0.3901593763
                        ]
                      },
                      {
                        "learn": [
                          0.8404042895,
                          0.3492157465
                        ],
                        "iteration": 715,
                        "passed_time": 12.561915,
                        "remaining_time": 4.98265902,
                        "test": [
                          0.8115680941,
                          0.3902118845
                        ]
                      },
                      {
                        "learn": [
                          0.8404422315,
                          0.3492104319
                        ],
                        "iteration": 716,
                        "passed_time": 12.57724088,
                        "remaining_time": 4.964238728,
                        "test": [
                          0.810833563,
                          0.390235581
                        ]
                      },
                      {
                        "learn": [
                          0.8404422315,
                          0.3491966703
                        ],
                        "iteration": 717,
                        "passed_time": 12.59237121,
                        "remaining_time": 4.945750251,
                        "test": [
                          0.810833563,
                          0.390283704
                        ]
                      },
                      {
                        "learn": [
                          0.8404422315,
                          0.3491781851
                        ],
                        "iteration": 718,
                        "passed_time": 12.60744468,
                        "remaining_time": 4.927248895,
                        "test": [
                          0.810833563,
                          0.3902953933
                        ]
                      },
                      {
                        "learn": [
                          0.8404422315,
                          0.3491642997
                        ],
                        "iteration": 719,
                        "passed_time": 12.62197659,
                        "remaining_time": 4.908546452,
                        "test": [
                          0.810833563,
                          0.3903235345
                        ]
                      },
                      {
                        "learn": [
                          0.8404422315,
                          0.3491521738
                        ],
                        "iteration": 720,
                        "passed_time": 12.63969315,
                        "remaining_time": 4.891087916,
                        "test": [
                          0.810833563,
                          0.3903527538
                        ]
                      },
                      {
                        "learn": [
                          0.8404422315,
                          0.3491424949
                        ],
                        "iteration": 721,
                        "passed_time": 12.65467073,
                        "remaining_time": 4.872574048,
                        "test": [
                          0.810833563,
                          0.3903804717
                        ]
                      },
                      {
                        "learn": [
                          0.8403284055,
                          0.3491384347
                        ],
                        "iteration": 722,
                        "passed_time": 12.66921382,
                        "remaining_time": 4.853903498,
                        "test": [
                          0.8115680941,
                          0.3903935359
                        ]
                      },
                      {
                        "learn": [
                          0.8403284055,
                          0.3491238239
                        ],
                        "iteration": 723,
                        "passed_time": 12.68329075,
                        "remaining_time": 4.83506664,
                        "test": [
                          0.8115680941,
                          0.3904035845
                        ]
                      },
                      {
                        "learn": [
                          0.8403284055,
                          0.3491148378
                        ],
                        "iteration": 724,
                        "passed_time": 12.69787243,
                        "remaining_time": 4.816434371,
                        "test": [
                          0.8115680941,
                          0.3904430912
                        ]
                      },
                      {
                        "learn": [
                          0.8403284055,
                          0.3491067334
                        ],
                        "iteration": 725,
                        "passed_time": 12.71243353,
                        "remaining_time": 4.797805491,
                        "test": [
                          0.8115680941,
                          0.3904922113
                        ]
                      },
                      {
                        "learn": [
                          0.8403284055,
                          0.3490926841
                        ],
                        "iteration": 726,
                        "passed_time": 12.72781025,
                        "remaining_time": 4.779494084,
                        "test": [
                          0.8115680941,
                          0.3905103247
                        ]
                      },
                      {
                        "learn": [
                          0.8403284055,
                          0.349076237
                        ],
                        "iteration": 727,
                        "passed_time": 12.74215055,
                        "remaining_time": 4.760803503,
                        "test": [
                          0.8115680941,
                          0.3904978781
                        ]
                      },
                      {
                        "learn": [
                          0.8403284055,
                          0.3490657295
                        ],
                        "iteration": 728,
                        "passed_time": 12.75701704,
                        "remaining_time": 4.742320464,
                        "test": [
                          0.8115680941,
                          0.3905198451
                        ]
                      },
                      {
                        "learn": [
                          0.8403284055,
                          0.3490542018
                        ],
                        "iteration": 729,
                        "passed_time": 12.77161839,
                        "remaining_time": 4.723749267,
                        "test": [
                          0.8115680941,
                          0.3905350861
                        ]
                      },
                      {
                        "learn": [
                          0.8403284055,
                          0.3490389628
                        ],
                        "iteration": 730,
                        "passed_time": 12.78622012,
                        "remaining_time": 4.705189074,
                        "test": [
                          0.8115680941,
                          0.3905722524
                        ]
                      },
                      {
                        "learn": [
                          0.8403284055,
                          0.3490343904
                        ],
                        "iteration": 731,
                        "passed_time": 12.80054969,
                        "remaining_time": 4.686540049,
                        "test": [
                          0.8115680941,
                          0.390588501
                        ]
                      },
                      {
                        "learn": [
                          0.8403284055,
                          0.349023311
                        ],
                        "iteration": 732,
                        "passed_time": 12.81523363,
                        "remaining_time": 4.668031895,
                        "test": [
                          0.8115680941,
                          0.3906121556
                        ]
                      },
                      {
                        "learn": [
                          0.8403284055,
                          0.3490128542
                        ],
                        "iteration": 733,
                        "passed_time": 12.83026655,
                        "remaining_time": 4.649660628,
                        "test": [
                          0.8115680941,
                          0.3906258023
                        ]
                      },
                      {
                        "learn": [
                          0.8403284055,
                          0.3490089285
                        ],
                        "iteration": 734,
                        "passed_time": 12.84993894,
                        "remaining_time": 4.632971182,
                        "test": [
                          0.8115680941,
                          0.3906704493
                        ]
                      },
                      {
                        "learn": [
                          0.8404042895,
                          0.3489813921
                        ],
                        "iteration": 735,
                        "passed_time": 12.86439012,
                        "remaining_time": 4.614400805,
                        "test": [
                          0.8109846719,
                          0.3907134549
                        ]
                      },
                      {
                        "learn": [
                          0.8404042895,
                          0.3489685883
                        ],
                        "iteration": 736,
                        "passed_time": 12.87866558,
                        "remaining_time": 4.595778898,
                        "test": [
                          0.8109846719,
                          0.3907636397
                        ]
                      },
                      {
                        "learn": [
                          0.8404042895,
                          0.3489500551
                        ],
                        "iteration": 737,
                        "passed_time": 12.89310031,
                        "remaining_time": 4.577225312,
                        "test": [
                          0.8109846719,
                          0.3908192947
                        ]
                      },
                      {
                        "learn": [
                          0.8404042895,
                          0.3489435186
                        ],
                        "iteration": 738,
                        "passed_time": 12.9074552,
                        "remaining_time": 4.558654678,
                        "test": [
                          0.8109846719,
                          0.390843621
                        ]
                      },
                      {
                        "learn": [
                          0.8404042895,
                          0.3489377371
                        ],
                        "iteration": 739,
                        "passed_time": 12.92116134,
                        "remaining_time": 4.539867498,
                        "test": [
                          0.8109846719,
                          0.3908767762
                        ]
                      },
                      {
                        "learn": [
                          0.8404042895,
                          0.348925182
                        ],
                        "iteration": 740,
                        "passed_time": 12.93518792,
                        "remaining_time": 4.521206034,
                        "test": [
                          0.8109846719,
                          0.3908819492
                        ]
                      },
                      {
                        "learn": [
                          0.8404042895,
                          0.3489152287
                        ],
                        "iteration": 741,
                        "passed_time": 12.94943489,
                        "remaining_time": 4.502633696,
                        "test": [
                          0.8109846719,
                          0.3909087763
                        ]
                      },
                      {
                        "learn": [
                          0.8404042895,
                          0.3489000045
                        ],
                        "iteration": 742,
                        "passed_time": 12.96350972,
                        "remaining_time": 4.484013455,
                        "test": [
                          0.8109846719,
                          0.3909119928
                        ]
                      },
                      {
                        "learn": [
                          0.8404042895,
                          0.3488887994
                        ],
                        "iteration": 743,
                        "passed_time": 12.97796523,
                        "remaining_time": 4.465536424,
                        "test": [
                          0.8109846719,
                          0.3909702946
                        ]
                      },
                      {
                        "learn": [
                          0.8404801736,
                          0.3488764171
                        ],
                        "iteration": 744,
                        "passed_time": 12.99311782,
                        "remaining_time": 4.447308785,
                        "test": [
                          0.8109846719,
                          0.3910356746
                        ]
                      },
                      {
                        "learn": [
                          0.8404801736,
                          0.3488706557
                        ],
                        "iteration": 745,
                        "passed_time": 13.00727804,
                        "remaining_time": 4.428751506,
                        "test": [
                          0.8109846719,
                          0.3910574795
                        ]
                      },
                      {
                        "learn": [
                          0.8404801736,
                          0.3488631679
                        ],
                        "iteration": 746,
                        "passed_time": 13.0214625,
                        "remaining_time": 4.410214206,
                        "test": [
                          0.8109846719,
                          0.3910890545
                        ]
                      },
                      {
                        "learn": [
                          0.8404801736,
                          0.3488546353
                        ],
                        "iteration": 747,
                        "passed_time": 13.03945133,
                        "remaining_time": 4.392970233,
                        "test": [
                          0.8109846719,
                          0.3911205051
                        ]
                      },
                      {
                        "learn": [
                          0.8406698837,
                          0.3488339311
                        ],
                        "iteration": 748,
                        "passed_time": 13.05453868,
                        "remaining_time": 4.374751947,
                        "test": [
                          0.8096667187,
                          0.3911033664
                        ]
                      },
                      {
                        "learn": [
                          0.8406698837,
                          0.3488301663
                        ],
                        "iteration": 749,
                        "passed_time": 13.06913423,
                        "remaining_time": 4.356378076,
                        "test": [
                          0.8096667187,
                          0.3911273241
                        ]
                      },
                      {
                        "learn": [
                          0.8406698837,
                          0.3488112096
                        ],
                        "iteration": 750,
                        "passed_time": 13.10371921,
                        "remaining_time": 4.344641922,
                        "test": [
                          0.8096667187,
                          0.3911260075
                        ]
                      },
                      {
                        "learn": [
                          0.8406698837,
                          0.3488052424
                        ],
                        "iteration": 751,
                        "passed_time": 13.13321138,
                        "remaining_time": 4.331165454,
                        "test": [
                          0.8096667187,
                          0.3911433729
                        ]
                      },
                      {
                        "learn": [
                          0.8406698837,
                          0.34879819
                        ],
                        "iteration": 752,
                        "passed_time": 13.1533456,
                        "remaining_time": 4.314576845,
                        "test": [
                          0.8096667187,
                          0.3911692134
                        ]
                      },
                      {
                        "learn": [
                          0.8405939996,
                          0.3487895293
                        ],
                        "iteration": 753,
                        "passed_time": 13.16790937,
                        "remaining_time": 4.296161412,
                        "test": [
                          0.8102501408,
                          0.3912233136
                        ]
                      },
                      {
                        "learn": [
                          0.8405939996,
                          0.3487825638
                        ],
                        "iteration": 754,
                        "passed_time": 13.18274687,
                        "remaining_time": 4.27784501,
                        "test": [
                          0.8102501408,
                          0.3912584892
                        ]
                      },
                      {
                        "learn": [
                          0.8405939996,
                          0.3487656993
                        ],
                        "iteration": 755,
                        "passed_time": 13.20619057,
                        "remaining_time": 4.262315476,
                        "test": [
                          0.8102501408,
                          0.3912977442
                        ]
                      },
                      {
                        "learn": [
                          0.8405939996,
                          0.348743853
                        ],
                        "iteration": 756,
                        "passed_time": 13.23051067,
                        "remaining_time": 4.247046358,
                        "test": [
                          0.8102501408,
                          0.3912935292
                        ]
                      },
                      {
                        "learn": [
                          0.8405939996,
                          0.3487374261
                        ],
                        "iteration": 757,
                        "passed_time": 13.24650785,
                        "remaining_time": 4.229096175,
                        "test": [
                          0.8102501408,
                          0.3913150475
                        ]
                      },
                      {
                        "learn": [
                          0.8405939996,
                          0.3487220115
                        ],
                        "iteration": 758,
                        "passed_time": 13.26050879,
                        "remaining_time": 4.210517283,
                        "test": [
                          0.8102501408,
                          0.3913483153
                        ]
                      },
                      {
                        "learn": [
                          0.8405939996,
                          0.3487165034
                        ],
                        "iteration": 759,
                        "passed_time": 13.27513726,
                        "remaining_time": 4.192148609,
                        "test": [
                          0.8102501408,
                          0.3913647347
                        ]
                      },
                      {
                        "learn": [
                          0.8405939996,
                          0.3487028944
                        ],
                        "iteration": 760,
                        "passed_time": 13.29061821,
                        "remaining_time": 4.174057492,
                        "test": [
                          0.8102501408,
                          0.3913990343
                        ]
                      },
                      {
                        "learn": [
                          0.8406698837,
                          0.348695546
                        ],
                        "iteration": 761,
                        "passed_time": 13.30481323,
                        "remaining_time": 4.155571586,
                        "test": [
                          0.8096667187,
                          0.3914227344
                        ]
                      },
                      {
                        "learn": [
                          0.8406698837,
                          0.3486891406
                        ],
                        "iteration": 762,
                        "passed_time": 13.31900166,
                        "remaining_time": 4.137094879,
                        "test": [
                          0.8096667187,
                          0.3914528088
                        ]
                      },
                      {
                        "learn": [
                          0.8406698837,
                          0.3486764396
                        ],
                        "iteration": 763,
                        "passed_time": 13.33343411,
                        "remaining_time": 4.118704777,
                        "test": [
                          0.8096667187,
                          0.3914804614
                        ]
                      },
                      {
                        "learn": [
                          0.8406698837,
                          0.3486723486
                        ],
                        "iteration": 764,
                        "passed_time": 13.34781926,
                        "remaining_time": 4.100310492,
                        "test": [
                          0.8096667187,
                          0.3915000234
                        ]
                      },
                      {
                        "learn": [
                          0.8406698837,
                          0.3486632828
                        ],
                        "iteration": 765,
                        "passed_time": 13.36198551,
                        "remaining_time": 4.081859802,
                        "test": [
                          0.8096667187,
                          0.3915462491
                        ]
                      },
                      {
                        "learn": [
                          0.8406698837,
                          0.3486468118
                        ],
                        "iteration": 766,
                        "passed_time": 13.3767043,
                        "remaining_time": 4.063588138,
                        "test": [
                          0.8096667187,
                          0.3915637049
                        ]
                      },
                      {
                        "learn": [
                          0.8406698837,
                          0.3486404782
                        ],
                        "iteration": 767,
                        "passed_time": 13.39123945,
                        "remaining_time": 4.045270251,
                        "test": [
                          0.8096667187,
                          0.3915861055
                        ]
                      },
                      {
                        "learn": [
                          0.8406698837,
                          0.3486322418
                        ],
                        "iteration": 768,
                        "passed_time": 13.4054302,
                        "remaining_time": 4.026858747,
                        "test": [
                          0.8096667187,
                          0.3916498971
                        ]
                      },
                      {
                        "learn": [
                          0.8406698837,
                          0.3486298549
                        ],
                        "iteration": 769,
                        "passed_time": 13.41952198,
                        "remaining_time": 4.008428645,
                        "test": [
                          0.8096667187,
                          0.3916603086
                        ]
                      },
                      {
                        "learn": [
                          0.8406698837,
                          0.3486217079
                        ],
                        "iteration": 770,
                        "passed_time": 13.43376166,
                        "remaining_time": 3.990053723,
                        "test": [
                          0.8096667187,
                          0.3916897495
                        ]
                      },
                      {
                        "learn": [
                          0.8406698837,
                          0.348614587
                        ],
                        "iteration": 771,
                        "passed_time": 13.44806635,
                        "remaining_time": 3.971708716,
                        "test": [
                          0.8096667187,
                          0.3917056759
                        ]
                      },
                      {
                        "learn": [
                          0.8406698837,
                          0.3486076783
                        ],
                        "iteration": 772,
                        "passed_time": 13.46259059,
                        "remaining_time": 3.953438635,
                        "test": [
                          0.8096667187,
                          0.3917166196
                        ]
                      },
                      {
                        "learn": [
                          0.8406698837,
                          0.3485868752
                        ],
                        "iteration": 773,
                        "passed_time": 13.47680512,
                        "remaining_time": 3.935087799,
                        "test": [
                          0.8093645008,
                          0.391739137
                        ]
                      },
                      {
                        "learn": [
                          0.8406698837,
                          0.3485697991
                        ],
                        "iteration": 774,
                        "passed_time": 13.49065522,
                        "remaining_time": 3.916641838,
                        "test": [
                          0.8093645008,
                          0.3918097435
                        ]
                      },
                      {
                        "learn": [
                          0.8406698837,
                          0.3485655245
                        ],
                        "iteration": 775,
                        "passed_time": 13.50505736,
                        "remaining_time": 3.898367074,
                        "test": [
                          0.8093645008,
                          0.3918343442
                        ]
                      },
                      {
                        "learn": [
                          0.8408595938,
                          0.3485567074
                        ],
                        "iteration": 776,
                        "passed_time": 13.51913501,
                        "remaining_time": 3.880009148,
                        "test": [
                          0.8080465476,
                          0.3918436754
                        ]
                      },
                      {
                        "learn": [
                          0.8408595938,
                          0.3485468842
                        ],
                        "iteration": 777,
                        "passed_time": 13.53318111,
                        "remaining_time": 3.861653222,
                        "test": [
                          0.8080465476,
                          0.391891506
                        ]
                      },
                      {
                        "learn": [
                          0.8408595938,
                          0.3485410475
                        ],
                        "iteration": 778,
                        "passed_time": 13.54738283,
                        "remaining_time": 3.84335251,
                        "test": [
                          0.8080465476,
                          0.3919203148
                        ]
                      },
                      {
                        "learn": [
                          0.8408595938,
                          0.348536991
                        ],
                        "iteration": 779,
                        "passed_time": 13.56193973,
                        "remaining_time": 3.825162489,
                        "test": [
                          0.8080465476,
                          0.3919497311
                        ]
                      },
                      {
                        "learn": [
                          0.8408595938,
                          0.3485324847
                        ],
                        "iteration": 780,
                        "passed_time": 13.57603683,
                        "remaining_time": 3.806852836,
                        "test": [
                          0.8080465476,
                          0.3919752376
                        ]
                      },
                      {
                        "learn": [
                          0.8408595938,
                          0.3485197516
                        ],
                        "iteration": 781,
                        "passed_time": 13.59024499,
                        "remaining_time": 3.788584921,
                        "test": [
                          0.8080465476,
                          0.3919816401
                        ]
                      },
                      {
                        "learn": [
                          0.8408595938,
                          0.3485150412
                        ],
                        "iteration": 782,
                        "passed_time": 13.60417483,
                        "remaining_time": 3.77025024,
                        "test": [
                          0.8080465476,
                          0.3920033299
                        ]
                      },
                      {
                        "learn": [
                          0.8408595938,
                          0.3484956722
                        ],
                        "iteration": 783,
                        "passed_time": 13.6181184,
                        "remaining_time": 3.751930579,
                        "test": [
                          0.8080465476,
                          0.3920670423
                        ]
                      },
                      {
                        "learn": [
                          0.8408595938,
                          0.3484866432
                        ],
                        "iteration": 784,
                        "passed_time": 13.63249601,
                        "remaining_time": 3.733740946,
                        "test": [
                          0.8080465476,
                          0.3920908581
                        ]
                      },
                      {
                        "learn": [
                          0.8408595938,
                          0.3484794958
                        ],
                        "iteration": 785,
                        "passed_time": 13.64736142,
                        "remaining_time": 3.715693821,
                        "test": [
                          0.8080465476,
                          0.3921193734
                        ]
                      },
                      {
                        "learn": [
                          0.8408595938,
                          0.3484732006
                        ],
                        "iteration": 786,
                        "passed_time": 13.66188603,
                        "remaining_time": 3.697562546,
                        "test": [
                          0.8080465476,
                          0.392139657
                        ]
                      },
                      {
                        "learn": [
                          0.8408595938,
                          0.3484548118
                        ],
                        "iteration": 787,
                        "passed_time": 13.67602158,
                        "remaining_time": 3.679335756,
                        "test": [
                          0.8080465476,
                          0.3921374797
                        ]
                      },
                      {
                        "learn": [
                          0.8408595938,
                          0.3484369141
                        ],
                        "iteration": 788,
                        "passed_time": 13.69010222,
                        "remaining_time": 3.661104649,
                        "test": [
                          0.8080465476,
                          0.3921645835
                        ]
                      },
                      {
                        "learn": [
                          0.8408595938,
                          0.3484330426
                        ],
                        "iteration": 789,
                        "passed_time": 13.70447272,
                        "remaining_time": 3.642961103,
                        "test": [
                          0.8080465476,
                          0.3921742708
                        ]
                      },
                      {
                        "learn": [
                          0.8408595938,
                          0.3484268017
                        ],
                        "iteration": 790,
                        "passed_time": 13.72072863,
                        "remaining_time": 3.625325265,
                        "test": [
                          0.8080465476,
                          0.3922214648
                        ]
                      },
                      {
                        "learn": [
                          0.8408595938,
                          0.3484162452
                        ],
                        "iteration": 791,
                        "passed_time": 13.73641674,
                        "remaining_time": 3.607543789,
                        "test": [
                          0.8080465476,
                          0.392288842
                        ]
                      },
                      {
                        "learn": [
                          0.8408595938,
                          0.3484096055
                        ],
                        "iteration": 792,
                        "passed_time": 13.75037261,
                        "remaining_time": 3.589315422,
                        "test": [
                          0.8080465476,
                          0.3923141489
                        ]
                      },
                      {
                        "learn": [
                          0.8408595938,
                          0.3483980412
                        ],
                        "iteration": 793,
                        "passed_time": 13.76481955,
                        "remaining_time": 3.571225224,
                        "test": [
                          0.8080465476,
                          0.3923765365
                        ]
                      },
                      {
                        "learn": [
                          0.8408595938,
                          0.3483872825
                        ],
                        "iteration": 794,
                        "passed_time": 13.77928946,
                        "remaining_time": 3.553150112,
                        "test": [
                          0.8080465476,
                          0.3924363934
                        ]
                      },
                      {
                        "learn": [
                          0.8408595938,
                          0.3483784821
                        ],
                        "iteration": 795,
                        "passed_time": 13.79311826,
                        "remaining_time": 3.534919754,
                        "test": [
                          0.8080465476,
                          0.3924534452
                        ]
                      },
                      {
                        "learn": [
                          0.8408595938,
                          0.3483541622
                        ],
                        "iteration": 796,
                        "passed_time": 13.80705943,
                        "remaining_time": 3.516729064,
                        "test": [
                          0.8080465476,
                          0.3924352432
                        ]
                      },
                      {
                        "learn": [
                          0.8407457677,
                          0.348351
                        ],
                        "iteration": 797,
                        "passed_time": 13.82232134,
                        "remaining_time": 3.498883347,
                        "test": [
                          0.8087810787,
                          0.3924715146
                        ]
                      },
                      {
                        "learn": [
                          0.8407457677,
                          0.3483383143
                        ],
                        "iteration": 798,
                        "passed_time": 13.83887577,
                        "remaining_time": 3.481369248,
                        "test": [
                          0.8087810787,
                          0.3925131102
                        ]
                      },
                      {
                        "learn": [
                          0.8407457677,
                          0.3483323749
                        ],
                        "iteration": 799,
                        "passed_time": 13.85253391,
                        "remaining_time": 3.463133477,
                        "test": [
                          0.8087810787,
                          0.3925564054
                        ]
                      },
                      {
                        "learn": [
                          0.8407457677,
                          0.3483265977
                        ],
                        "iteration": 800,
                        "passed_time": 13.86720891,
                        "remaining_time": 3.445161765,
                        "test": [
                          0.8087810787,
                          0.3926048496
                        ]
                      },
                      {
                        "learn": [
                          0.8407457677,
                          0.3483221316
                        ],
                        "iteration": 801,
                        "passed_time": 13.88266557,
                        "remaining_time": 3.427391251,
                        "test": [
                          0.8087810787,
                          0.3926431041
                        ]
                      },
                      {
                        "learn": [
                          0.8407457677,
                          0.3483159678
                        ],
                        "iteration": 802,
                        "passed_time": 13.89639795,
                        "remaining_time": 3.409203482,
                        "test": [
                          0.8087810787,
                          0.3926587129
                        ]
                      },
                      {
                        "learn": [
                          0.8407457677,
                          0.3483082221
                        ],
                        "iteration": 803,
                        "passed_time": 13.91107251,
                        "remaining_time": 3.391256484,
                        "test": [
                          0.8087810787,
                          0.3926860788
                        ]
                      },
                      {
                        "learn": [
                          0.8407457677,
                          0.3482974007
                        ],
                        "iteration": 804,
                        "passed_time": 13.92622805,
                        "remaining_time": 3.373434124,
                        "test": [
                          0.8087810787,
                          0.3927199633
                        ]
                      },
                      {
                        "learn": [
                          0.8407457677,
                          0.3482918411
                        ],
                        "iteration": 805,
                        "passed_time": 13.9404461,
                        "remaining_time": 3.355392733,
                        "test": [
                          0.8087810787,
                          0.3927450276
                        ]
                      },
                      {
                        "learn": [
                          0.8407457677,
                          0.348282241
                        ],
                        "iteration": 806,
                        "passed_time": 13.95455672,
                        "remaining_time": 3.337335126,
                        "test": [
                          0.8087810787,
                          0.3927868008
                        ]
                      },
                      {
                        "learn": [
                          0.8407457677,
                          0.3482761739
                        ],
                        "iteration": 807,
                        "passed_time": 13.96904623,
                        "remaining_time": 3.319377322,
                        "test": [
                          0.8087810787,
                          0.392823757
                        ]
                      },
                      {
                        "learn": [
                          0.8408595938,
                          0.3482694064
                        ],
                        "iteration": 808,
                        "passed_time": 13.98300991,
                        "remaining_time": 3.301303946,
                        "test": [
                          0.8080465476,
                          0.3928546259
                        ]
                      },
                      {
                        "learn": [
                          0.8408595938,
                          0.3482633884
                        ],
                        "iteration": 809,
                        "passed_time": 13.99754655,
                        "remaining_time": 3.283375116,
                        "test": [
                          0.8080465476,
                          0.3928780406
                        ]
                      },
                      {
                        "learn": [
                          0.8408595938,
                          0.3482595825
                        ],
                        "iteration": 810,
                        "passed_time": 14.01172229,
                        "remaining_time": 3.265370546,
                        "test": [
                          0.8080465476,
                          0.3928852505
                        ]
                      },
                      {
                        "learn": [
                          0.8408595938,
                          0.348251616
                        ],
                        "iteration": 811,
                        "passed_time": 14.02640034,
                        "remaining_time": 3.247491703,
                        "test": [
                          0.8080465476,
                          0.3929213423
                        ]
                      },
                      {
                        "learn": [
                          0.8408595938,
                          0.3482481653
                        ],
                        "iteration": 812,
                        "passed_time": 14.04088264,
                        "remaining_time": 3.229575711,
                        "test": [
                          0.8080465476,
                          0.3929421502
                        ]
                      },
                      {
                        "learn": [
                          0.8407837097,
                          0.3482304205
                        ],
                        "iteration": 813,
                        "passed_time": 14.05491591,
                        "remaining_time": 3.211565551,
                        "test": [
                          0.8080465476,
                          0.3929320792
                        ]
                      },
                      {
                        "learn": [
                          0.8407837097,
                          0.3482142591
                        ],
                        "iteration": 814,
                        "passed_time": 14.07316453,
                        "remaining_time": 3.19452201,
                        "test": [
                          0.8080465476,
                          0.3929757566
                        ]
                      },
                      {
                        "learn": [
                          0.8407837097,
                          0.3482020806
                        ],
                        "iteration": 815,
                        "passed_time": 14.08794874,
                        "remaining_time": 3.176694324,
                        "test": [
                          0.8080465476,
                          0.3930229512
                        ]
                      },
                      {
                        "learn": [
                          0.8407837097,
                          0.3481972671
                        ],
                        "iteration": 816,
                        "passed_time": 14.10279353,
                        "remaining_time": 3.158887658,
                        "test": [
                          0.8080465476,
                          0.3930660953
                        ]
                      },
                      {
                        "learn": [
                          0.8407837097,
                          0.348185957
                        ],
                        "iteration": 817,
                        "passed_time": 14.15385723,
                        "remaining_time": 3.14914672,
                        "test": [
                          0.8080465476,
                          0.3931362127
                        ]
                      },
                      {
                        "learn": [
                          0.8407837097,
                          0.3481702806
                        ],
                        "iteration": 818,
                        "passed_time": 14.1772354,
                        "remaining_time": 3.133186335,
                        "test": [
                          0.8080465476,
                          0.3931502841
                        ]
                      },
                      {
                        "learn": [
                          0.8408595938,
                          0.3481600741
                        ],
                        "iteration": 819,
                        "passed_time": 14.19182796,
                        "remaining_time": 3.115279309,
                        "test": [
                          0.8080465476,
                          0.3931965216
                        ]
                      },
                      {
                        "learn": [
                          0.8408595938,
                          0.3481451221
                        ],
                        "iteration": 820,
                        "passed_time": 14.20652033,
                        "remaining_time": 3.097402118,
                        "test": [
                          0.8080465476,
                          0.3931993223
                        ]
                      },
                      {
                        "learn": [
                          0.8408595938,
                          0.3481313305
                        ],
                        "iteration": 821,
                        "passed_time": 14.22700622,
                        "remaining_time": 3.080787235,
                        "test": [
                          0.8080465476,
                          0.3932105461
                        ]
                      },
                      {
                        "learn": [
                          0.8409354778,
                          0.3481229257
                        ],
                        "iteration": 822,
                        "passed_time": 14.25332647,
                        "remaining_time": 3.065417723,
                        "test": [
                          0.8080465476,
                          0.3932224444
                        ]
                      },
                      {
                        "learn": [
                          0.8408595938,
                          0.3481074694
                        ],
                        "iteration": 823,
                        "passed_time": 14.2676893,
                        "remaining_time": 3.047467618,
                        "test": [
                          0.8080465476,
                          0.3932431068
                        ]
                      },
                      {
                        "learn": [
                          0.8408595938,
                          0.348094638
                        ],
                        "iteration": 824,
                        "passed_time": 14.28335101,
                        "remaining_time": 3.029801729,
                        "test": [
                          0.8080465476,
                          0.3932657524
                        ]
                      },
                      {
                        "learn": [
                          0.8409354778,
                          0.3480867884
                        ],
                        "iteration": 825,
                        "passed_time": 14.29773322,
                        "remaining_time": 3.011871162,
                        "test": [
                          0.8080465476,
                          0.3933057703
                        ]
                      },
                      {
                        "learn": [
                          0.8409354778,
                          0.348077751
                        ],
                        "iteration": 826,
                        "passed_time": 14.31172018,
                        "remaining_time": 2.993866495,
                        "test": [
                          0.8080465476,
                          0.3933598872
                        ]
                      },
                      {
                        "learn": [
                          0.8410113619,
                          0.3480696606
                        ],
                        "iteration": 827,
                        "passed_time": 14.32608149,
                        "remaining_time": 2.975949295,
                        "test": [
                          0.8080465476,
                          0.3933893145
                        ]
                      },
                      {
                        "learn": [
                          0.8409354778,
                          0.3480653284
                        ],
                        "iteration": 828,
                        "passed_time": 14.34009161,
                        "remaining_time": 2.957968232,
                        "test": [
                          0.8080465476,
                          0.3934125773
                        ]
                      },
                      {
                        "learn": [
                          0.8409354778,
                          0.3480608718
                        ],
                        "iteration": 829,
                        "passed_time": 14.35375923,
                        "remaining_time": 2.939926589,
                        "test": [
                          0.8080465476,
                          0.3934438542
                        ]
                      },
                      {
                        "learn": [
                          0.8409354778,
                          0.348054235
                        ],
                        "iteration": 830,
                        "passed_time": 14.36871315,
                        "remaining_time": 2.922157066,
                        "test": [
                          0.8080465476,
                          0.3934877438
                        ]
                      },
                      {
                        "learn": [
                          0.8409734199,
                          0.3480383058
                        ],
                        "iteration": 831,
                        "passed_time": 14.38336169,
                        "remaining_time": 2.904332649,
                        "test": [
                          0.8081976565,
                          0.3935088871
                        ]
                      },
                      {
                        "learn": [
                          0.8409734199,
                          0.3480305828
                        ],
                        "iteration": 832,
                        "passed_time": 14.39784738,
                        "remaining_time": 2.886483209,
                        "test": [
                          0.8081976565,
                          0.3935171831
                        ]
                      },
                      {
                        "learn": [
                          0.8409734199,
                          0.3480212578
                        ],
                        "iteration": 833,
                        "passed_time": 14.41178646,
                        "remaining_time": 2.868533036,
                        "test": [
                          0.8081976565,
                          0.3935303584
                        ]
                      },
                      {
                        "learn": [
                          0.8409734199,
                          0.3480132961
                        ],
                        "iteration": 834,
                        "passed_time": 14.42624093,
                        "remaining_time": 2.850694316,
                        "test": [
                          0.8081976565,
                          0.393572615
                        ]
                      },
                      {
                        "learn": [
                          0.8409734199,
                          0.3480055673
                        ],
                        "iteration": 835,
                        "passed_time": 14.44063995,
                        "remaining_time": 2.832852813,
                        "test": [
                          0.8081976565,
                          0.3935974344
                        ]
                      },
                      {
                        "learn": [
                          0.8409734199,
                          0.3479950243
                        ],
                        "iteration": 836,
                        "passed_time": 14.46000361,
                        "remaining_time": 2.815986367,
                        "test": [
                          0.8081976565,
                          0.3936007778
                        ]
                      },
                      {
                        "learn": [
                          0.8409734199,
                          0.3479793741
                        ],
                        "iteration": 837,
                        "passed_time": 14.4742983,
                        "remaining_time": 2.79813404,
                        "test": [
                          0.8081976565,
                          0.3936814224
                        ]
                      },
                      {
                        "learn": [
                          0.8410113619,
                          0.34796481
                        ],
                        "iteration": 838,
                        "passed_time": 14.48857398,
                        "remaining_time": 2.780286545,
                        "test": [
                          0.8074631254,
                          0.3937330457
                        ]
                      },
                      {
                        "learn": [
                          0.841125188,
                          0.3479566631
                        ],
                        "iteration": 839,
                        "passed_time": 14.50323586,
                        "remaining_time": 2.762521117,
                        "test": [
                          0.8067285943,
                          0.3937683157
                        ]
                      },
                      {
                        "learn": [
                          0.8410493039,
                          0.3479535833
                        ],
                        "iteration": 840,
                        "passed_time": 14.5176137,
                        "remaining_time": 2.744709368,
                        "test": [
                          0.8067285943,
                          0.3937753334
                        ]
                      },
                      {
                        "learn": [
                          0.841125188,
                          0.347944103
                        ],
                        "iteration": 841,
                        "passed_time": 14.53209961,
                        "remaining_time": 2.726926055,
                        "test": [
                          0.8067285943,
                          0.3937941409
                        ]
                      },
                      {
                        "learn": [
                          0.841239014,
                          0.3479345238
                        ],
                        "iteration": 842,
                        "passed_time": 14.54637581,
                        "remaining_time": 2.70911151,
                        "test": [
                          0.8059940632,
                          0.3938430132
                        ]
                      },
                      {
                        "learn": [
                          0.841125188,
                          0.3479280225
                        ],
                        "iteration": 843,
                        "passed_time": 14.56036316,
                        "remaining_time": 2.691251958,
                        "test": [
                          0.8067285943,
                          0.3938796364
                        ]
                      },
                      {
                        "learn": [
                          0.8412769561,
                          0.3479169753
                        ],
                        "iteration": 844,
                        "passed_time": 14.57461513,
                        "remaining_time": 2.673450113,
                        "test": [
                          0.8067285943,
                          0.39393023
                        ]
                      },
                      {
                        "learn": [
                          0.841201072,
                          0.3479116602
                        ],
                        "iteration": 845,
                        "passed_time": 14.58863414,
                        "remaining_time": 2.655614252,
                        "test": [
                          0.8067285943,
                          0.3939476809
                        ]
                      },
                      {
                        "learn": [
                          0.8412769561,
                          0.3478979193
                        ],
                        "iteration": 846,
                        "passed_time": 14.60311035,
                        "remaining_time": 2.637869993,
                        "test": [
                          0.8067285943,
                          0.3940325389
                        ]
                      },
                      {
                        "learn": [
                          0.8412769561,
                          0.347891707
                        ],
                        "iteration": 847,
                        "passed_time": 14.61734108,
                        "remaining_time": 2.620089438,
                        "test": [
                          0.8067285943,
                          0.3940367175
                        ]
                      },
                      {
                        "learn": [
                          0.8412769561,
                          0.3478824755
                        ],
                        "iteration": 848,
                        "passed_time": 14.63189421,
                        "remaining_time": 2.602374588,
                        "test": [
                          0.8067285943,
                          0.3940788516
                        ]
                      },
                      {
                        "learn": [
                          0.8412769561,
                          0.3478725729
                        ],
                        "iteration": 849,
                        "passed_time": 14.64598496,
                        "remaining_time": 2.584585581,
                        "test": [
                          0.8067285943,
                          0.3941093845
                        ]
                      },
                      {
                        "learn": [
                          0.8412769561,
                          0.3478582002
                        ],
                        "iteration": 850,
                        "passed_time": 14.66010805,
                        "remaining_time": 2.566810928,
                        "test": [
                          0.8067285943,
                          0.394132788
                        ]
                      },
                      {
                        "learn": [
                          0.8412769561,
                          0.3478533056
                        ],
                        "iteration": 851,
                        "passed_time": 14.67476648,
                        "remaining_time": 2.549137839,
                        "test": [
                          0.8067285943,
                          0.3941568988
                        ]
                      },
                      {
                        "learn": [
                          0.8412769561,
                          0.3478504394
                        ],
                        "iteration": 852,
                        "passed_time": 14.68903471,
                        "remaining_time": 2.531404575,
                        "test": [
                          0.8067285943,
                          0.3941762385
                        ]
                      },
                      {
                        "learn": [
                          0.8412769561,
                          0.3478422072
                        ],
                        "iteration": 853,
                        "passed_time": 14.70340308,
                        "remaining_time": 2.513696545,
                        "test": [
                          0.8067285943,
                          0.3941867295
                        ]
                      },
                      {
                        "learn": [
                          0.8412769561,
                          0.3478296663
                        ],
                        "iteration": 854,
                        "passed_time": 14.71757754,
                        "remaining_time": 2.495963442,
                        "test": [
                          0.8067285943,
                          0.394209954
                        ]
                      },
                      {
                        "learn": [
                          0.8412769561,
                          0.3478247224
                        ],
                        "iteration": 855,
                        "passed_time": 14.73138541,
                        "remaining_time": 2.478176985,
                        "test": [
                          0.8067285943,
                          0.3942304123
                        ]
                      },
                      {
                        "learn": [
                          0.8412769561,
                          0.3478185891
                        ],
                        "iteration": 856,
                        "passed_time": 14.74566901,
                        "remaining_time": 2.460479194,
                        "test": [
                          0.8067285943,
                          0.394249787
                        ]
                      },
                      {
                        "learn": [
                          0.8412769561,
                          0.3478095782
                        ],
                        "iteration": 857,
                        "passed_time": 14.75992583,
                        "remaining_time": 2.442784928,
                        "test": [
                          0.8067285943,
                          0.3943028471
                        ]
                      },
                      {
                        "learn": [
                          0.8413907821,
                          0.3477992045
                        ],
                        "iteration": 858,
                        "passed_time": 14.77415356,
                        "remaining_time": 2.42509389,
                        "test": [
                          0.8059940632,
                          0.3943323787
                        ]
                      },
                      {
                        "learn": [
                          0.8413907821,
                          0.3477882895
                        ],
                        "iteration": 859,
                        "passed_time": 14.78913489,
                        "remaining_time": 2.407533587,
                        "test": [
                          0.8059940632,
                          0.3943270133
                        ]
                      },
                      {
                        "learn": [
                          0.8413907821,
                          0.3477815864
                        ],
                        "iteration": 860,
                        "passed_time": 14.80305479,
                        "remaining_time": 2.389807916,
                        "test": [
                          0.8059940632,
                          0.394350013
                        ]
                      },
                      {
                        "learn": [
                          0.8413907821,
                          0.3477725702
                        ],
                        "iteration": 861,
                        "passed_time": 14.81816176,
                        "remaining_time": 2.372281117,
                        "test": [
                          0.8059940632,
                          0.3943756385
                        ]
                      },
                      {
                        "learn": [
                          0.8413907821,
                          0.347761781
                        ],
                        "iteration": 862,
                        "passed_time": 14.83517913,
                        "remaining_time": 2.355063199,
                        "test": [
                          0.8059940632,
                          0.39436443
                        ]
                      },
                      {
                        "learn": [
                          0.8413907821,
                          0.3477539424
                        ],
                        "iteration": 863,
                        "passed_time": 14.84952861,
                        "remaining_time": 2.3374258,
                        "test": [
                          0.8059940632,
                          0.3943926825
                        ]
                      },
                      {
                        "learn": [
                          0.8413907821,
                          0.3477434813
                        ],
                        "iteration": 864,
                        "passed_time": 14.86327463,
                        "remaining_time": 2.31970182,
                        "test": [
                          0.8059940632,
                          0.394402853
                        ]
                      },
                      {
                        "learn": [
                          0.8413907821,
                          0.3477360162
                        ],
                        "iteration": 865,
                        "passed_time": 14.87760985,
                        "remaining_time": 2.302078199,
                        "test": [
                          0.8059940632,
                          0.3944326302
                        ]
                      },
                      {
                        "learn": [
                          0.8414666662,
                          0.3477315424
                        ],
                        "iteration": 866,
                        "passed_time": 14.89178596,
                        "remaining_time": 2.284437754,
                        "test": [
                          0.8059940632,
                          0.3944480448
                        ]
                      },
                      {
                        "learn": [
                          0.8414666662,
                          0.3477185808
                        ],
                        "iteration": 867,
                        "passed_time": 14.90638485,
                        "remaining_time": 2.266869586,
                        "test": [
                          0.8059940632,
                          0.3944918614
                        ]
                      },
                      {
                        "learn": [
                          0.8416563763,
                          0.3477061262
                        ],
                        "iteration": 868,
                        "passed_time": 14.92075368,
                        "remaining_time": 2.249273569,
                        "test": [
                          0.80467611,
                          0.3945265999
                        ]
                      },
                      {
                        "learn": [
                          0.8416563763,
                          0.3476974775
                        ],
                        "iteration": 869,
                        "passed_time": 14.93504944,
                        "remaining_time": 2.231674055,
                        "test": [
                          0.80467611,
                          0.3945425422
                        ]
                      },
                      {
                        "learn": [
                          0.8415425502,
                          0.3476911189
                        ],
                        "iteration": 870,
                        "passed_time": 14.95051369,
                        "remaining_time": 2.214255185,
                        "test": [
                          0.8054106411,
                          0.3945567342
                        ]
                      },
                      {
                        "learn": [
                          0.8415425502,
                          0.3476701806
                        ],
                        "iteration": 871,
                        "passed_time": 14.96676323,
                        "remaining_time": 2.19695607,
                        "test": [
                          0.8054106411,
                          0.3946047304
                        ]
                      },
                      {
                        "learn": [
                          0.8415425502,
                          0.347658006
                        ],
                        "iteration": 872,
                        "passed_time": 14.98147664,
                        "remaining_time": 2.179435891,
                        "test": [
                          0.8054106411,
                          0.3946300652
                        ]
                      },
                      {
                        "learn": [
                          0.8415425502,
                          0.3476490645
                        ],
                        "iteration": 873,
                        "passed_time": 14.99608552,
                        "remaining_time": 2.161907066,
                        "test": [
                          0.8054106411,
                          0.3946851327
                        ]
                      },
                      {
                        "learn": [
                          0.8415425502,
                          0.3476422766
                        ],
                        "iteration": 874,
                        "passed_time": 15.01001614,
                        "remaining_time": 2.14428802,
                        "test": [
                          0.8054106411,
                          0.3947271822
                        ]
                      },
                      {
                        "learn": [
                          0.8415425502,
                          0.3476339021
                        ],
                        "iteration": 875,
                        "passed_time": 15.02411538,
                        "remaining_time": 2.126701264,
                        "test": [
                          0.8054106411,
                          0.3947769093
                        ]
                      },
                      {
                        "learn": [
                          0.8415425502,
                          0.3476260578
                        ],
                        "iteration": 876,
                        "passed_time": 15.03862444,
                        "remaining_time": 2.109179938,
                        "test": [
                          0.8054106411,
                          0.3948073153
                        ]
                      },
                      {
                        "learn": [
                          0.8415425502,
                          0.3476210034
                        ],
                        "iteration": 877,
                        "passed_time": 15.05259786,
                        "remaining_time": 2.091591046,
                        "test": [
                          0.8054106411,
                          0.3948286407
                        ]
                      },
                      {
                        "learn": [
                          0.8415425502,
                          0.347614699
                        ],
                        "iteration": 878,
                        "passed_time": 15.06815852,
                        "remaining_time": 2.074228874,
                        "test": [
                          0.8048272189,
                          0.3948526183
                        ]
                      },
                      {
                        "learn": [
                          0.8415425502,
                          0.3476082265
                        ],
                        "iteration": 879,
                        "passed_time": 15.0916143,
                        "remaining_time": 2.057947405,
                        "test": [
                          0.8048272189,
                          0.3948847914
                        ]
                      },
                      {
                        "learn": [
                          0.8416563763,
                          0.3476030654
                        ],
                        "iteration": 880,
                        "passed_time": 15.1060424,
                        "remaining_time": 2.040430244,
                        "test": [
                          0.8040926879,
                          0.3949115216
                        ]
                      },
                      {
                        "learn": [
                          0.8416563763,
                          0.3475845392
                        ],
                        "iteration": 881,
                        "passed_time": 15.12097479,
                        "remaining_time": 2.022987557,
                        "test": [
                          0.8040926879,
                          0.3949585329
                        ]
                      },
                      {
                        "learn": [
                          0.8416563763,
                          0.347577062
                        ],
                        "iteration": 882,
                        "passed_time": 15.17727834,
                        "remaining_time": 2.011032351,
                        "test": [
                          0.8040926879,
                          0.3949709441
                        ]
                      },
                      {
                        "learn": [
                          0.8415804922,
                          0.3475650378
                        ],
                        "iteration": 883,
                        "passed_time": 15.21492721,
                        "remaining_time": 1.99652891,
                        "test": [
                          0.8040926879,
                          0.3950413758
                        ]
                      },
                      {
                        "learn": [
                          0.8416943183,
                          0.3475584042
                        ],
                        "iteration": 884,
                        "passed_time": 15.23559522,
                        "remaining_time": 1.979766611,
                        "test": [
                          0.8033581568,
                          0.395051591
                        ]
                      },
                      {
                        "learn": [
                          0.8416943183,
                          0.347553057
                        ],
                        "iteration": 885,
                        "passed_time": 15.26317837,
                        "remaining_time": 1.963885254,
                        "test": [
                          0.8033581568,
                          0.3950801647
                        ]
                      },
                      {
                        "learn": [
                          0.8415804922,
                          0.347534394
                        ],
                        "iteration": 886,
                        "passed_time": 15.29430862,
                        "remaining_time": 1.948429396,
                        "test": [
                          0.8040926879,
                          0.3951368351
                        ]
                      },
                      {
                        "learn": [
                          0.8415804922,
                          0.3475176998
                        ],
                        "iteration": 887,
                        "passed_time": 15.31899695,
                        "remaining_time": 1.932125741,
                        "test": [
                          0.8040926879,
                          0.3951430828
                        ]
                      },
                      {
                        "learn": [
                          0.8415478265,
                          0.3474756972
                        ],
                        "iteration": 888,
                        "passed_time": 15.33643028,
                        "remaining_time": 1.914897369,
                        "test": [
                          0.8042437968,
                          0.3951287206
                        ]
                      },
                      {
                        "learn": [
                          0.8415804922,
                          0.3474677135
                        ],
                        "iteration": 889,
                        "passed_time": 15.35396358,
                        "remaining_time": 1.897680891,
                        "test": [
                          0.8040926879,
                          0.3951470973
                        ]
                      },
                      {
                        "learn": [
                          0.8415478265,
                          0.3474627601
                        ],
                        "iteration": 890,
                        "passed_time": 15.38646704,
                        "remaining_time": 1.88229507,
                        "test": [
                          0.8042437968,
                          0.3951853461
                        ]
                      },
                      {
                        "learn": [
                          0.8415478265,
                          0.3474555593
                        ],
                        "iteration": 891,
                        "passed_time": 15.41501107,
                        "remaining_time": 1.866391475,
                        "test": [
                          0.8042437968,
                          0.3952114834
                        ]
                      },
                      {
                        "learn": [
                          0.8416616526,
                          0.3474431306
                        ],
                        "iteration": 892,
                        "passed_time": 15.44904821,
                        "remaining_time": 1.851117759,
                        "test": [
                          0.8035092657,
                          0.3952648166
                        ]
                      },
                      {
                        "learn": [
                          0.8416616526,
                          0.3474361566
                        ],
                        "iteration": 893,
                        "passed_time": 15.47250701,
                        "remaining_time": 1.834547811,
                        "test": [
                          0.8035092657,
                          0.3952802803
                        ]
                      },
                      {
                        "learn": [
                          0.8416995946,
                          0.3474248343
                        ],
                        "iteration": 894,
                        "passed_time": 15.50541789,
                        "remaining_time": 1.819071373,
                        "test": [
                          0.8027747346,
                          0.3952765449
                        ]
                      },
                      {
                        "learn": [
                          0.8416995946,
                          0.3474076234
                        ],
                        "iteration": 895,
                        "passed_time": 15.53769196,
                        "remaining_time": 1.803482102,
                        "test": [
                          0.8027747346,
                          0.395340351
                        ]
                      },
                      {
                        "learn": [
                          0.8416995946,
                          0.3473921746
                        ],
                        "iteration": 896,
                        "passed_time": 15.56872551,
                        "remaining_time": 1.787713186,
                        "test": [
                          0.8027747346,
                          0.3953461961
                        ]
                      },
                      {
                        "learn": [
                          0.8416995946,
                          0.3473888408
                        ],
                        "iteration": 897,
                        "passed_time": 15.60436548,
                        "remaining_time": 1.772433495,
                        "test": [
                          0.8027747346,
                          0.3953640131
                        ]
                      },
                      {
                        "learn": [
                          0.8416616526,
                          0.3473835022
                        ],
                        "iteration": 898,
                        "passed_time": 15.62821754,
                        "remaining_time": 1.755784173,
                        "test": [
                          0.8035092657,
                          0.3953865899
                        ]
                      },
                      {
                        "learn": [
                          0.8416616526,
                          0.3473705354
                        ],
                        "iteration": 899,
                        "passed_time": 15.66114151,
                        "remaining_time": 1.740126834,
                        "test": [
                          0.8035092657,
                          0.3954094922
                        ]
                      },
                      {
                        "learn": [
                          0.8416616526,
                          0.3473581576
                        ],
                        "iteration": 900,
                        "passed_time": 15.69187908,
                        "remaining_time": 1.724190932,
                        "test": [
                          0.8035092657,
                          0.3954430985
                        ]
                      },
                      {
                        "learn": [
                          0.8416616526,
                          0.3473495445
                        ],
                        "iteration": 901,
                        "passed_time": 15.72530731,
                        "remaining_time": 1.708514541,
                        "test": [
                          0.8035092657,
                          0.395474389
                        ]
                      },
                      {
                        "learn": [
                          0.8416616526,
                          0.3473452032
                        ],
                        "iteration": 902,
                        "passed_time": 15.7570017,
                        "remaining_time": 1.692612586,
                        "test": [
                          0.8035092657,
                          0.3955112112
                        ]
                      },
                      {
                        "learn": [
                          0.8416616526,
                          0.3473349441
                        ],
                        "iteration": 903,
                        "passed_time": 15.78659158,
                        "remaining_time": 1.676452203,
                        "test": [
                          0.8035092657,
                          0.3955649627
                        ]
                      },
                      {
                        "learn": [
                          0.8416616526,
                          0.3473283454
                        ],
                        "iteration": 904,
                        "passed_time": 15.81891868,
                        "remaining_time": 1.660549475,
                        "test": [
                          0.8035092657,
                          0.3955986861
                        ]
                      },
                      {
                        "learn": [
                          0.8416995946,
                          0.3473254532
                        ],
                        "iteration": 905,
                        "passed_time": 15.85038943,
                        "remaining_time": 1.644521641,
                        "test": [
                          0.8027747346,
                          0.3956032793
                        ]
                      },
                      {
                        "learn": [
                          0.8416995946,
                          0.3473179648
                        ],
                        "iteration": 906,
                        "passed_time": 15.88212878,
                        "remaining_time": 1.628487295,
                        "test": [
                          0.8027747346,
                          0.3956399559
                        ]
                      },
                      {
                        "learn": [
                          0.8416995946,
                          0.3473044977
                        ],
                        "iteration": 907,
                        "passed_time": 15.91483627,
                        "remaining_time": 1.61251645,
                        "test": [
                          0.8027747346,
                          0.3956678643
                        ]
                      },
                      {
                        "learn": [
                          0.8416995946,
                          0.3472645391
                        ],
                        "iteration": 908,
                        "passed_time": 15.94518931,
                        "remaining_time": 1.596273077,
                        "test": [
                          0.8027747346,
                          0.3956837085
                        ]
                      },
                      {
                        "learn": [
                          0.8416995946,
                          0.347257506
                        ],
                        "iteration": 909,
                        "passed_time": 15.97965246,
                        "remaining_time": 1.580405188,
                        "test": [
                          0.8027747346,
                          0.395723428
                        ]
                      },
                      {
                        "learn": [
                          0.8416995946,
                          0.3472503131
                        ],
                        "iteration": 910,
                        "passed_time": 16.01002946,
                        "remaining_time": 1.56409728,
                        "test": [
                          0.8027747346,
                          0.3957785695
                        ]
                      },
                      {
                        "learn": [
                          0.8416995946,
                          0.3472426412
                        ],
                        "iteration": 911,
                        "passed_time": 16.04057202,
                        "remaining_time": 1.547774493,
                        "test": [
                          0.8027747346,
                          0.395828556
                        ]
                      },
                      {
                        "learn": [
                          0.8416995946,
                          0.3472231878
                        ],
                        "iteration": 912,
                        "passed_time": 16.07460752,
                        "remaining_time": 1.5317534,
                        "test": [
                          0.8027747346,
                          0.3958728607
                        ]
                      },
                      {
                        "learn": [
                          0.8416995946,
                          0.3472073255
                        ],
                        "iteration": 913,
                        "passed_time": 16.1065907,
                        "remaining_time": 1.515499781,
                        "test": [
                          0.8027747346,
                          0.3958960047
                        ]
                      },
                      {
                        "learn": [
                          0.8416995946,
                          0.3472004174
                        ],
                        "iteration": 914,
                        "passed_time": 16.13552515,
                        "remaining_time": 1.498928566,
                        "test": [
                          0.8027747346,
                          0.3959084622
                        ]
                      },
                      {
                        "learn": [
                          0.8416995946,
                          0.347190225
                        ],
                        "iteration": 915,
                        "passed_time": 16.17439506,
                        "remaining_time": 1.483241468,
                        "test": [
                          0.8027747346,
                          0.3959372915
                        ]
                      },
                      {
                        "learn": [
                          0.8416995946,
                          0.3471828539
                        ],
                        "iteration": 916,
                        "passed_time": 16.34109903,
                        "remaining_time": 1.479074394,
                        "test": [
                          0.8027747346,
                          0.3959567858
                        ]
                      },
                      {
                        "learn": [
                          0.8416995946,
                          0.3471699832
                        ],
                        "iteration": 917,
                        "passed_time": 16.39522576,
                        "remaining_time": 1.46449729,
                        "test": [
                          0.8027747346,
                          0.3960075333
                        ]
                      },
                      {
                        "learn": [
                          0.8416995946,
                          0.3471651608
                        ],
                        "iteration": 918,
                        "passed_time": 16.43276686,
                        "remaining_time": 1.448372269,
                        "test": [
                          0.8027747346,
                          0.396037918
                        ]
                      },
                      {
                        "learn": [
                          0.8416995946,
                          0.3471627793
                        ],
                        "iteration": 919,
                        "passed_time": 16.47018185,
                        "remaining_time": 1.432189726,
                        "test": [
                          0.8027747346,
                          0.3960473295
                        ]
                      },
                      {
                        "learn": [
                          0.8417754787,
                          0.347149833
                        ],
                        "iteration": 920,
                        "passed_time": 16.49833537,
                        "remaining_time": 1.415166661,
                        "test": [
                          0.8027747346,
                          0.3960962054
                        ]
                      },
                      {
                        "learn": [
                          0.8417754787,
                          0.347141531
                        ],
                        "iteration": 921,
                        "passed_time": 16.53143974,
                        "remaining_time": 1.398538286,
                        "test": [
                          0.8027747346,
                          0.3961489562
                        ]
                      },
                      {
                        "learn": [
                          0.8417754787,
                          0.3471333415
                        ],
                        "iteration": 922,
                        "passed_time": 16.56587039,
                        "remaining_time": 1.381984854,
                        "test": [
                          0.8027747346,
                          0.3961628252
                        ]
                      },
                      {
                        "learn": [
                          0.8417754787,
                          0.3471179886
                        ],
                        "iteration": 923,
                        "passed_time": 16.59900022,
                        "remaining_time": 1.365285732,
                        "test": [
                          0.8027747346,
                          0.3962294688
                        ]
                      },
                      {
                        "learn": [
                          0.8417754787,
                          0.3471121197
                        ],
                        "iteration": 924,
                        "passed_time": 16.63162439,
                        "remaining_time": 1.348510086,
                        "test": [
                          0.8027747346,
                          0.3962737418
                        ]
                      },
                      {
                        "learn": [
                          0.8417754787,
                          0.3471065056
                        ],
                        "iteration": 925,
                        "passed_time": 16.67627831,
                        "remaining_time": 1.33266155,
                        "test": [
                          0.8027747346,
                          0.3962818018
                        ]
                      },
                      {
                        "learn": [
                          0.841704871,
                          0.3471023866
                        ],
                        "iteration": 926,
                        "passed_time": 16.71542705,
                        "remaining_time": 1.316317341,
                        "test": [
                          0.8027747346,
                          0.3963091717
                        ]
                      },
                      {
                        "learn": [
                          0.8418893047,
                          0.347083573
                        ],
                        "iteration": 927,
                        "passed_time": 16.75303275,
                        "remaining_time": 1.299804265,
                        "test": [
                          0.8026236257,
                          0.3963622728
                        ]
                      },
                      {
                        "learn": [
                          0.8418893047,
                          0.3470796171
                        ],
                        "iteration": 928,
                        "passed_time": 16.78983653,
                        "remaining_time": 1.283184492,
                        "test": [
                          0.8026236257,
                          0.3963871006
                        ]
                      },
                      {
                        "learn": [
                          0.8420737385,
                          0.3470664325
                        ],
                        "iteration": 929,
                        "passed_time": 16.8362734,
                        "remaining_time": 1.267246385,
                        "test": [
                          0.8018890946,
                          0.3964148969
                        ]
                      },
                      {
                        "learn": [
                          0.8420737385,
                          0.3470620366
                        ],
                        "iteration": 930,
                        "passed_time": 16.87461505,
                        "remaining_time": 1.250642791,
                        "test": [
                          0.8018890946,
                          0.3964383994
                        ]
                      },
                      {
                        "learn": [
                          0.8420737385,
                          0.347050963
                        ],
                        "iteration": 931,
                        "passed_time": 16.90967229,
                        "remaining_time": 1.233752914,
                        "test": [
                          0.8018890946,
                          0.3964601446
                        ]
                      },
                      {
                        "learn": [
                          0.8420737385,
                          0.3470434238
                        ],
                        "iteration": 932,
                        "passed_time": 16.94175468,
                        "remaining_time": 1.216610464,
                        "test": [
                          0.8018890946,
                          0.3964880927
                        ]
                      },
                      {
                        "learn": [
                          0.8420737385,
                          0.3470368411
                        ],
                        "iteration": 933,
                        "passed_time": 16.98032421,
                        "remaining_time": 1.19989443,
                        "test": [
                          0.8018890946,
                          0.3964994867
                        ]
                      },
                      {
                        "learn": [
                          0.8421116806,
                          0.3470276401
                        ],
                        "iteration": 934,
                        "passed_time": 17.01522445,
                        "remaining_time": 1.182876566,
                        "test": [
                          0.8011545635,
                          0.3965380303
                        ]
                      },
                      {
                        "learn": [
                          0.8421116806,
                          0.347020604
                        ],
                        "iteration": 935,
                        "passed_time": 17.04638489,
                        "remaining_time": 1.165564779,
                        "test": [
                          0.8011545635,
                          0.3965583342
                        ]
                      },
                      {
                        "learn": [
                          0.8421116806,
                          0.3470151885
                        ],
                        "iteration": 936,
                        "passed_time": 17.09516748,
                        "remaining_time": 1.149408273,
                        "test": [
                          0.8011545635,
                          0.3965656471
                        ]
                      },
                      {
                        "learn": [
                          0.8420410728,
                          0.3470063104
                        ],
                        "iteration": 937,
                        "passed_time": 17.15451224,
                        "remaining_time": 1.13388034,
                        "test": [
                          0.8011545635,
                          0.3966055724
                        ]
                      },
                      {
                        "learn": [
                          0.8420410728,
                          0.3470016619
                        ],
                        "iteration": 938,
                        "passed_time": 17.19666677,
                        "remaining_time": 1.117142357,
                        "test": [
                          0.8011545635,
                          0.3966270232
                        ]
                      },
                      {
                        "learn": [
                          0.8419651888,
                          0.346987066
                        ],
                        "iteration": 939,
                        "passed_time": 17.25043022,
                        "remaining_time": 1.101091291,
                        "test": [
                          0.8011545635,
                          0.3966556165
                        ]
                      },
                      {
                        "learn": [
                          0.8419651888,
                          0.3469809612
                        ],
                        "iteration": 940,
                        "passed_time": 17.2947712,
                        "remaining_time": 1.084369289,
                        "test": [
                          0.8011545635,
                          0.3966749706
                        ]
                      },
                      {
                        "learn": [
                          0.8419651888,
                          0.3469709913
                        ],
                        "iteration": 941,
                        "passed_time": 17.33619043,
                        "remaining_time": 1.067408753,
                        "test": [
                          0.8011545635,
                          0.396696727
                        ]
                      },
                      {
                        "learn": [
                          0.8419651888,
                          0.3469684601
                        ],
                        "iteration": 942,
                        "passed_time": 17.38740485,
                        "remaining_time": 1.050988416,
                        "test": [
                          0.8011545635,
                          0.3967071153
                        ]
                      },
                      {
                        "learn": [
                          0.8420410728,
                          0.346958029
                        ],
                        "iteration": 943,
                        "passed_time": 17.49607148,
                        "remaining_time": 1.037902546,
                        "test": [
                          0.8011545635,
                          0.3967482681
                        ]
                      },
                      {
                        "learn": [
                          0.8421548989,
                          0.3469431741
                        ],
                        "iteration": 944,
                        "passed_time": 17.57555064,
                        "remaining_time": 1.022915646,
                        "test": [
                          0.8013056724,
                          0.3967960031
                        ]
                      },
                      {
                        "learn": [
                          0.8421548989,
                          0.3469363927
                        ],
                        "iteration": 945,
                        "passed_time": 17.63134212,
                        "remaining_time": 1.006440248,
                        "test": [
                          0.8013056724,
                          0.3968296774
                        ]
                      },
                      {
                        "learn": [
                          0.8421548989,
                          0.3469244183
                        ],
                        "iteration": 946,
                        "passed_time": 17.69373785,
                        "remaining_time": 0.9902514317,
                        "test": [
                          0.8013056724,
                          0.396809237
                        ]
                      },
                      {
                        "learn": [
                          0.8421548989,
                          0.3469181047
                        ],
                        "iteration": 947,
                        "passed_time": 17.73532343,
                        "remaining_time": 0.9728236483,
                        "test": [
                          0.8013056724,
                          0.3968469232
                        ]
                      },
                      {
                        "learn": [
                          0.8421548989,
                          0.3469140792
                        ],
                        "iteration": 948,
                        "passed_time": 17.79585807,
                        "remaining_time": 0.9563632894,
                        "test": [
                          0.8013056724,
                          0.3968657365
                        ]
                      },
                      {
                        "learn": [
                          0.842230783,
                          0.3469089632
                        ],
                        "iteration": 949,
                        "passed_time": 17.83279117,
                        "remaining_time": 0.9385679562,
                        "test": [
                          0.8007222503,
                          0.3968776163
                        ]
                      },
                      {
                        "learn": [
                          0.8421548989,
                          0.3468952095
                        ],
                        "iteration": 950,
                        "passed_time": 17.87204564,
                        "remaining_time": 0.9208519834,
                        "test": [
                          0.8013056724,
                          0.3969170321
                        ]
                      },
                      {
                        "learn": [
                          0.8421548989,
                          0.3468821212
                        ],
                        "iteration": 951,
                        "passed_time": 17.9629657,
                        "remaining_time": 0.9056957495,
                        "test": [
                          0.8013056724,
                          0.396983463
                        ]
                      },
                      {
                        "learn": [
                          0.8421548989,
                          0.3468701889
                        ],
                        "iteration": 952,
                        "passed_time": 18.04501614,
                        "remaining_time": 0.8899430833,
                        "test": [
                          0.8013056724,
                          0.3970224709
                        ]
                      },
                      {
                        "learn": [
                          0.8421548989,
                          0.3468623472
                        ],
                        "iteration": 953,
                        "passed_time": 18.12459589,
                        "remaining_time": 0.8739322964,
                        "test": [
                          0.8013056724,
                          0.3970577507
                        ]
                      },
                      {
                        "learn": [
                          0.8421548989,
                          0.3468590624
                        ],
                        "iteration": 954,
                        "passed_time": 18.1680025,
                        "remaining_time": 0.8560838873,
                        "test": [
                          0.8013056724,
                          0.3970667352
                        ]
                      },
                      {
                        "learn": [
                          0.8421548989,
                          0.3468494153
                        ],
                        "iteration": 955,
                        "passed_time": 18.23821339,
                        "remaining_time": 0.8394156792,
                        "test": [
                          0.8013056724,
                          0.3971196106
                        ]
                      },
                      {
                        "learn": [
                          0.8421548989,
                          0.3468469202
                        ],
                        "iteration": 956,
                        "passed_time": 18.2900895,
                        "remaining_time": 0.8218117537,
                        "test": [
                          0.8013056724,
                          0.397132526
                        ]
                      },
                      {
                        "learn": [
                          0.842230783,
                          0.3468412911
                        ],
                        "iteration": 957,
                        "passed_time": 18.37317267,
                        "remaining_time": 0.8055044387,
                        "test": [
                          0.8007222503,
                          0.3971463765
                        ]
                      },
                      {
                        "learn": [
                          0.8421548989,
                          0.3468355358
                        ],
                        "iteration": 958,
                        "passed_time": 18.44052621,
                        "remaining_time": 0.7883853752,
                        "test": [
                          0.8013056724,
                          0.3971750896
                        ]
                      },
                      {
                        "learn": [
                          0.8421548989,
                          0.346823171
                        ],
                        "iteration": 959,
                        "passed_time": 18.50910943,
                        "remaining_time": 0.7712128929,
                        "test": [
                          0.8013056724,
                          0.3972016362
                        ]
                      },
                      {
                        "learn": [
                          0.8421548989,
                          0.3468164081
                        ],
                        "iteration": 960,
                        "passed_time": 18.57248005,
                        "remaining_time": 0.7537218751,
                        "test": [
                          0.8013056724,
                          0.3972406053
                        ]
                      },
                      {
                        "learn": [
                          0.8421548989,
                          0.3468021996
                        ],
                        "iteration": 961,
                        "passed_time": 18.62199083,
                        "remaining_time": 0.7355879955,
                        "test": [
                          0.8013056724,
                          0.3972689041
                        ]
                      },
                      {
                        "learn": [
                          0.8421548989,
                          0.3467987649
                        ],
                        "iteration": 962,
                        "passed_time": 18.6795372,
                        "remaining_time": 0.7176976909,
                        "test": [
                          0.8013056724,
                          0.3972670799
                        ]
                      },
                      {
                        "learn": [
                          0.8421548989,
                          0.3467895012
                        ],
                        "iteration": 963,
                        "passed_time": 18.71448138,
                        "remaining_time": 0.6988810472,
                        "test": [
                          0.8013056724,
                          0.3972878133
                        ]
                      },
                      {
                        "learn": [
                          0.8421548989,
                          0.3467797134
                        ],
                        "iteration": 964,
                        "passed_time": 18.7500187,
                        "remaining_time": 0.6800524919,
                        "test": [
                          0.8013056724,
                          0.3972856371
                        ]
                      },
                      {
                        "learn": [
                          0.8421548989,
                          0.3467711037
                        ],
                        "iteration": 965,
                        "passed_time": 18.78079433,
                        "remaining_time": 0.6610217464,
                        "test": [
                          0.8013056724,
                          0.3973031971
                        ]
                      },
                      {
                        "learn": [
                          0.842230783,
                          0.3467593889
                        ],
                        "iteration": 966,
                        "passed_time": 18.82911414,
                        "remaining_time": 0.6425654258,
                        "test": [
                          0.8013056724,
                          0.3973354813
                        ]
                      },
                      {
                        "learn": [
                          0.8421548989,
                          0.346753768
                        ],
                        "iteration": 967,
                        "passed_time": 18.86453768,
                        "remaining_time": 0.6236210804,
                        "test": [
                          0.8013056724,
                          0.3973657421
                        ]
                      },
                      {
                        "learn": [
                          0.8422255066,
                          0.3467408753
                        ],
                        "iteration": 968,
                        "passed_time": 18.89941521,
                        "remaining_time": 0.6046252544,
                        "test": [
                          0.8013056724,
                          0.3974251125
                        ]
                      },
                      {
                        "learn": [
                          0.8421548989,
                          0.346735935
                        ],
                        "iteration": 969,
                        "passed_time": 18.93230996,
                        "remaining_time": 0.5855353597,
                        "test": [
                          0.8013056724,
                          0.3974497671
                        ]
                      },
                      {
                        "learn": [
                          0.8421548989,
                          0.3467284353
                        ],
                        "iteration": 970,
                        "passed_time": 18.9650648,
                        "remaining_time": 0.5664128518,
                        "test": [
                          0.8013056724,
                          0.3974818459
                        ]
                      },
                      {
                        "learn": [
                          0.8421548989,
                          0.3467212851
                        ],
                        "iteration": 971,
                        "passed_time": 19.00019996,
                        "remaining_time": 0.5473308629,
                        "test": [
                          0.8013056724,
                          0.3975127099
                        ]
                      },
                      {
                        "learn": [
                          0.842230783,
                          0.346710763
                        ],
                        "iteration": 972,
                        "passed_time": 19.03188029,
                        "remaining_time": 0.528120008,
                        "test": [
                          0.8013056724,
                          0.3975772395
                        ]
                      },
                      {
                        "learn": [
                          0.8421548989,
                          0.3467035322
                        ],
                        "iteration": 973,
                        "passed_time": 19.06686989,
                        "remaining_time": 0.5089718862,
                        "test": [
                          0.8013056724,
                          0.3976100241
                        ]
                      },
                      {
                        "learn": [
                          0.842230783,
                          0.3466896117
                        ],
                        "iteration": 974,
                        "passed_time": 19.08527959,
                        "remaining_time": 0.4893661433,
                        "test": [
                          0.8013056724,
                          0.3976040109
                        ]
                      },
                      {
                        "learn": [
                          0.842230783,
                          0.3466839615
                        ],
                        "iteration": 975,
                        "passed_time": 19.1080869,
                        "remaining_time": 0.4698709893,
                        "test": [
                          0.8013056724,
                          0.3976264095
                        ]
                      },
                      {
                        "learn": [
                          0.842230783,
                          0.3466771744
                        ],
                        "iteration": 976,
                        "passed_time": 19.13097972,
                        "remaining_time": 0.4503710682,
                        "test": [
                          0.8013056724,
                          0.3976719717
                        ]
                      },
                      {
                        "learn": [
                          0.842230783,
                          0.3466697311
                        ],
                        "iteration": 977,
                        "passed_time": 19.15074312,
                        "remaining_time": 0.4307938125,
                        "test": [
                          0.8013056724,
                          0.397707037
                        ]
                      },
                      {
                        "learn": [
                          0.842230783,
                          0.3466634496
                        ],
                        "iteration": 978,
                        "passed_time": 19.18175149,
                        "remaining_time": 0.4114573864,
                        "test": [
                          0.8013056724,
                          0.3977332295
                        ]
                      },
                      {
                        "learn": [
                          0.842230783,
                          0.3466579079
                        ],
                        "iteration": 979,
                        "passed_time": 19.21548194,
                        "remaining_time": 0.3921526926,
                        "test": [
                          0.8013056724,
                          0.3977545251
                        ]
                      },
                      {
                        "learn": [
                          0.842230783,
                          0.3466508158
                        ],
                        "iteration": 980,
                        "passed_time": 19.26342326,
                        "remaining_time": 0.3730938246,
                        "test": [
                          0.8013056724,
                          0.3977977776
                        ]
                      },
                      {
                        "learn": [
                          0.8423013907,
                          0.3466444902
                        ],
                        "iteration": 981,
                        "passed_time": 19.2933564,
                        "remaining_time": 0.353646044,
                        "test": [
                          0.8013056724,
                          0.3978409799
                        ]
                      },
                      {
                        "learn": [
                          0.8424152168,
                          0.3466361204
                        ],
                        "iteration": 982,
                        "passed_time": 19.32562872,
                        "remaining_time": 0.3342173838,
                        "test": [
                          0.8014567814,
                          0.3978680977
                        ]
                      },
                      {
                        "learn": [
                          0.8424152168,
                          0.3466277195
                        ],
                        "iteration": 983,
                        "passed_time": 19.35982348,
                        "remaining_time": 0.3147938777,
                        "test": [
                          0.8014567814,
                          0.3979016466
                        ]
                      },
                      {
                        "learn": [
                          0.8424152168,
                          0.3466154259
                        ],
                        "iteration": 984,
                        "passed_time": 19.41297686,
                        "remaining_time": 0.2956290893,
                        "test": [
                          0.8014567814,
                          0.3979303197
                        ]
                      },
                      {
                        "learn": [
                          0.8424152168,
                          0.3466054512
                        ],
                        "iteration": 985,
                        "passed_time": 19.4555856,
                        "remaining_time": 0.2762456374,
                        "test": [
                          0.8014567814,
                          0.3979583445
                        ]
                      },
                      {
                        "learn": [
                          0.8424152168,
                          0.3466005664
                        ],
                        "iteration": 986,
                        "passed_time": 19.48925921,
                        "remaining_time": 0.2566974364,
                        "test": [
                          0.8014567814,
                          0.3979705045
                        ]
                      },
                      {
                        "learn": [
                          0.8424152168,
                          0.3465893388
                        ],
                        "iteration": 987,
                        "passed_time": 19.51810693,
                        "remaining_time": 0.2370620275,
                        "test": [
                          0.8014567814,
                          0.398017833
                        ]
                      },
                      {
                        "learn": [
                          0.8424152168,
                          0.3465812206
                        ],
                        "iteration": 988,
                        "passed_time": 19.57330787,
                        "remaining_time": 0.2177010987,
                        "test": [
                          0.8014567814,
                          0.3980448831
                        ]
                      },
                      {
                        "learn": [
                          0.8424152168,
                          0.3465666455
                        ],
                        "iteration": 989,
                        "passed_time": 19.63060047,
                        "remaining_time": 0.1982888936,
                        "test": [
                          0.8014567814,
                          0.3980507238
                        ]
                      },
                      {
                        "learn": [
                          0.8424152168,
                          0.3465637173
                        ],
                        "iteration": 990,
                        "passed_time": 19.69483615,
                        "remaining_time": 0.178863295,
                        "test": [
                          0.8014567814,
                          0.3980548449
                        ]
                      },
                      {
                        "learn": [
                          0.8424152168,
                          0.346556135
                        ],
                        "iteration": 991,
                        "passed_time": 19.79815062,
                        "remaining_time": 0.159662505,
                        "test": [
                          0.8014567814,
                          0.3980913832
                        ]
                      },
                      {
                        "learn": [
                          0.8424152168,
                          0.3465495924
                        ],
                        "iteration": 992,
                        "passed_time": 19.8378293,
                        "remaining_time": 0.1398437111,
                        "test": [
                          0.8014567814,
                          0.3980839547
                        ]
                      },
                      {
                        "learn": [
                          0.8424152168,
                          0.3465447592
                        ],
                        "iteration": 993,
                        "passed_time": 19.87716853,
                        "remaining_time": 0.1199829086,
                        "test": [
                          0.8014567814,
                          0.3981053457
                        ]
                      },
                      {
                        "learn": [
                          0.8424152168,
                          0.3465340691
                        ],
                        "iteration": 994,
                        "passed_time": 19.89490547,
                        "remaining_time": 0.09997439937,
                        "test": [
                          0.8014567814,
                          0.3981453468
                        ]
                      },
                      {
                        "learn": [
                          0.8424204931,
                          0.3465229388
                        ],
                        "iteration": 995,
                        "passed_time": 19.9156898,
                        "remaining_time": 0.07998268997,
                        "test": [
                          0.8008733592,
                          0.3981855533
                        ]
                      },
                      {
                        "learn": [
                          0.842344609,
                          0.3465184556
                        ],
                        "iteration": 996,
                        "passed_time": 19.94850664,
                        "remaining_time": 0.0600255967,
                        "test": [
                          0.8008733592,
                          0.3982056375
                        ]
                      },
                      {
                        "learn": [
                          0.8424152168,
                          0.3465140463
                        ],
                        "iteration": 997,
                        "passed_time": 19.98567271,
                        "remaining_time": 0.04005144832,
                        "test": [
                          0.8008733592,
                          0.3982330705
                        ]
                      },
                      {
                        "learn": [
                          0.8424152168,
                          0.3465083871
                        ],
                        "iteration": 998,
                        "passed_time": 20.01887253,
                        "remaining_time": 0.02003891144,
                        "test": [
                          0.8008733592,
                          0.3982531921
                        ]
                      },
                      {
                        "learn": [
                          0.8424152168,
                          0.3465067951
                        ],
                        "iteration": 999,
                        "passed_time": 20.05833023,
                        "remaining_time": 0,
                        "test": [
                          0.8008733592,
                          0.3982592049
                        ]
                      }
                    ],
                    "meta": {
                      "test_sets": [
                        "test"
                      ],
                      "test_metrics": [
                        {
                          "best_value": "Max",
                          "name": "Accuracy"
                        },
                        {
                          "best_value": "Min",
                          "name": "MultiClass"
                        }
                      ],
                      "learn_metrics": [
                        {
                          "best_value": "Max",
                          "name": "Accuracy"
                        },
                        {
                          "best_value": "Min",
                          "name": "MultiClass"
                        }
                      ],
                      "launch_mode": "Train",
                      "parameters": "",
                      "iteration_count": 1000,
                      "learn_sets": [
                        "learn"
                      ],
                      "name": "experiment"
                    }
                  }
                }
              }
            },
            "layout": "IPY_MODEL_524ca9dbd8e7415383721a2d5baa34b1"
          }
        }
      }
    }
  },
  "cells": [
    {
      "cell_type": "markdown",
      "metadata": {
        "id": "view-in-github",
        "colab_type": "text"
      },
      "source": [
        "<a href=\"https://colab.research.google.com/github/vandant1/MyPortfoliodotcom/blob/main/Fault_Detection_in_Transmission_Line4.ipynb\" target=\"_parent\"><img src=\"https://colab.research.google.com/assets/colab-badge.svg\" alt=\"Open In Colab\"/></a>"
      ]
    },
    {
      "cell_type": "code",
      "execution_count": null,
      "metadata": {
        "colab": {
          "base_uri": "https://localhost:8080/",
          "height": 108
        },
        "id": "-Otz3uSQXZcH",
        "outputId": "ab0333d6-9bf5-44f1-980c-675bb02baddc"
      },
      "outputs": [
        {
          "output_type": "display_data",
          "data": {
            "text/plain": [
              "<IPython.core.display.HTML object>"
            ],
            "text/html": [
              "\n",
              "     <input type=\"file\" id=\"files-84bb3a98-bd28-4180-afb3-5e52b9e012b5\" name=\"files[]\" multiple disabled\n",
              "        style=\"border:none\" />\n",
              "     <output id=\"result-84bb3a98-bd28-4180-afb3-5e52b9e012b5\">\n",
              "      Upload widget is only available when the cell has been executed in the\n",
              "      current browser session. Please rerun this cell to enable.\n",
              "      </output>\n",
              "      <script>// Copyright 2017 Google LLC\n",
              "//\n",
              "// Licensed under the Apache License, Version 2.0 (the \"License\");\n",
              "// you may not use this file except in compliance with the License.\n",
              "// You may obtain a copy of the License at\n",
              "//\n",
              "//      http://www.apache.org/licenses/LICENSE-2.0\n",
              "//\n",
              "// Unless required by applicable law or agreed to in writing, software\n",
              "// distributed under the License is distributed on an \"AS IS\" BASIS,\n",
              "// WITHOUT WARRANTIES OR CONDITIONS OF ANY KIND, either express or implied.\n",
              "// See the License for the specific language governing permissions and\n",
              "// limitations under the License.\n",
              "\n",
              "/**\n",
              " * @fileoverview Helpers for google.colab Python module.\n",
              " */\n",
              "(function(scope) {\n",
              "function span(text, styleAttributes = {}) {\n",
              "  const element = document.createElement('span');\n",
              "  element.textContent = text;\n",
              "  for (const key of Object.keys(styleAttributes)) {\n",
              "    element.style[key] = styleAttributes[key];\n",
              "  }\n",
              "  return element;\n",
              "}\n",
              "\n",
              "// Max number of bytes which will be uploaded at a time.\n",
              "const MAX_PAYLOAD_SIZE = 100 * 1024;\n",
              "\n",
              "function _uploadFiles(inputId, outputId) {\n",
              "  const steps = uploadFilesStep(inputId, outputId);\n",
              "  const outputElement = document.getElementById(outputId);\n",
              "  // Cache steps on the outputElement to make it available for the next call\n",
              "  // to uploadFilesContinue from Python.\n",
              "  outputElement.steps = steps;\n",
              "\n",
              "  return _uploadFilesContinue(outputId);\n",
              "}\n",
              "\n",
              "// This is roughly an async generator (not supported in the browser yet),\n",
              "// where there are multiple asynchronous steps and the Python side is going\n",
              "// to poll for completion of each step.\n",
              "// This uses a Promise to block the python side on completion of each step,\n",
              "// then passes the result of the previous step as the input to the next step.\n",
              "function _uploadFilesContinue(outputId) {\n",
              "  const outputElement = document.getElementById(outputId);\n",
              "  const steps = outputElement.steps;\n",
              "\n",
              "  const next = steps.next(outputElement.lastPromiseValue);\n",
              "  return Promise.resolve(next.value.promise).then((value) => {\n",
              "    // Cache the last promise value to make it available to the next\n",
              "    // step of the generator.\n",
              "    outputElement.lastPromiseValue = value;\n",
              "    return next.value.response;\n",
              "  });\n",
              "}\n",
              "\n",
              "/**\n",
              " * Generator function which is called between each async step of the upload\n",
              " * process.\n",
              " * @param {string} inputId Element ID of the input file picker element.\n",
              " * @param {string} outputId Element ID of the output display.\n",
              " * @return {!Iterable<!Object>} Iterable of next steps.\n",
              " */\n",
              "function* uploadFilesStep(inputId, outputId) {\n",
              "  const inputElement = document.getElementById(inputId);\n",
              "  inputElement.disabled = false;\n",
              "\n",
              "  const outputElement = document.getElementById(outputId);\n",
              "  outputElement.innerHTML = '';\n",
              "\n",
              "  const pickedPromise = new Promise((resolve) => {\n",
              "    inputElement.addEventListener('change', (e) => {\n",
              "      resolve(e.target.files);\n",
              "    });\n",
              "  });\n",
              "\n",
              "  const cancel = document.createElement('button');\n",
              "  inputElement.parentElement.appendChild(cancel);\n",
              "  cancel.textContent = 'Cancel upload';\n",
              "  const cancelPromise = new Promise((resolve) => {\n",
              "    cancel.onclick = () => {\n",
              "      resolve(null);\n",
              "    };\n",
              "  });\n",
              "\n",
              "  // Wait for the user to pick the files.\n",
              "  const files = yield {\n",
              "    promise: Promise.race([pickedPromise, cancelPromise]),\n",
              "    response: {\n",
              "      action: 'starting',\n",
              "    }\n",
              "  };\n",
              "\n",
              "  cancel.remove();\n",
              "\n",
              "  // Disable the input element since further picks are not allowed.\n",
              "  inputElement.disabled = true;\n",
              "\n",
              "  if (!files) {\n",
              "    return {\n",
              "      response: {\n",
              "        action: 'complete',\n",
              "      }\n",
              "    };\n",
              "  }\n",
              "\n",
              "  for (const file of files) {\n",
              "    const li = document.createElement('li');\n",
              "    li.append(span(file.name, {fontWeight: 'bold'}));\n",
              "    li.append(span(\n",
              "        `(${file.type || 'n/a'}) - ${file.size} bytes, ` +\n",
              "        `last modified: ${\n",
              "            file.lastModifiedDate ? file.lastModifiedDate.toLocaleDateString() :\n",
              "                                    'n/a'} - `));\n",
              "    const percent = span('0% done');\n",
              "    li.appendChild(percent);\n",
              "\n",
              "    outputElement.appendChild(li);\n",
              "\n",
              "    const fileDataPromise = new Promise((resolve) => {\n",
              "      const reader = new FileReader();\n",
              "      reader.onload = (e) => {\n",
              "        resolve(e.target.result);\n",
              "      };\n",
              "      reader.readAsArrayBuffer(file);\n",
              "    });\n",
              "    // Wait for the data to be ready.\n",
              "    let fileData = yield {\n",
              "      promise: fileDataPromise,\n",
              "      response: {\n",
              "        action: 'continue',\n",
              "      }\n",
              "    };\n",
              "\n",
              "    // Use a chunked sending to avoid message size limits. See b/62115660.\n",
              "    let position = 0;\n",
              "    do {\n",
              "      const length = Math.min(fileData.byteLength - position, MAX_PAYLOAD_SIZE);\n",
              "      const chunk = new Uint8Array(fileData, position, length);\n",
              "      position += length;\n",
              "\n",
              "      const base64 = btoa(String.fromCharCode.apply(null, chunk));\n",
              "      yield {\n",
              "        response: {\n",
              "          action: 'append',\n",
              "          file: file.name,\n",
              "          data: base64,\n",
              "        },\n",
              "      };\n",
              "\n",
              "      let percentDone = fileData.byteLength === 0 ?\n",
              "          100 :\n",
              "          Math.round((position / fileData.byteLength) * 100);\n",
              "      percent.textContent = `${percentDone}% done`;\n",
              "\n",
              "    } while (position < fileData.byteLength);\n",
              "  }\n",
              "\n",
              "  // All done.\n",
              "  yield {\n",
              "    response: {\n",
              "      action: 'complete',\n",
              "    }\n",
              "  };\n",
              "}\n",
              "\n",
              "scope.google = scope.google || {};\n",
              "scope.google.colab = scope.google.colab || {};\n",
              "scope.google.colab._files = {\n",
              "  _uploadFiles,\n",
              "  _uploadFilesContinue,\n",
              "};\n",
              "})(self);\n",
              "</script> "
            ]
          },
          "metadata": {}
        },
        {
          "output_type": "stream",
          "name": "stdout",
          "text": [
            "Saving classData.csv to classData.csv\n",
            "Saving detect_dataset.csv to detect_dataset.csv\n"
          ]
        }
      ],
      "source": [
        "# Step 1: Upload Files to Colab Temporary Storage\n",
        "from google.colab import files\n",
        "uploaded = files.upload()"
      ]
    },
    {
      "cell_type": "code",
      "source": [
        "!pip install catboost"
      ],
      "metadata": {
        "colab": {
          "base_uri": "https://localhost:8080/"
        },
        "id": "qGS67DRRYoxJ",
        "outputId": "3e310520-ea07-4085-a357-5be72e56bd18"
      },
      "execution_count": null,
      "outputs": [
        {
          "output_type": "stream",
          "name": "stdout",
          "text": [
            "Collecting catboost\n",
            "  Downloading catboost-1.2.7-cp311-cp311-manylinux2014_x86_64.whl.metadata (1.2 kB)\n",
            "Requirement already satisfied: graphviz in /usr/local/lib/python3.11/dist-packages (from catboost) (0.20.3)\n",
            "Requirement already satisfied: matplotlib in /usr/local/lib/python3.11/dist-packages (from catboost) (3.10.0)\n",
            "Requirement already satisfied: numpy<2.0,>=1.16.0 in /usr/local/lib/python3.11/dist-packages (from catboost) (1.26.4)\n",
            "Requirement already satisfied: pandas>=0.24 in /usr/local/lib/python3.11/dist-packages (from catboost) (2.2.2)\n",
            "Requirement already satisfied: scipy in /usr/local/lib/python3.11/dist-packages (from catboost) (1.13.1)\n",
            "Requirement already satisfied: plotly in /usr/local/lib/python3.11/dist-packages (from catboost) (5.24.1)\n",
            "Requirement already satisfied: six in /usr/local/lib/python3.11/dist-packages (from catboost) (1.17.0)\n",
            "Requirement already satisfied: python-dateutil>=2.8.2 in /usr/local/lib/python3.11/dist-packages (from pandas>=0.24->catboost) (2.8.2)\n",
            "Requirement already satisfied: pytz>=2020.1 in /usr/local/lib/python3.11/dist-packages (from pandas>=0.24->catboost) (2024.2)\n",
            "Requirement already satisfied: tzdata>=2022.7 in /usr/local/lib/python3.11/dist-packages (from pandas>=0.24->catboost) (2024.2)\n",
            "Requirement already satisfied: contourpy>=1.0.1 in /usr/local/lib/python3.11/dist-packages (from matplotlib->catboost) (1.3.1)\n",
            "Requirement already satisfied: cycler>=0.10 in /usr/local/lib/python3.11/dist-packages (from matplotlib->catboost) (0.12.1)\n",
            "Requirement already satisfied: fonttools>=4.22.0 in /usr/local/lib/python3.11/dist-packages (from matplotlib->catboost) (4.55.3)\n",
            "Requirement already satisfied: kiwisolver>=1.3.1 in /usr/local/lib/python3.11/dist-packages (from matplotlib->catboost) (1.4.8)\n",
            "Requirement already satisfied: packaging>=20.0 in /usr/local/lib/python3.11/dist-packages (from matplotlib->catboost) (24.2)\n",
            "Requirement already satisfied: pillow>=8 in /usr/local/lib/python3.11/dist-packages (from matplotlib->catboost) (11.1.0)\n",
            "Requirement already satisfied: pyparsing>=2.3.1 in /usr/local/lib/python3.11/dist-packages (from matplotlib->catboost) (3.2.1)\n",
            "Requirement already satisfied: tenacity>=6.2.0 in /usr/local/lib/python3.11/dist-packages (from plotly->catboost) (9.0.0)\n",
            "Downloading catboost-1.2.7-cp311-cp311-manylinux2014_x86_64.whl (98.7 MB)\n",
            "\u001b[2K   \u001b[90m━━━━━━━━━━━━━━━━━━━━━━━━━━━━━━━━━━━━━━━━\u001b[0m \u001b[32m98.7/98.7 MB\u001b[0m \u001b[31m8.7 MB/s\u001b[0m eta \u001b[36m0:00:00\u001b[0m\n",
            "\u001b[?25hInstalling collected packages: catboost\n",
            "Successfully installed catboost-1.2.7\n"
          ]
        }
      ]
    },
    {
      "cell_type": "code",
      "source": [
        "import pandas as pd\n",
        "import numpy as np\n",
        "from sklearn.model_selection import train_test_split\n",
        "from sklearn.preprocessing import StandardScaler, OneHotEncoder\n",
        "from sklearn.utils.class_weight import compute_class_weight\n",
        "from catboost import CatBoostClassifier\n",
        "from sklearn.metrics import accuracy_score, classification_report"
      ],
      "metadata": {
        "id": "aY0mJBmEXbW8"
      },
      "execution_count": null,
      "outputs": []
    },
    {
      "cell_type": "code",
      "source": [
        "# Step 2: Load and Inspect Datasets\n",
        "# Load datasets\n",
        "detect_dataset = pd.read_csv('detect_dataset.csv')\n",
        "class_data = pd.read_csv('classData.csv')\n"
      ],
      "metadata": {
        "id": "IT03DNngXbbH"
      },
      "execution_count": null,
      "outputs": []
    },
    {
      "cell_type": "code",
      "source": [
        "# Combine Datasets\n",
        "detect_dataset['G'] = 0\n",
        "detect_dataset['C'] = 0\n",
        "detect_dataset['B'] = 0\n",
        "detect_dataset['A'] = detect_dataset['Output (S)']\n",
        "combined_data = pd.concat([detect_dataset, class_data], ignore_index=True)"
      ],
      "metadata": {
        "id": "0cfKm0AMXbcs"
      },
      "execution_count": null,
      "outputs": []
    },
    {
      "cell_type": "code",
      "source": [
        "# Drop unnecessary columns\n",
        "combined_data.drop(columns=['Unnamed: 7', 'Unnamed: 8'], inplace=True)"
      ],
      "metadata": {
        "id": "bJ16VDBEXbeY"
      },
      "execution_count": null,
      "outputs": []
    },
    {
      "cell_type": "code",
      "source": [
        "\n",
        "# Fill missing values\n",
        "combined_data.fillna(0, inplace=True)"
      ],
      "metadata": {
        "id": "Gew5hTRFXbgS"
      },
      "execution_count": null,
      "outputs": []
    },
    {
      "cell_type": "code",
      "source": [
        "# Step 3: Add Fault Distance Column\n",
        "Z_line = 0.021  # Impedance per unit length (Ohms per meter)\n",
        "\n",
        "def calculate_fault_distance(row):\n",
        "    return abs(row['Va']) / (abs(row['Ia']) * Z_line) if row['Ia'] != 0 else 0\n",
        "\n",
        "combined_data['fault_distance'] = combined_data.apply(calculate_fault_distance, axis=1)\n",
        "combined_data['fault_distance'] = combined_data['fault_distance'].clip(lower=0, upper=7)\n",
        "\n"
      ],
      "metadata": {
        "id": "GviRQKb4XbjZ"
      },
      "execution_count": null,
      "outputs": []
    },
    {
      "cell_type": "code",
      "source": [
        "# Step 4: Normalize Features\n",
        "features = ['Ia', 'Ib', 'Ic', 'Va', 'Vb', 'Vc', 'fault_distance']\n",
        "scaler = StandardScaler()\n",
        "combined_data[features] = scaler.fit_transform(combined_data[features])"
      ],
      "metadata": {
        "id": "gVZLhnaCXbk8"
      },
      "execution_count": null,
      "outputs": []
    },
    {
      "cell_type": "code",
      "source": [
        "# Step 5: Prepare Data for Training\n",
        "# Separate features and labels\n",
        "X = combined_data[features]\n",
        "y = combined_data[['G', 'C', 'B', 'A']]"
      ],
      "metadata": {
        "id": "P9ifs-70Xbm6"
      },
      "execution_count": null,
      "outputs": []
    },
    {
      "cell_type": "code",
      "source": [
        "# One-Hot Encode Labels\n",
        "encoder = OneHotEncoder(sparse_output=False)\n",
        "y_encoded = encoder.fit_transform(y)"
      ],
      "metadata": {
        "id": "vS4DdMcEXboe"
      },
      "execution_count": null,
      "outputs": []
    },
    {
      "cell_type": "code",
      "source": [
        "# Train-Test Split\n",
        "X_train, X_test, y_train_encoded, y_test_encoded = train_test_split(X, y_encoded, test_size=0.2, random_state=42)\n"
      ],
      "metadata": {
        "id": "HNVWof0AXbqD"
      },
      "execution_count": null,
      "outputs": []
    },
    {
      "cell_type": "code",
      "source": [
        "# Step 6: Calculate Class Weights\n",
        "y_train_original = np.argmax(y_train_encoded, axis=1)\n",
        "class_weights = compute_class_weight(class_weight='balanced', classes=np.unique(y_train_original), y=y_train_original)\n"
      ],
      "metadata": {
        "id": "T5D4n_HGXbrk"
      },
      "execution_count": null,
      "outputs": []
    },
    {
      "cell_type": "code",
      "source": [
        "# Convert One-Hot Encoded Labels Back to Class Indices\n",
        "y_train_single = np.argmax(y_train_encoded, axis=1)  # Convert to single column\n",
        "y_test_single = np.argmax(y_test_encoded, axis=1)\n",
        "\n",
        "# Reinitialize CatBoost Model for Multi-Class Classification\n",
        "cat_model = CatBoostClassifier(\n",
        "    iterations=1000,\n",
        "    learning_rate=0.05,\n",
        "    depth=8,\n",
        "    loss_function='MultiClass',  # Multi-class classification\n",
        "    eval_metric='Accuracy',\n",
        "    class_weights=class_weights.tolist(),\n",
        "    random_state=42,\n",
        "    verbose=100\n",
        ")\n",
        "\n",
        "print(\"Starting Model Training...\")\n",
        "cat_model.fit(X_train, y_train_single, eval_set=(X_test, y_test_single), plot=True)\n",
        "\n",
        "# Evaluate the Model\n",
        "y_pred = cat_model.predict(X_test)\n",
        "accuracy = accuracy_score(y_test_single, y_pred)\n",
        "print(f\"CatBoost Model Accuracy: {accuracy * 100:.2f}%\")\n",
        "print(\"\\nClassification Report:\")\n",
        "print(classification_report(y_test_single, y_pred))\n"
      ],
      "metadata": {
        "colab": {
          "base_uri": "https://localhost:8080/",
          "height": 520,
          "referenced_widgets": [
            "14e2a74ca27a4f79902659d52af35d9b"
          ]
        },
        "id": "Rismg6LmXbtc",
        "outputId": "eec72da9-3dec-4065-8142-39ae3233930f"
      },
      "execution_count": null,
      "outputs": [
        {
          "output_type": "stream",
          "name": "stdout",
          "text": [
            "Starting Model Training...\n"
          ]
        },
        {
          "output_type": "display_data",
          "data": {
            "text/plain": [
              "MetricVisualizer(layout=Layout(align_self='stretch', height='500px'))"
            ],
            "application/vnd.jupyter.widget-view+json": {
              "version_major": 2,
              "version_minor": 0,
              "model_id": "14e2a74ca27a4f79902659d52af35d9b"
            }
          },
          "metadata": {}
        },
        {
          "output_type": "stream",
          "name": "stdout",
          "text": [
            "0:\tlearn: 0.8201985\ttest: 0.8163906\tbest: 0.8163906 (0)\ttotal: 65.8ms\tremaining: 1m 5s\n",
            "100:\tlearn: 0.8309464\ttest: 0.8269722\tbest: 0.8269722 (96)\ttotal: 1.63s\tremaining: 14.5s\n",
            "200:\tlearn: 0.8342662\ttest: 0.8310982\tbest: 0.8310982 (197)\ttotal: 3.85s\tremaining: 15.3s\n",
            "300:\tlearn: 0.8361485\ttest: 0.8275557\tbest: 0.8310982 (197)\ttotal: 6.08s\tremaining: 14.1s\n",
            "400:\tlearn: 0.8375639\ttest: 0.8222628\tbest: 0.8310982 (197)\ttotal: 7.6s\tremaining: 11.4s\n",
            "500:\tlearn: 0.8384313\ttest: 0.8188924\tbest: 0.8310982 (197)\ttotal: 9.18s\tremaining: 9.14s\n",
            "600:\tlearn: 0.8394557\ttest: 0.8161054\tbest: 0.8310982 (197)\ttotal: 10.7s\tremaining: 7.14s\n",
            "700:\tlearn: 0.8401492\ttest: 0.8114170\tbest: 0.8310982 (197)\ttotal: 12.3s\tremaining: 5.26s\n",
            "800:\tlearn: 0.8407458\ttest: 0.8087811\tbest: 0.8310982 (197)\ttotal: 13.9s\tremaining: 3.44s\n",
            "900:\tlearn: 0.8416617\ttest: 0.8035093\tbest: 0.8310982 (197)\ttotal: 15.7s\tremaining: 1.72s\n",
            "999:\tlearn: 0.8424152\ttest: 0.8008734\tbest: 0.8310982 (197)\ttotal: 20.1s\tremaining: 0us\n",
            "\n",
            "bestTest = 0.8310982156\n",
            "bestIteration = 197\n",
            "\n",
            "Shrink model to first 198 iterations.\n",
            "CatBoost Model Accuracy: 72.74%\n",
            "\n",
            "Classification Report:\n",
            "              precision    recall  f1-score   support\n",
            "\n",
            "           0       1.00      0.67      0.80      3288\n",
            "           1       0.39      0.99      0.56       685\n",
            "\n",
            "    accuracy                           0.73      3973\n",
            "   macro avg       0.69      0.83      0.68      3973\n",
            "weighted avg       0.89      0.73      0.76      3973\n",
            "\n"
          ]
        }
      ]
    },
    {
      "cell_type": "code",
      "source": [
        "# Evaluate the Model\n",
        "y_pred = cat_model.predict(X_test)\n",
        "accuracy = accuracy_score(y_test_single, y_pred)\n",
        "print(f\"CatBoost Model Accuracy: {accuracy * 100:.2f}%\")\n",
        "print(\"\\nClassification Report:\")\n",
        "print(classification_report(y_test_single, y_pred))\n"
      ],
      "metadata": {
        "colab": {
          "base_uri": "https://localhost:8080/"
        },
        "id": "dnTJ1ZTuXbvn",
        "outputId": "6a0e7b61-8a8f-438d-9e54-347ebf34b722"
      },
      "execution_count": null,
      "outputs": [
        {
          "output_type": "stream",
          "name": "stdout",
          "text": [
            "CatBoost Model Accuracy: 72.74%\n",
            "\n",
            "Classification Report:\n",
            "              precision    recall  f1-score   support\n",
            "\n",
            "           0       1.00      0.67      0.80      3288\n",
            "           1       0.39      0.99      0.56       685\n",
            "\n",
            "    accuracy                           0.73      3973\n",
            "   macro avg       0.69      0.83      0.68      3973\n",
            "weighted avg       0.89      0.73      0.76      3973\n",
            "\n"
          ]
        }
      ]
    },
    {
      "cell_type": "code",
      "source": [
        "# Step 9: Save the Model\n",
        "cat_model.save_model('catboost_fault_detection_model.cbm')\n",
        "print(\"Model saved successfully!\")\n"
      ],
      "metadata": {
        "colab": {
          "base_uri": "https://localhost:8080/"
        },
        "id": "PRi2dzLQXbxg",
        "outputId": "936ad519-44ea-4be7-f5af-c578f8d0b7d1"
      },
      "execution_count": null,
      "outputs": [
        {
          "output_type": "stream",
          "name": "stdout",
          "text": [
            "Model saved successfully!\n"
          ]
        }
      ]
    },
    {
      "cell_type": "code",
      "source": [
        "# Step 10: Feature Importance\n",
        "print(\"Feature Importance:\")\n",
        "feature_importances = cat_model.get_feature_importance()\n",
        "for feature, importance in zip(X.columns, feature_importances):\n",
        "    print(f\"{feature}: {importance:.2f}\")\n"
      ],
      "metadata": {
        "colab": {
          "base_uri": "https://localhost:8080/"
        },
        "id": "gwXERM60Xb1R",
        "outputId": "fb58ff98-42c4-4efe-f1b0-6530fd8aeecd"
      },
      "execution_count": null,
      "outputs": [
        {
          "output_type": "stream",
          "name": "stdout",
          "text": [
            "Feature Importance:\n",
            "Ia: 15.37\n",
            "Ib: 8.07\n",
            "Ic: 14.78\n",
            "Va: 9.63\n",
            "Vb: 6.40\n",
            "Vc: 29.61\n",
            "fault_distance: 16.13\n"
          ]
        }
      ]
    },
    {
      "cell_type": "code",
      "source": [
        "# Step 11: Download Model (Optional)\n",
        "files.download('catboost_fault_detection_model.cbm')"
      ],
      "metadata": {
        "colab": {
          "base_uri": "https://localhost:8080/",
          "height": 280
        },
        "id": "m5znsXA6XcD7",
        "outputId": "26143a3c-274e-40b1-afb2-47d2b5192a7d"
      },
      "execution_count": null,
      "outputs": [
        {
          "output_type": "error",
          "ename": "FileNotFoundError",
          "evalue": "Cannot find file: catboost_fault_detection_model.cbm",
          "traceback": [
            "\u001b[0;31m---------------------------------------------------------------------------\u001b[0m",
            "\u001b[0;31mFileNotFoundError\u001b[0m                         Traceback (most recent call last)",
            "\u001b[0;32m<ipython-input-17-68ed88e5587e>\u001b[0m in \u001b[0;36m<cell line: 0>\u001b[0;34m()\u001b[0m\n\u001b[1;32m      1\u001b[0m \u001b[0;31m# Step 11: Download Model (Optional)\u001b[0m\u001b[0;34m\u001b[0m\u001b[0;34m\u001b[0m\u001b[0m\n\u001b[0;32m----> 2\u001b[0;31m \u001b[0mfiles\u001b[0m\u001b[0;34m.\u001b[0m\u001b[0mdownload\u001b[0m\u001b[0;34m(\u001b[0m\u001b[0;34m'catboost_fault_detection_model.cbm'\u001b[0m\u001b[0;34m)\u001b[0m\u001b[0;34m\u001b[0m\u001b[0;34m\u001b[0m\u001b[0m\n\u001b[0m",
            "\u001b[0;32m/usr/local/lib/python3.11/dist-packages/google/colab/files.py\u001b[0m in \u001b[0;36mdownload\u001b[0;34m(filename)\u001b[0m\n\u001b[1;32m    231\u001b[0m   \u001b[0;32mif\u001b[0m \u001b[0;32mnot\u001b[0m \u001b[0m_os\u001b[0m\u001b[0;34m.\u001b[0m\u001b[0mpath\u001b[0m\u001b[0;34m.\u001b[0m\u001b[0mexists\u001b[0m\u001b[0;34m(\u001b[0m\u001b[0mfilename\u001b[0m\u001b[0;34m)\u001b[0m\u001b[0;34m:\u001b[0m\u001b[0;34m\u001b[0m\u001b[0;34m\u001b[0m\u001b[0m\n\u001b[1;32m    232\u001b[0m     \u001b[0mmsg\u001b[0m \u001b[0;34m=\u001b[0m \u001b[0;34m'Cannot find file: {}'\u001b[0m\u001b[0;34m.\u001b[0m\u001b[0mformat\u001b[0m\u001b[0;34m(\u001b[0m\u001b[0mfilename\u001b[0m\u001b[0;34m)\u001b[0m\u001b[0;34m\u001b[0m\u001b[0;34m\u001b[0m\u001b[0m\n\u001b[0;32m--> 233\u001b[0;31m     \u001b[0;32mraise\u001b[0m \u001b[0mFileNotFoundError\u001b[0m\u001b[0;34m(\u001b[0m\u001b[0mmsg\u001b[0m\u001b[0;34m)\u001b[0m  \u001b[0;31m# pylint: disable=undefined-variable\u001b[0m\u001b[0;34m\u001b[0m\u001b[0;34m\u001b[0m\u001b[0m\n\u001b[0m\u001b[1;32m    234\u001b[0m \u001b[0;34m\u001b[0m\u001b[0m\n\u001b[1;32m    235\u001b[0m   \u001b[0mcomm_manager\u001b[0m \u001b[0;34m=\u001b[0m \u001b[0m_IPython\u001b[0m\u001b[0;34m.\u001b[0m\u001b[0mget_ipython\u001b[0m\u001b[0;34m(\u001b[0m\u001b[0;34m)\u001b[0m\u001b[0;34m.\u001b[0m\u001b[0mkernel\u001b[0m\u001b[0;34m.\u001b[0m\u001b[0mcomm_manager\u001b[0m\u001b[0;34m\u001b[0m\u001b[0;34m\u001b[0m\u001b[0m\n",
            "\u001b[0;31mFileNotFoundError\u001b[0m: Cannot find file: catboost_fault_detection_model.cbm"
          ]
        }
      ]
    },
    {
      "cell_type": "code",
      "source": [],
      "metadata": {
        "id": "vSLuVnaLjFVA"
      },
      "execution_count": null,
      "outputs": []
    },
    {
      "cell_type": "code",
      "source": [],
      "metadata": {
        "id": "dEGfPdg7jFX7"
      },
      "execution_count": null,
      "outputs": []
    }
  ]
}